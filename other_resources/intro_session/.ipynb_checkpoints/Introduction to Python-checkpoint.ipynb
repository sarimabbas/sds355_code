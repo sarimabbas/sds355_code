{
 "cells": [
  {
   "cell_type": "markdown",
   "metadata": {},
   "source": [
    "# Jupyter Notebook structure"
   ]
  },
  {
   "cell_type": "markdown",
   "metadata": {},
   "source": [
    "Jupyter notebooks have two types of cells: one for notes/markdown (like this one) and one for code (like the next one). To run any cell and proceed to the next cell, use Shift-Enter. To run a cell and keep the focus in that cell, use Ctrl-Enter. There are two modes of each cell: Command mode (highlighted in blue on the left) and Edit mode (highlighted in green). To get a list of keyboard shortcuts for each mode, go to \"Keyboard Shortcuts\" in the above \"Help\" pulldown menu.\n",
    "\n",
    "Please note that there are <i>many</i> helpful tutorials for Python on the web. With a little Googling you should be able to find one that suits your tastes and skill level. For example, for a focus on machine learning you could look [here](https://www.quora.com/What-is-the-best-Python-tutorial-for-machine-learning). If you'd like any suggestions, let us know. \n"
   ]
  },
  {
   "cell_type": "code",
   "execution_count": 10,
   "metadata": {},
   "outputs": [
    {
     "data": {
      "text/plain": [
       "54"
      ]
     },
     "execution_count": 10,
     "metadata": {},
     "output_type": "execute_result"
    }
   ],
   "source": [
    "6*9**2 - 486 + 54"
   ]
  },
  {
   "cell_type": "markdown",
   "metadata": {},
   "source": [
    "Each cell for code can be run in any order. The notebook indicates next to it the order in which they have been run in. Code cells also have an output that is printed right below it."
   ]
  },
  {
   "cell_type": "markdown",
   "metadata": {},
   "source": [
    "## Shortcuts\n",
    "\n",
    "- `ctrl-enter` to run code of cell while keeping focus\n",
    "- `shift-enter` to run code of cell and jump to next"
   ]
  },
  {
   "cell_type": "markdown",
   "metadata": {},
   "source": [
    "# Python Syntax"
   ]
  },
  {
   "cell_type": "code",
   "execution_count": null,
   "metadata": {},
   "outputs": [],
   "source": [
    "#The symbol for comments in code is the same as in R: the '#' symbol\n",
    "euler = 2.71828     #to assign a value to a variable use the '=' symbol\n",
    "euler            #to view the value of a variable, put it as the last line of the cell"
   ]
  },
  {
   "cell_type": "markdown",
   "metadata": {},
   "source": [
    "One of the main characteristics of python is its intentional \"easy to read and write\" syntax. Many programming languages such as C, C++, Java, etc. require the use of semicolons at the end of statements. Others, including R and Python, interpret the end of a line as the end of a statement. In almost every language there is no requirement for indentations when using conditional statements and loops, and consequently there is a requirement for brackets and parenthases. In Python brackets and parenthases are kept to minimal use and indentation is a requirement."
   ]
  },
  {
   "cell_type": "code",
   "execution_count": null,
   "metadata": {},
   "outputs": [],
   "source": [
    "for i in range(5,10):    #the range(k,j) function is mostly the same as k:j in R, but is meant for loops.\n",
    "    q = i + 6 - 8  #addition and subtraction\n",
    "    q = (q*10)/4   #multiplication and division\n",
    "    print((i,q**2))    #exponentiation"
   ]
  },
  {
   "cell_type": "code",
   "execution_count": null,
   "metadata": {},
   "outputs": [],
   "source": [
    "h = 0\n",
    "while h > -15 and h <= 15:\n",
    "    h = h**2 +1\n",
    "    print(h)"
   ]
  },
  {
   "cell_type": "code",
   "execution_count": null,
   "metadata": {},
   "outputs": [],
   "source": [
    "for j in range(10):\n",
    "    if j%2 == 0 or j%7 == 0:  #if statements and modular arithmetic\n",
    "        print(j)\n",
    "    else:\n",
    "        print(\"So sad\")    "
   ]
  },
  {
   "cell_type": "markdown",
   "metadata": {},
   "source": [
    "# Lists"
   ]
  },
  {
   "cell_type": "markdown",
   "metadata": {},
   "source": [
    "Some of the most well known features of python are related to its use of lists."
   ]
  },
  {
   "cell_type": "code",
   "execution_count": null,
   "metadata": {},
   "outputs": [],
   "source": [
    "h = []    #to define a list use square brackets. This is kind of like c() in R, but is a list instead of a vector/array\n",
    "type(h)"
   ]
  },
  {
   "cell_type": "code",
   "execution_count": null,
   "metadata": {},
   "outputs": [],
   "source": [
    "h = [(i**2 +3)%5 for i in range(10)]  #this way of building a list with a loop inside the brackets is called \"list comprehension\"\n",
    "h"
   ]
  },
  {
   "cell_type": "markdown",
   "metadata": {},
   "source": [
    "The above kind of expression is very handy in Python. It's called a [list comprehension](https://docs.python.org/3/tutorial/datastructures.html#list-comprehensions)"
   ]
  },
  {
   "cell_type": "code",
   "execution_count": null,
   "metadata": {},
   "outputs": [],
   "source": [
    "len(h)    #get the length of a list with the len() function, which is equivalent to R's length() function"
   ]
  },
  {
   "cell_type": "code",
   "execution_count": null,
   "metadata": {},
   "outputs": [],
   "source": [
    "h[0]    #index a list with square brackets, with 0 (instead of 1 as in R) representing the first element"
   ]
  },
  {
   "cell_type": "code",
   "execution_count": null,
   "metadata": {},
   "outputs": [],
   "source": [
    "h[0:2]   #index a range of elements in a list with the ':' symbol which starts with the first number and goes (exclusively) to\n",
    "         #the last number"
   ]
  },
  {
   "cell_type": "code",
   "execution_count": null,
   "metadata": {},
   "outputs": [],
   "source": [
    "h[:2]    #the first number can even be left off if we start from the beginning"
   ]
  },
  {
   "cell_type": "code",
   "execution_count": null,
   "metadata": {},
   "outputs": [],
   "source": [
    "h[5:]    #and of course the last number can be left off if we go until the end"
   ]
  },
  {
   "cell_type": "code",
   "execution_count": null,
   "metadata": {},
   "outputs": [],
   "source": [
    "#What if we want to get the last element? In R we would need to do h[length(h)]. Python is a lot simpler\n",
    "print(h[len(h)-1])\n",
    "h[-1]"
   ]
  },
  {
   "cell_type": "code",
   "execution_count": null,
   "metadata": {},
   "outputs": [],
   "source": [
    "h[-3:]    #get the last 3 elements of a list"
   ]
  },
  {
   "cell_type": "markdown",
   "metadata": {},
   "source": [
    "So what math operations can be applied to lists?"
   ]
  },
  {
   "cell_type": "code",
   "execution_count": null,
   "metadata": {},
   "outputs": [],
   "source": [
    "a = [1,2,3]\n",
    "b = [7,8,9]\n",
    "a + b     #Adding lists concatenates the two lists in the respective order"
   ]
  },
  {
   "cell_type": "code",
   "execution_count": null,
   "metadata": {},
   "outputs": [],
   "source": [
    "a = ['hello', 2, \"u\"]   #and anything can go into a list\n",
    "b = [\"bye\", 874]\n",
    "a + b"
   ]
  },
  {
   "cell_type": "code",
   "execution_count": null,
   "metadata": {},
   "outputs": [],
   "source": [
    "#So does subtraction remove elements from a list?\n",
    "l1 = ['a', 'b', 'c']\n",
    "l2 = ['c']\n",
    "l1 - l2"
   ]
  },
  {
   "cell_type": "code",
   "execution_count": null,
   "metadata": {},
   "outputs": [],
   "source": [
    "#Nope, one needs to use the .remove() function to do this\n",
    "l1.remove('c')\n",
    "l1"
   ]
  },
  {
   "cell_type": "code",
   "execution_count": null,
   "metadata": {},
   "outputs": [],
   "source": [
    "g = [1,2]\n",
    "6*g     #multiplication by an integer n concatenates n copies of that list together"
   ]
  },
  {
   "cell_type": "markdown",
   "metadata": {},
   "source": [
    "## Vectors with Numpy"
   ]
  },
  {
   "cell_type": "code",
   "execution_count": 30,
   "metadata": {},
   "outputs": [
    {
     "ename": "TypeError",
     "evalue": "can't multiply sequence by non-int of type 'float'",
     "output_type": "error",
     "traceback": [
      "\u001b[0;31m---------------------------------------------------------------------------\u001b[0m",
      "\u001b[0;31mTypeError\u001b[0m                                 Traceback (most recent call last)",
      "\u001b[0;32m<ipython-input-30-5fa7c6e8c085>\u001b[0m in \u001b[0;36m<module>\u001b[0;34m\u001b[0m\n\u001b[1;32m      2\u001b[0m \u001b[0;32mimport\u001b[0m \u001b[0mnumpy\u001b[0m \u001b[0;32mas\u001b[0m \u001b[0mnp\u001b[0m    \u001b[0;31m#import packages with the import command, kind of like library() in R\u001b[0m\u001b[0;34m\u001b[0m\u001b[0;34m\u001b[0m\u001b[0m\n\u001b[1;32m      3\u001b[0m \u001b[0mg2\u001b[0m \u001b[0;34m=\u001b[0m \u001b[0;34m[\u001b[0m\u001b[0;36m1\u001b[0m\u001b[0;34m,\u001b[0m\u001b[0;36m2\u001b[0m\u001b[0;34m,\u001b[0m\u001b[0;36m3\u001b[0m\u001b[0;34m,\u001b[0m\u001b[0;36m4\u001b[0m\u001b[0;34m]\u001b[0m\u001b[0;34m\u001b[0m\u001b[0;34m\u001b[0m\u001b[0m\n\u001b[0;32m----> 4\u001b[0;31m \u001b[0;36m3.14\u001b[0m\u001b[0;34m*\u001b[0m\u001b[0mg2\u001b[0m\u001b[0;34m\u001b[0m\u001b[0;34m\u001b[0m\u001b[0m\n\u001b[0m",
      "\u001b[0;31mTypeError\u001b[0m: can't multiply sequence by non-int of type 'float'"
     ]
    }
   ],
   "source": [
    "#In order to do math operations on the elements of a list, we need to convert it to an array\n",
    "import numpy as np    #import packages with the import command, kind of like library() in R\n",
    "g2 = [1,2,3,4]\n",
    "3.14*g2"
   ]
  },
  {
   "cell_type": "code",
   "execution_count": 31,
   "metadata": {},
   "outputs": [
    {
     "data": {
      "text/plain": [
       "array([ 3.14,  6.28,  9.42, 12.56])"
      ]
     },
     "execution_count": 31,
     "metadata": {},
     "output_type": "execute_result"
    }
   ],
   "source": [
    "3.14*np.array(g2)"
   ]
  },
  {
   "cell_type": "code",
   "execution_count": 32,
   "metadata": {},
   "outputs": [
    {
     "data": {
      "text/plain": [
       "array([ 6, 12, 18, 24])"
      ]
     },
     "execution_count": 32,
     "metadata": {},
     "output_type": "execute_result"
    }
   ],
   "source": [
    "g1 = np.array([1,2,3,4])\n",
    "g2 = np.array([5,10,15,20])\n",
    "g1 + g2"
   ]
  },
  {
   "cell_type": "code",
   "execution_count": null,
   "metadata": {},
   "outputs": [],
   "source": [
    "g1 - g2"
   ]
  },
  {
   "cell_type": "code",
   "execution_count": null,
   "metadata": {},
   "outputs": [],
   "source": [
    "g1*g2"
   ]
  },
  {
   "cell_type": "code",
   "execution_count": null,
   "metadata": {},
   "outputs": [],
   "source": [
    "g2/g1"
   ]
  },
  {
   "cell_type": "code",
   "execution_count": 33,
   "metadata": {},
   "outputs": [
    {
     "data": {
      "text/plain": [
       "array([ 1,  4,  3, 16])"
      ]
     },
     "execution_count": 33,
     "metadata": {},
     "output_type": "execute_result"
    }
   ],
   "source": [
    "g3 = np.array([1, 2, 1, 2])\n",
    "g1**g3"
   ]
  },
  {
   "cell_type": "markdown",
   "metadata": {},
   "source": [
    "## Warning about shared list pointers\n",
    "While lists are very flexible and easy to work with in python, there is also a major caution about them. If you define a list, set a new list equal to it, and perform some operation on the new list, the same operation is automatically applied to the original list."
   ]
  },
  {
   "cell_type": "code",
   "execution_count": null,
   "metadata": {},
   "outputs": [],
   "source": [
    "list1 = [(2*j)%3 for j in range(2,5)]\n",
    "list1"
   ]
  },
  {
   "cell_type": "code",
   "execution_count": null,
   "metadata": {},
   "outputs": [],
   "source": [
    "list2 = list1\n",
    "list2"
   ]
  },
  {
   "cell_type": "code",
   "execution_count": null,
   "metadata": {},
   "outputs": [],
   "source": [
    "list2[0] = -600\n",
    "list1"
   ]
  },
  {
   "cell_type": "markdown",
   "metadata": {},
   "source": [
    "To get around this issue, you can normally use the list() function and you'll be fine. This constructs a new list rather than creating a reference to the original list."
   ]
  },
  {
   "cell_type": "code",
   "execution_count": null,
   "metadata": {},
   "outputs": [],
   "source": [
    "list1 = [(2*j)%3 for j in range(2,5)]\n",
    "list2 = list(list1)\n",
    "list2[0] = 600\n",
    "list1"
   ]
  },
  {
   "cell_type": "markdown",
   "metadata": {},
   "source": [
    "# Strings"
   ]
  },
  {
   "cell_type": "markdown",
   "metadata": {},
   "source": [
    "Strings are often easier to work with in python than R, simply because of many built in operations that work on them"
   ]
  },
  {
   "cell_type": "code",
   "execution_count": null,
   "metadata": {
    "collapsed": true
   },
   "outputs": [],
   "source": [
    "#Just like in R, you can use either single quotes 'string' or double quotes \"string\" in defining a string\n",
    "s1 = 'look at-this_string!'\n",
    "s2 = \"Look at this 1 2!!!\""
   ]
  },
  {
   "cell_type": "code",
   "execution_count": null,
   "metadata": {},
   "outputs": [],
   "source": [
    "s1[:4]   #index a range of characters in a string"
   ]
  },
  {
   "cell_type": "code",
   "execution_count": null,
   "metadata": {},
   "outputs": [],
   "source": [
    "splitted = s2.split(\"this\")    #split a string at a given sequence of characters to create a list\n",
    "splitted"
   ]
  },
  {
   "cell_type": "code",
   "execution_count": null,
   "metadata": {},
   "outputs": [],
   "source": [
    "splitted2 = s2.split(' ')\n",
    "splitted2"
   ]
  },
  {
   "cell_type": "code",
   "execution_count": null,
   "metadata": {},
   "outputs": [],
   "source": [
    "s1 + s2        #adding two strings concatenates them together in the respective order"
   ]
  },
  {
   "cell_type": "code",
   "execution_count": null,
   "metadata": {},
   "outputs": [],
   "source": [
    "3*s2          #multiplying a string by an positive integer n concatenates n copies of that string"
   ]
  },
  {
   "cell_type": "code",
   "execution_count": null,
   "metadata": {},
   "outputs": [],
   "source": [
    "integer1 = -9\n",
    "float1 = 3.1415\n",
    "string1 = 'Yale'\n",
    "\"How %d cool can st%frings get at %s !!\"%(integer1, float1, string1)   #insert the value of a variable into a string. Kind of\n",
    "                                                                         #like paste0() in R."
   ]
  },
  {
   "cell_type": "markdown",
   "metadata": {},
   "source": [
    "There's a plethora of additional string operations available in the \"re\" package. Check it out!"
   ]
  },
  {
   "cell_type": "markdown",
   "metadata": {},
   "source": [
    "## F-strings"
   ]
  },
  {
   "cell_type": "code",
   "execution_count": 36,
   "metadata": {},
   "outputs": [
    {
     "data": {
      "text/plain": [
       "'How 1233423 are you?'"
      ]
     },
     "execution_count": 36,
     "metadata": {},
     "output_type": "execute_result"
    }
   ],
   "source": [
    "# fmt strings\n",
    "val = 1233423\n",
    "string2 = f\"How {val} are you?\"\n",
    "string2"
   ]
  },
  {
   "cell_type": "markdown",
   "metadata": {},
   "source": [
    "# Functions"
   ]
  },
  {
   "cell_type": "markdown",
   "metadata": {},
   "source": [
    "Other than the way they are defined, functions work essentially the same in Python as they do in R. Parenthases are for the arguments of the function, and remember that indentation is required for the tasks of the function."
   ]
  },
  {
   "cell_type": "code",
   "execution_count": null,
   "metadata": {
    "collapsed": true
   },
   "outputs": [],
   "source": [
    "def myfunction(a, b = \"great\"):    #define a function with 'def', the same as 'myfunction <- function(a, b = \"great\"){}' in R\n",
    "    h = [i*a for i in range(5)]\n",
    "    for j in range(len(h)):\n",
    "        h[j] = str(h[j]) + b\n",
    "    return(h)"
   ]
  },
  {
   "cell_type": "code",
   "execution_count": null,
   "metadata": {},
   "outputs": [],
   "source": [
    "myfunction(1)"
   ]
  },
  {
   "cell_type": "code",
   "execution_count": null,
   "metadata": {},
   "outputs": [],
   "source": [
    "myfunction(5, b = \" bulldogs\")"
   ]
  },
  {
   "cell_type": "markdown",
   "metadata": {},
   "source": [
    "# Dataframes"
   ]
  },
  {
   "cell_type": "markdown",
   "metadata": {},
   "source": [
    "Dataframes are the most standard way of organizing data. They are similar to a matrix with each row representing a single observation and each column representing a variable. Dataframes in python work almost exactly the same as in R. The <i>pandas</i> package is what almost everyone uses for this."
   ]
  },
  {
   "cell_type": "code",
   "execution_count": 13,
   "metadata": {},
   "outputs": [],
   "source": [
    "import pandas as pd"
   ]
  },
  {
   "cell_type": "code",
   "execution_count": 14,
   "metadata": {},
   "outputs": [
    {
     "data": {
      "text/html": [
       "<div>\n",
       "<style scoped>\n",
       "    .dataframe tbody tr th:only-of-type {\n",
       "        vertical-align: middle;\n",
       "    }\n",
       "\n",
       "    .dataframe tbody tr th {\n",
       "        vertical-align: top;\n",
       "    }\n",
       "\n",
       "    .dataframe thead th {\n",
       "        text-align: right;\n",
       "    }\n",
       "</style>\n",
       "<table border=\"1\" class=\"dataframe\">\n",
       "  <thead>\n",
       "    <tr style=\"text-align: right;\">\n",
       "      <th></th>\n",
       "      <th>Sepal.Length</th>\n",
       "      <th>Sepal.Width</th>\n",
       "      <th>Petal.Length</th>\n",
       "      <th>Petal.Width</th>\n",
       "      <th>Species</th>\n",
       "    </tr>\n",
       "  </thead>\n",
       "  <tbody>\n",
       "    <tr>\n",
       "      <td>0</td>\n",
       "      <td>5.1</td>\n",
       "      <td>3.5</td>\n",
       "      <td>1.4</td>\n",
       "      <td>0.2</td>\n",
       "      <td>setosa</td>\n",
       "    </tr>\n",
       "    <tr>\n",
       "      <td>1</td>\n",
       "      <td>4.9</td>\n",
       "      <td>3.0</td>\n",
       "      <td>1.4</td>\n",
       "      <td>0.2</td>\n",
       "      <td>setosa</td>\n",
       "    </tr>\n",
       "    <tr>\n",
       "      <td>2</td>\n",
       "      <td>4.7</td>\n",
       "      <td>3.2</td>\n",
       "      <td>1.3</td>\n",
       "      <td>0.2</td>\n",
       "      <td>setosa</td>\n",
       "    </tr>\n",
       "    <tr>\n",
       "      <td>3</td>\n",
       "      <td>4.6</td>\n",
       "      <td>3.1</td>\n",
       "      <td>1.5</td>\n",
       "      <td>0.2</td>\n",
       "      <td>setosa</td>\n",
       "    </tr>\n",
       "    <tr>\n",
       "      <td>4</td>\n",
       "      <td>5.0</td>\n",
       "      <td>3.6</td>\n",
       "      <td>1.4</td>\n",
       "      <td>0.2</td>\n",
       "      <td>setosa</td>\n",
       "    </tr>\n",
       "    <tr>\n",
       "      <td>...</td>\n",
       "      <td>...</td>\n",
       "      <td>...</td>\n",
       "      <td>...</td>\n",
       "      <td>...</td>\n",
       "      <td>...</td>\n",
       "    </tr>\n",
       "    <tr>\n",
       "      <td>145</td>\n",
       "      <td>6.7</td>\n",
       "      <td>3.0</td>\n",
       "      <td>5.2</td>\n",
       "      <td>2.3</td>\n",
       "      <td>virginica</td>\n",
       "    </tr>\n",
       "    <tr>\n",
       "      <td>146</td>\n",
       "      <td>6.3</td>\n",
       "      <td>2.5</td>\n",
       "      <td>5.0</td>\n",
       "      <td>1.9</td>\n",
       "      <td>virginica</td>\n",
       "    </tr>\n",
       "    <tr>\n",
       "      <td>147</td>\n",
       "      <td>6.5</td>\n",
       "      <td>3.0</td>\n",
       "      <td>5.2</td>\n",
       "      <td>2.0</td>\n",
       "      <td>virginica</td>\n",
       "    </tr>\n",
       "    <tr>\n",
       "      <td>148</td>\n",
       "      <td>6.2</td>\n",
       "      <td>3.4</td>\n",
       "      <td>5.4</td>\n",
       "      <td>2.3</td>\n",
       "      <td>virginica</td>\n",
       "    </tr>\n",
       "    <tr>\n",
       "      <td>149</td>\n",
       "      <td>5.9</td>\n",
       "      <td>3.0</td>\n",
       "      <td>5.1</td>\n",
       "      <td>1.8</td>\n",
       "      <td>virginica</td>\n",
       "    </tr>\n",
       "  </tbody>\n",
       "</table>\n",
       "<p>150 rows × 5 columns</p>\n",
       "</div>"
      ],
      "text/plain": [
       "     Sepal.Length  Sepal.Width  Petal.Length  Petal.Width    Species\n",
       "0             5.1          3.5           1.4          0.2     setosa\n",
       "1             4.9          3.0           1.4          0.2     setosa\n",
       "2             4.7          3.2           1.3          0.2     setosa\n",
       "3             4.6          3.1           1.5          0.2     setosa\n",
       "4             5.0          3.6           1.4          0.2     setosa\n",
       "..            ...          ...           ...          ...        ...\n",
       "145           6.7          3.0           5.2          2.3  virginica\n",
       "146           6.3          2.5           5.0          1.9  virginica\n",
       "147           6.5          3.0           5.2          2.0  virginica\n",
       "148           6.2          3.4           5.4          2.3  virginica\n",
       "149           5.9          3.0           5.1          1.8  virginica\n",
       "\n",
       "[150 rows x 5 columns]"
      ]
     },
     "execution_count": 14,
     "metadata": {},
     "output_type": "execute_result"
    }
   ],
   "source": [
    "iris = pd.read_csv(\"iris.csv\")    #read in the dataset in the file \"iris.csv\" as a dataframe\n",
    "iris                #view the dataframe"
   ]
  },
  {
   "cell_type": "code",
   "execution_count": 42,
   "metadata": {},
   "outputs": [
    {
     "name": "stdout",
     "output_type": "stream",
     "text": [
      "<class 'numpy.ndarray'>\n",
      "<class 'pandas.core.series.Series'>\n"
     ]
    }
   ],
   "source": [
    "values = iris[\"Sepal.Width\"].values            #select the column for Sepal.Width as an array\n",
    "\n",
    "type(values) != type([])\n",
    "print(type(values))\n",
    "print(type(iris[\"Sepal.Width\"]))"
   ]
  },
  {
   "cell_type": "code",
   "execution_count": 37,
   "metadata": {},
   "outputs": [
    {
     "data": {
      "text/plain": [
       "array([3.5, 3. , 3.2, 3.1, 3.6, 3.9, 3.4, 3.4, 2.9, 3.1, 3.7, 3.4, 3. ,\n",
       "       3. , 4. , 4.4, 3.9, 3.5, 3.8, 3.8, 3.4, 3.7, 3.6, 3.3, 3.4, 3. ,\n",
       "       3.4, 3.5, 3.4, 3.2, 3.1, 3.4, 4.1, 4.2, 3.1, 3.2, 3.5, 3.6, 3. ,\n",
       "       3.4, 3.5, 2.3, 3.2, 3.5, 3.8, 3. , 3.8, 3.2, 3.7, 3.3, 3.2, 3.2,\n",
       "       3.1, 2.3, 2.8, 2.8, 3.3, 2.4, 2.9, 2.7, 2. , 3. , 2.2, 2.9, 2.9,\n",
       "       3.1, 3. , 2.7, 2.2, 2.5, 3.2, 2.8, 2.5, 2.8, 2.9, 3. , 2.8, 3. ,\n",
       "       2.9, 2.6, 2.4, 2.4, 2.7, 2.7, 3. , 3.4, 3.1, 2.3, 3. , 2.5, 2.6,\n",
       "       3. , 2.6, 2.3, 2.7, 3. , 2.9, 2.9, 2.5, 2.8, 3.3, 2.7, 3. , 2.9,\n",
       "       3. , 3. , 2.5, 2.9, 2.5, 3.6, 3.2, 2.7, 3. , 2.5, 2.8, 3.2, 3. ,\n",
       "       3.8, 2.6, 2.2, 3.2, 2.8, 2.8, 2.7, 3.3, 3.2, 2.8, 3. , 2.8, 3. ,\n",
       "       2.8, 3.8, 2.8, 2.8, 2.6, 3. , 3.4, 3.1, 3. , 3.1, 3.1, 3.1, 2.7,\n",
       "       3.2, 3.3, 3. , 2.5, 3. , 3.4, 3. ])"
      ]
     },
     "execution_count": 37,
     "metadata": {},
     "output_type": "execute_result"
    }
   ],
   "source": [
    "values"
   ]
  },
  {
   "cell_type": "code",
   "execution_count": 38,
   "metadata": {},
   "outputs": [
    {
     "data": {
      "text/html": [
       "<div>\n",
       "<style scoped>\n",
       "    .dataframe tbody tr th:only-of-type {\n",
       "        vertical-align: middle;\n",
       "    }\n",
       "\n",
       "    .dataframe tbody tr th {\n",
       "        vertical-align: top;\n",
       "    }\n",
       "\n",
       "    .dataframe thead th {\n",
       "        text-align: right;\n",
       "    }\n",
       "</style>\n",
       "<table border=\"1\" class=\"dataframe\">\n",
       "  <thead>\n",
       "    <tr style=\"text-align: right;\">\n",
       "      <th></th>\n",
       "      <th>Sepal.Length</th>\n",
       "      <th>Sepal.Width</th>\n",
       "      <th>Petal.Length</th>\n",
       "      <th>Petal.Width</th>\n",
       "      <th>Species</th>\n",
       "    </tr>\n",
       "  </thead>\n",
       "  <tbody>\n",
       "    <tr>\n",
       "      <td>100</td>\n",
       "      <td>6.3</td>\n",
       "      <td>3.3</td>\n",
       "      <td>6.0</td>\n",
       "      <td>2.5</td>\n",
       "      <td>virginica</td>\n",
       "    </tr>\n",
       "    <tr>\n",
       "      <td>101</td>\n",
       "      <td>5.8</td>\n",
       "      <td>2.7</td>\n",
       "      <td>5.1</td>\n",
       "      <td>1.9</td>\n",
       "      <td>virginica</td>\n",
       "    </tr>\n",
       "    <tr>\n",
       "      <td>102</td>\n",
       "      <td>7.1</td>\n",
       "      <td>3.0</td>\n",
       "      <td>5.9</td>\n",
       "      <td>2.1</td>\n",
       "      <td>virginica</td>\n",
       "    </tr>\n",
       "    <tr>\n",
       "      <td>103</td>\n",
       "      <td>6.3</td>\n",
       "      <td>2.9</td>\n",
       "      <td>5.6</td>\n",
       "      <td>1.8</td>\n",
       "      <td>virginica</td>\n",
       "    </tr>\n",
       "    <tr>\n",
       "      <td>104</td>\n",
       "      <td>6.5</td>\n",
       "      <td>3.0</td>\n",
       "      <td>5.8</td>\n",
       "      <td>2.2</td>\n",
       "      <td>virginica</td>\n",
       "    </tr>\n",
       "    <tr>\n",
       "      <td>105</td>\n",
       "      <td>7.6</td>\n",
       "      <td>3.0</td>\n",
       "      <td>6.6</td>\n",
       "      <td>2.1</td>\n",
       "      <td>virginica</td>\n",
       "    </tr>\n",
       "    <tr>\n",
       "      <td>106</td>\n",
       "      <td>4.9</td>\n",
       "      <td>2.5</td>\n",
       "      <td>4.5</td>\n",
       "      <td>1.7</td>\n",
       "      <td>virginica</td>\n",
       "    </tr>\n",
       "    <tr>\n",
       "      <td>107</td>\n",
       "      <td>7.3</td>\n",
       "      <td>2.9</td>\n",
       "      <td>6.3</td>\n",
       "      <td>1.8</td>\n",
       "      <td>virginica</td>\n",
       "    </tr>\n",
       "    <tr>\n",
       "      <td>108</td>\n",
       "      <td>6.7</td>\n",
       "      <td>2.5</td>\n",
       "      <td>5.8</td>\n",
       "      <td>1.8</td>\n",
       "      <td>virginica</td>\n",
       "    </tr>\n",
       "    <tr>\n",
       "      <td>109</td>\n",
       "      <td>7.2</td>\n",
       "      <td>3.6</td>\n",
       "      <td>6.1</td>\n",
       "      <td>2.5</td>\n",
       "      <td>virginica</td>\n",
       "    </tr>\n",
       "    <tr>\n",
       "      <td>110</td>\n",
       "      <td>6.5</td>\n",
       "      <td>3.2</td>\n",
       "      <td>5.1</td>\n",
       "      <td>2.0</td>\n",
       "      <td>virginica</td>\n",
       "    </tr>\n",
       "    <tr>\n",
       "      <td>111</td>\n",
       "      <td>6.4</td>\n",
       "      <td>2.7</td>\n",
       "      <td>5.3</td>\n",
       "      <td>1.9</td>\n",
       "      <td>virginica</td>\n",
       "    </tr>\n",
       "    <tr>\n",
       "      <td>112</td>\n",
       "      <td>6.8</td>\n",
       "      <td>3.0</td>\n",
       "      <td>5.5</td>\n",
       "      <td>2.1</td>\n",
       "      <td>virginica</td>\n",
       "    </tr>\n",
       "    <tr>\n",
       "      <td>113</td>\n",
       "      <td>5.7</td>\n",
       "      <td>2.5</td>\n",
       "      <td>5.0</td>\n",
       "      <td>2.0</td>\n",
       "      <td>virginica</td>\n",
       "    </tr>\n",
       "    <tr>\n",
       "      <td>114</td>\n",
       "      <td>5.8</td>\n",
       "      <td>2.8</td>\n",
       "      <td>5.1</td>\n",
       "      <td>2.4</td>\n",
       "      <td>virginica</td>\n",
       "    </tr>\n",
       "    <tr>\n",
       "      <td>115</td>\n",
       "      <td>6.4</td>\n",
       "      <td>3.2</td>\n",
       "      <td>5.3</td>\n",
       "      <td>2.3</td>\n",
       "      <td>virginica</td>\n",
       "    </tr>\n",
       "    <tr>\n",
       "      <td>116</td>\n",
       "      <td>6.5</td>\n",
       "      <td>3.0</td>\n",
       "      <td>5.5</td>\n",
       "      <td>1.8</td>\n",
       "      <td>virginica</td>\n",
       "    </tr>\n",
       "    <tr>\n",
       "      <td>117</td>\n",
       "      <td>7.7</td>\n",
       "      <td>3.8</td>\n",
       "      <td>6.7</td>\n",
       "      <td>2.2</td>\n",
       "      <td>virginica</td>\n",
       "    </tr>\n",
       "    <tr>\n",
       "      <td>118</td>\n",
       "      <td>7.7</td>\n",
       "      <td>2.6</td>\n",
       "      <td>6.9</td>\n",
       "      <td>2.3</td>\n",
       "      <td>virginica</td>\n",
       "    </tr>\n",
       "    <tr>\n",
       "      <td>119</td>\n",
       "      <td>6.0</td>\n",
       "      <td>2.2</td>\n",
       "      <td>5.0</td>\n",
       "      <td>1.5</td>\n",
       "      <td>virginica</td>\n",
       "    </tr>\n",
       "    <tr>\n",
       "      <td>120</td>\n",
       "      <td>6.9</td>\n",
       "      <td>3.2</td>\n",
       "      <td>5.7</td>\n",
       "      <td>2.3</td>\n",
       "      <td>virginica</td>\n",
       "    </tr>\n",
       "    <tr>\n",
       "      <td>121</td>\n",
       "      <td>5.6</td>\n",
       "      <td>2.8</td>\n",
       "      <td>4.9</td>\n",
       "      <td>2.0</td>\n",
       "      <td>virginica</td>\n",
       "    </tr>\n",
       "    <tr>\n",
       "      <td>122</td>\n",
       "      <td>7.7</td>\n",
       "      <td>2.8</td>\n",
       "      <td>6.7</td>\n",
       "      <td>2.0</td>\n",
       "      <td>virginica</td>\n",
       "    </tr>\n",
       "    <tr>\n",
       "      <td>123</td>\n",
       "      <td>6.3</td>\n",
       "      <td>2.7</td>\n",
       "      <td>4.9</td>\n",
       "      <td>1.8</td>\n",
       "      <td>virginica</td>\n",
       "    </tr>\n",
       "    <tr>\n",
       "      <td>124</td>\n",
       "      <td>6.7</td>\n",
       "      <td>3.3</td>\n",
       "      <td>5.7</td>\n",
       "      <td>2.1</td>\n",
       "      <td>virginica</td>\n",
       "    </tr>\n",
       "    <tr>\n",
       "      <td>125</td>\n",
       "      <td>7.2</td>\n",
       "      <td>3.2</td>\n",
       "      <td>6.0</td>\n",
       "      <td>1.8</td>\n",
       "      <td>virginica</td>\n",
       "    </tr>\n",
       "    <tr>\n",
       "      <td>126</td>\n",
       "      <td>6.2</td>\n",
       "      <td>2.8</td>\n",
       "      <td>4.8</td>\n",
       "      <td>1.8</td>\n",
       "      <td>virginica</td>\n",
       "    </tr>\n",
       "    <tr>\n",
       "      <td>127</td>\n",
       "      <td>6.1</td>\n",
       "      <td>3.0</td>\n",
       "      <td>4.9</td>\n",
       "      <td>1.8</td>\n",
       "      <td>virginica</td>\n",
       "    </tr>\n",
       "    <tr>\n",
       "      <td>128</td>\n",
       "      <td>6.4</td>\n",
       "      <td>2.8</td>\n",
       "      <td>5.6</td>\n",
       "      <td>2.1</td>\n",
       "      <td>virginica</td>\n",
       "    </tr>\n",
       "    <tr>\n",
       "      <td>129</td>\n",
       "      <td>7.2</td>\n",
       "      <td>3.0</td>\n",
       "      <td>5.8</td>\n",
       "      <td>1.6</td>\n",
       "      <td>virginica</td>\n",
       "    </tr>\n",
       "    <tr>\n",
       "      <td>130</td>\n",
       "      <td>7.4</td>\n",
       "      <td>2.8</td>\n",
       "      <td>6.1</td>\n",
       "      <td>1.9</td>\n",
       "      <td>virginica</td>\n",
       "    </tr>\n",
       "    <tr>\n",
       "      <td>131</td>\n",
       "      <td>7.9</td>\n",
       "      <td>3.8</td>\n",
       "      <td>6.4</td>\n",
       "      <td>2.0</td>\n",
       "      <td>virginica</td>\n",
       "    </tr>\n",
       "    <tr>\n",
       "      <td>132</td>\n",
       "      <td>6.4</td>\n",
       "      <td>2.8</td>\n",
       "      <td>5.6</td>\n",
       "      <td>2.2</td>\n",
       "      <td>virginica</td>\n",
       "    </tr>\n",
       "    <tr>\n",
       "      <td>133</td>\n",
       "      <td>6.3</td>\n",
       "      <td>2.8</td>\n",
       "      <td>5.1</td>\n",
       "      <td>1.5</td>\n",
       "      <td>virginica</td>\n",
       "    </tr>\n",
       "    <tr>\n",
       "      <td>134</td>\n",
       "      <td>6.1</td>\n",
       "      <td>2.6</td>\n",
       "      <td>5.6</td>\n",
       "      <td>1.4</td>\n",
       "      <td>virginica</td>\n",
       "    </tr>\n",
       "    <tr>\n",
       "      <td>135</td>\n",
       "      <td>7.7</td>\n",
       "      <td>3.0</td>\n",
       "      <td>6.1</td>\n",
       "      <td>2.3</td>\n",
       "      <td>virginica</td>\n",
       "    </tr>\n",
       "    <tr>\n",
       "      <td>136</td>\n",
       "      <td>6.3</td>\n",
       "      <td>3.4</td>\n",
       "      <td>5.6</td>\n",
       "      <td>2.4</td>\n",
       "      <td>virginica</td>\n",
       "    </tr>\n",
       "    <tr>\n",
       "      <td>137</td>\n",
       "      <td>6.4</td>\n",
       "      <td>3.1</td>\n",
       "      <td>5.5</td>\n",
       "      <td>1.8</td>\n",
       "      <td>virginica</td>\n",
       "    </tr>\n",
       "    <tr>\n",
       "      <td>138</td>\n",
       "      <td>6.0</td>\n",
       "      <td>3.0</td>\n",
       "      <td>4.8</td>\n",
       "      <td>1.8</td>\n",
       "      <td>virginica</td>\n",
       "    </tr>\n",
       "    <tr>\n",
       "      <td>139</td>\n",
       "      <td>6.9</td>\n",
       "      <td>3.1</td>\n",
       "      <td>5.4</td>\n",
       "      <td>2.1</td>\n",
       "      <td>virginica</td>\n",
       "    </tr>\n",
       "    <tr>\n",
       "      <td>140</td>\n",
       "      <td>6.7</td>\n",
       "      <td>3.1</td>\n",
       "      <td>5.6</td>\n",
       "      <td>2.4</td>\n",
       "      <td>virginica</td>\n",
       "    </tr>\n",
       "    <tr>\n",
       "      <td>141</td>\n",
       "      <td>6.9</td>\n",
       "      <td>3.1</td>\n",
       "      <td>5.1</td>\n",
       "      <td>2.3</td>\n",
       "      <td>virginica</td>\n",
       "    </tr>\n",
       "    <tr>\n",
       "      <td>142</td>\n",
       "      <td>5.8</td>\n",
       "      <td>2.7</td>\n",
       "      <td>5.1</td>\n",
       "      <td>1.9</td>\n",
       "      <td>virginica</td>\n",
       "    </tr>\n",
       "    <tr>\n",
       "      <td>143</td>\n",
       "      <td>6.8</td>\n",
       "      <td>3.2</td>\n",
       "      <td>5.9</td>\n",
       "      <td>2.3</td>\n",
       "      <td>virginica</td>\n",
       "    </tr>\n",
       "    <tr>\n",
       "      <td>144</td>\n",
       "      <td>6.7</td>\n",
       "      <td>3.3</td>\n",
       "      <td>5.7</td>\n",
       "      <td>2.5</td>\n",
       "      <td>virginica</td>\n",
       "    </tr>\n",
       "    <tr>\n",
       "      <td>145</td>\n",
       "      <td>6.7</td>\n",
       "      <td>3.0</td>\n",
       "      <td>5.2</td>\n",
       "      <td>2.3</td>\n",
       "      <td>virginica</td>\n",
       "    </tr>\n",
       "    <tr>\n",
       "      <td>146</td>\n",
       "      <td>6.3</td>\n",
       "      <td>2.5</td>\n",
       "      <td>5.0</td>\n",
       "      <td>1.9</td>\n",
       "      <td>virginica</td>\n",
       "    </tr>\n",
       "    <tr>\n",
       "      <td>147</td>\n",
       "      <td>6.5</td>\n",
       "      <td>3.0</td>\n",
       "      <td>5.2</td>\n",
       "      <td>2.0</td>\n",
       "      <td>virginica</td>\n",
       "    </tr>\n",
       "    <tr>\n",
       "      <td>148</td>\n",
       "      <td>6.2</td>\n",
       "      <td>3.4</td>\n",
       "      <td>5.4</td>\n",
       "      <td>2.3</td>\n",
       "      <td>virginica</td>\n",
       "    </tr>\n",
       "    <tr>\n",
       "      <td>149</td>\n",
       "      <td>5.9</td>\n",
       "      <td>3.0</td>\n",
       "      <td>5.1</td>\n",
       "      <td>1.8</td>\n",
       "      <td>virginica</td>\n",
       "    </tr>\n",
       "  </tbody>\n",
       "</table>\n",
       "</div>"
      ],
      "text/plain": [
       "     Sepal.Length  Sepal.Width  Petal.Length  Petal.Width    Species\n",
       "100           6.3          3.3           6.0          2.5  virginica\n",
       "101           5.8          2.7           5.1          1.9  virginica\n",
       "102           7.1          3.0           5.9          2.1  virginica\n",
       "103           6.3          2.9           5.6          1.8  virginica\n",
       "104           6.5          3.0           5.8          2.2  virginica\n",
       "105           7.6          3.0           6.6          2.1  virginica\n",
       "106           4.9          2.5           4.5          1.7  virginica\n",
       "107           7.3          2.9           6.3          1.8  virginica\n",
       "108           6.7          2.5           5.8          1.8  virginica\n",
       "109           7.2          3.6           6.1          2.5  virginica\n",
       "110           6.5          3.2           5.1          2.0  virginica\n",
       "111           6.4          2.7           5.3          1.9  virginica\n",
       "112           6.8          3.0           5.5          2.1  virginica\n",
       "113           5.7          2.5           5.0          2.0  virginica\n",
       "114           5.8          2.8           5.1          2.4  virginica\n",
       "115           6.4          3.2           5.3          2.3  virginica\n",
       "116           6.5          3.0           5.5          1.8  virginica\n",
       "117           7.7          3.8           6.7          2.2  virginica\n",
       "118           7.7          2.6           6.9          2.3  virginica\n",
       "119           6.0          2.2           5.0          1.5  virginica\n",
       "120           6.9          3.2           5.7          2.3  virginica\n",
       "121           5.6          2.8           4.9          2.0  virginica\n",
       "122           7.7          2.8           6.7          2.0  virginica\n",
       "123           6.3          2.7           4.9          1.8  virginica\n",
       "124           6.7          3.3           5.7          2.1  virginica\n",
       "125           7.2          3.2           6.0          1.8  virginica\n",
       "126           6.2          2.8           4.8          1.8  virginica\n",
       "127           6.1          3.0           4.9          1.8  virginica\n",
       "128           6.4          2.8           5.6          2.1  virginica\n",
       "129           7.2          3.0           5.8          1.6  virginica\n",
       "130           7.4          2.8           6.1          1.9  virginica\n",
       "131           7.9          3.8           6.4          2.0  virginica\n",
       "132           6.4          2.8           5.6          2.2  virginica\n",
       "133           6.3          2.8           5.1          1.5  virginica\n",
       "134           6.1          2.6           5.6          1.4  virginica\n",
       "135           7.7          3.0           6.1          2.3  virginica\n",
       "136           6.3          3.4           5.6          2.4  virginica\n",
       "137           6.4          3.1           5.5          1.8  virginica\n",
       "138           6.0          3.0           4.8          1.8  virginica\n",
       "139           6.9          3.1           5.4          2.1  virginica\n",
       "140           6.7          3.1           5.6          2.4  virginica\n",
       "141           6.9          3.1           5.1          2.3  virginica\n",
       "142           5.8          2.7           5.1          1.9  virginica\n",
       "143           6.8          3.2           5.9          2.3  virginica\n",
       "144           6.7          3.3           5.7          2.5  virginica\n",
       "145           6.7          3.0           5.2          2.3  virginica\n",
       "146           6.3          2.5           5.0          1.9  virginica\n",
       "147           6.5          3.0           5.2          2.0  virginica\n",
       "148           6.2          3.4           5.4          2.3  virginica\n",
       "149           5.9          3.0           5.1          1.8  virginica"
      ]
     },
     "execution_count": 38,
     "metadata": {},
     "output_type": "execute_result"
    }
   ],
   "source": [
    "# only print out data frame where the species is virginica\n",
    "iris_virginica = iris[iris[\"Species\"] == \"virginica\"]\n",
    "iris_virginica\n",
    "\n"
   ]
  },
  {
   "cell_type": "markdown",
   "metadata": {},
   "source": [
    "There is a whole plethora of things you can do with pandas dataframes. For more details on them see [this link](https://towardsdatascience.com/pandas-dataframe-a-lightweight-intro-680e3a212b96) or just search <i>pandas dataframes</i> online."
   ]
  },
  {
   "cell_type": "markdown",
   "metadata": {},
   "source": [
    "# Plotting Data"
   ]
  },
  {
   "cell_type": "code",
   "execution_count": 43,
   "metadata": {},
   "outputs": [],
   "source": [
    "import matplotlib.pyplot as plt  #to plot data, one would need to import a plotting package. matplotlib.pyplot is my favorite"
   ]
  },
  {
   "cell_type": "code",
   "execution_count": 52,
   "metadata": {},
   "outputs": [
    {
     "data": {
      "image/png": "[encoded data removed]",
      "text/plain": [
       "<Figure size 432x288 with 1 Axes>"
      ]
     },
     "metadata": {
      "needs_background": "light"
     },
     "output_type": "display_data"
    }
   ],
   "source": [
    "x = np.linspace(-5, 5, 100) # the x-axis goes from -5 to 5, and split it into 100 equal increments/observations\n",
    "y = 0.5*x**2                # the function to plot\n",
    "plt.plot(x, y)    #plot the data\n",
    "plt.xlabel(\"X-Axis\", fontsize=14)   #add a label to the x axis\n",
    "plt.ylabel(\"Y-Axis\", fontsize=14)    #add a label to the y axis\n",
    "plt.title(\"Python Plot\", fontsize=16)   #add a plot title\n",
    "plt.show()    #Show us the full plot"
   ]
  },
  {
   "cell_type": "code",
   "execution_count": 53,
   "metadata": {},
   "outputs": [
    {
     "data": {
      "image/png": "[encoded data removed]",
      "text/plain": [
       "<Figure size 432x288 with 1 Axes>"
      ]
     },
     "metadata": {
      "needs_background": "light"
     },
     "output_type": "display_data"
    }
   ],
   "source": [
    "randomx = np.random.normal(2, 1, 1000)    #does the same thing as 'rnorm(1000, 2, 1)' in R\n",
    "randomx2 = np.random.uniform(4, 0, 1000)   #same as 'runif(1000, 0, 4)' in R\n",
    "plt.hist(randomx, color='blue')       #plot the histogram of a single variable\n",
    "plt.hist(randomx2, color='red', histtype=u'step', lw=3)      #plot another histogram on top of the first but don't fill in bins\n",
    "plt.show()"
   ]
  },
  {
   "cell_type": "code",
   "execution_count": 61,
   "metadata": {},
   "outputs": [],
   "source": [
    "%matplotlib notebook"
   ]
  },
  {
   "cell_type": "code",
   "execution_count": 63,
   "metadata": {},
   "outputs": [
    {
     "data": {
      "application/javascript": [
       "/* Put everything inside the global mpl namespace */\n",
       "window.mpl = {};\n",
       "\n",
       "\n",
       "mpl.get_websocket_type = function() {\n",
       "    if (typeof(WebSocket) !== 'undefined') {\n",
       "        return WebSocket;\n",
       "    } else if (typeof(MozWebSocket) !== 'undefined') {\n",
       "        return MozWebSocket;\n",
       "    } else {\n",
       "        alert('Your browser does not have WebSocket support. ' +\n",
       "              'Please try Chrome, Safari or Firefox ≥ 6. ' +\n",
       "              'Firefox 4 and 5 are also supported but you ' +\n",
       "              'have to enable WebSockets in about:config.');\n",
       "    };\n",
       "}\n",
       "\n",
       "mpl.figure = function(figure_id, websocket, ondownload, parent_element) {\n",
       "    this.id = figure_id;\n",
       "\n",
       "    this.ws = websocket;\n",
       "\n",
       "    this.supports_binary = (this.ws.binaryType != undefined);\n",
       "\n",
       "    if (!this.supports_binary) {\n",
       "        var warnings = document.getElementById(\"mpl-warnings\");\n",
       "        if (warnings) {\n",
       "            warnings.style.display = 'block';\n",
       "            warnings.textContent = (\n",
       "                \"This browser does not support binary websocket messages. \" +\n",
       "                    \"Performance may be slow.\");\n",
       "        }\n",
       "    }\n",
       "\n",
       "    this.imageObj = new Image();\n",
       "\n",
       "    this.context = undefined;\n",
       "    this.message = undefined;\n",
       "    this.canvas = undefined;\n",
       "    this.rubberband_canvas = undefined;\n",
       "    this.rubberband_context = undefined;\n",
       "    this.format_dropdown = undefined;\n",
       "\n",
       "    this.image_mode = 'full';\n",
       "\n",
       "    this.root = $('<div/>');\n",
       "    this._root_extra_style(this.root)\n",
       "    this.root.attr('style', 'display: inline-block');\n",
       "\n",
       "    $(parent_element).append(this.root);\n",
       "\n",
       "    this._init_header(this);\n",
       "    this._init_canvas(this);\n",
       "    this._init_toolbar(this);\n",
       "\n",
       "    var fig = this;\n",
       "\n",
       "    this.waiting = false;\n",
       "\n",
       "    this.ws.onopen =  function () {\n",
       "            fig.send_message(\"supports_binary\", {value: fig.supports_binary});\n",
       "            fig.send_message(\"send_image_mode\", {});\n",
       "            if (mpl.ratio != 1) {\n",
       "                fig.send_message(\"set_dpi_ratio\", {'dpi_ratio': mpl.ratio});\n",
       "            }\n",
       "            fig.send_message(\"refresh\", {});\n",
       "        }\n",
       "\n",
       "    this.imageObj.onload = function() {\n",
       "            if (fig.image_mode == 'full') {\n",
       "                // Full images could contain transparency (where diff images\n",
       "                // almost always do), so we need to clear the canvas so that\n",
       "                // there is no ghosting.\n",
       "                fig.context.clearRect(0, 0, fig.canvas.width, fig.canvas.height);\n",
       "            }\n",
       "            fig.context.drawImage(fig.imageObj, 0, 0);\n",
       "        };\n",
       "\n",
       "    this.imageObj.onunload = function() {\n",
       "        fig.ws.close();\n",
       "    }\n",
       "\n",
       "    this.ws.onmessage = this._make_on_message_function(this);\n",
       "\n",
       "    this.ondownload = ondownload;\n",
       "}\n",
       "\n",
       "mpl.figure.prototype._init_header = function() {\n",
       "    var titlebar = $(\n",
       "        '<div class=\"ui-dialog-titlebar ui-widget-header ui-corner-all ' +\n",
       "        'ui-helper-clearfix\"/>');\n",
       "    var titletext = $(\n",
       "        '<div class=\"ui-dialog-title\" style=\"width: 100%; ' +\n",
       "        'text-align: center; padding: 3px;\"/>');\n",
       "    titlebar.append(titletext)\n",
       "    this.root.append(titlebar);\n",
       "    this.header = titletext[0];\n",
       "}\n",
       "\n",
       "\n",
       "\n",
       "mpl.figure.prototype._canvas_extra_style = function(canvas_div) {\n",
       "\n",
       "}\n",
       "\n",
       "\n",
       "mpl.figure.prototype._root_extra_style = function(canvas_div) {\n",
       "\n",
       "}\n",
       "\n",
       "mpl.figure.prototype._init_canvas = function() {\n",
       "    var fig = this;\n",
       "\n",
       "    var canvas_div = $('<div/>');\n",
       "\n",
       "    canvas_div.attr('style', 'position: relative; clear: both; outline: 0');\n",
       "\n",
       "    function canvas_keyboard_event(event) {\n",
       "        return fig.key_event(event, event['data']);\n",
       "    }\n",
       "\n",
       "    canvas_div.keydown('key_press', canvas_keyboard_event);\n",
       "    canvas_div.keyup('key_release', canvas_keyboard_event);\n",
       "    this.canvas_div = canvas_div\n",
       "    this._canvas_extra_style(canvas_div)\n",
       "    this.root.append(canvas_div);\n",
       "\n",
       "    var canvas = $('<canvas/>');\n",
       "    canvas.addClass('mpl-canvas');\n",
       "    canvas.attr('style', \"left: 0; top: 0; z-index: 0; outline: 0\")\n",
       "\n",
       "    this.canvas = canvas[0];\n",
       "    this.context = canvas[0].getContext(\"2d\");\n",
       "\n",
       "    var backingStore = this.context.backingStorePixelRatio ||\n",
       "\tthis.context.webkitBackingStorePixelRatio ||\n",
       "\tthis.context.mozBackingStorePixelRatio ||\n",
       "\tthis.context.msBackingStorePixelRatio ||\n",
       "\tthis.context.oBackingStorePixelRatio ||\n",
       "\tthis.context.backingStorePixelRatio || 1;\n",
       "\n",
       "    mpl.ratio = (window.devicePixelRatio || 1) / backingStore;\n",
       "\n",
       "    var rubberband = $('<canvas/>');\n",
       "    rubberband.attr('style', \"position: absolute; left: 0; top: 0; z-index: 1;\")\n",
       "\n",
       "    var pass_mouse_events = true;\n",
       "\n",
       "    canvas_div.resizable({\n",
       "        start: function(event, ui) {\n",
       "            pass_mouse_events = false;\n",
       "        },\n",
       "        resize: function(event, ui) {\n",
       "            fig.request_resize(ui.size.width, ui.size.height);\n",
       "        },\n",
       "        stop: function(event, ui) {\n",
       "            pass_mouse_events = true;\n",
       "            fig.request_resize(ui.size.width, ui.size.height);\n",
       "        },\n",
       "    });\n",
       "\n",
       "    function mouse_event_fn(event) {\n",
       "        if (pass_mouse_events)\n",
       "            return fig.mouse_event(event, event['data']);\n",
       "    }\n",
       "\n",
       "    rubberband.mousedown('button_press', mouse_event_fn);\n",
       "    rubberband.mouseup('button_release', mouse_event_fn);\n",
       "    // Throttle sequential mouse events to 1 every 20ms.\n",
       "    rubberband.mousemove('motion_notify', mouse_event_fn);\n",
       "\n",
       "    rubberband.mouseenter('figure_enter', mouse_event_fn);\n",
       "    rubberband.mouseleave('figure_leave', mouse_event_fn);\n",
       "\n",
       "    canvas_div.on(\"wheel\", function (event) {\n",
       "        event = event.originalEvent;\n",
       "        event['data'] = 'scroll'\n",
       "        if (event.deltaY < 0) {\n",
       "            event.step = 1;\n",
       "        } else {\n",
       "            event.step = -1;\n",
       "        }\n",
       "        mouse_event_fn(event);\n",
       "    });\n",
       "\n",
       "    canvas_div.append(canvas);\n",
       "    canvas_div.append(rubberband);\n",
       "\n",
       "    this.rubberband = rubberband;\n",
       "    this.rubberband_canvas = rubberband[0];\n",
       "    this.rubberband_context = rubberband[0].getContext(\"2d\");\n",
       "    this.rubberband_context.strokeStyle = \"#000000\";\n",
       "\n",
       "    this._resize_canvas = function(width, height) {\n",
       "        // Keep the size of the canvas, canvas container, and rubber band\n",
       "        // canvas in synch.\n",
       "        canvas_div.css('width', width)\n",
       "        canvas_div.css('height', height)\n",
       "\n",
       "        canvas.attr('width', width * mpl.ratio);\n",
       "        canvas.attr('height', height * mpl.ratio);\n",
       "        canvas.attr('style', 'width: ' + width + 'px; height: ' + height + 'px;');\n",
       "\n",
       "        rubberband.attr('width', width);\n",
       "        rubberband.attr('height', height);\n",
       "    }\n",
       "\n",
       "    // Set the figure to an initial 600x600px, this will subsequently be updated\n",
       "    // upon first draw.\n",
       "    this._resize_canvas(600, 600);\n",
       "\n",
       "    // Disable right mouse context menu.\n",
       "    $(this.rubberband_canvas).bind(\"contextmenu\",function(e){\n",
       "        return false;\n",
       "    });\n",
       "\n",
       "    function set_focus () {\n",
       "        canvas.focus();\n",
       "        canvas_div.focus();\n",
       "    }\n",
       "\n",
       "    window.setTimeout(set_focus, 100);\n",
       "}\n",
       "\n",
       "mpl.figure.prototype._init_toolbar = function() {\n",
       "    var fig = this;\n",
       "\n",
       "    var nav_element = $('<div/>');\n",
       "    nav_element.attr('style', 'width: 100%');\n",
       "    this.root.append(nav_element);\n",
       "\n",
       "    // Define a callback function for later on.\n",
       "    function toolbar_event(event) {\n",
       "        return fig.toolbar_button_onclick(event['data']);\n",
       "    }\n",
       "    function toolbar_mouse_event(event) {\n",
       "        return fig.toolbar_button_onmouseover(event['data']);\n",
       "    }\n",
       "\n",
       "    for(var toolbar_ind in mpl.toolbar_items) {\n",
       "        var name = mpl.toolbar_items[toolbar_ind][0];\n",
       "        var tooltip = mpl.toolbar_items[toolbar_ind][1];\n",
       "        var image = mpl.toolbar_items[toolbar_ind][2];\n",
       "        var method_name = mpl.toolbar_items[toolbar_ind][3];\n",
       "\n",
       "        if (!name) {\n",
       "            // put a spacer in here.\n",
       "            continue;\n",
       "        }\n",
       "        var button = $('<button/>');\n",
       "        button.addClass('ui-button ui-widget ui-state-default ui-corner-all ' +\n",
       "                        'ui-button-icon-only');\n",
       "        button.attr('role', 'button');\n",
       "        button.attr('aria-disabled', 'false');\n",
       "        button.click(method_name, toolbar_event);\n",
       "        button.mouseover(tooltip, toolbar_mouse_event);\n",
       "\n",
       "        var icon_img = $('<span/>');\n",
       "        icon_img.addClass('ui-button-icon-primary ui-icon');\n",
       "        icon_img.addClass(image);\n",
       "        icon_img.addClass('ui-corner-all');\n",
       "\n",
       "        var tooltip_span = $('<span/>');\n",
       "        tooltip_span.addClass('ui-button-text');\n",
       "        tooltip_span.html(tooltip);\n",
       "\n",
       "        button.append(icon_img);\n",
       "        button.append(tooltip_span);\n",
       "\n",
       "        nav_element.append(button);\n",
       "    }\n",
       "\n",
       "    var fmt_picker_span = $('<span/>');\n",
       "\n",
       "    var fmt_picker = $('<select/>');\n",
       "    fmt_picker.addClass('mpl-toolbar-option ui-widget ui-widget-content');\n",
       "    fmt_picker_span.append(fmt_picker);\n",
       "    nav_element.append(fmt_picker_span);\n",
       "    this.format_dropdown = fmt_picker[0];\n",
       "\n",
       "    for (var ind in mpl.extensions) {\n",
       "        var fmt = mpl.extensions[ind];\n",
       "        var option = $(\n",
       "            '<option/>', {selected: fmt === mpl.default_extension}).html(fmt);\n",
       "        fmt_picker.append(option);\n",
       "    }\n",
       "\n",
       "    // Add hover states to the ui-buttons\n",
       "    $( \".ui-button\" ).hover(\n",
       "        function() { $(this).addClass(\"ui-state-hover\");},\n",
       "        function() { $(this).removeClass(\"ui-state-hover\");}\n",
       "    );\n",
       "\n",
       "    var status_bar = $('<span class=\"mpl-message\"/>');\n",
       "    nav_element.append(status_bar);\n",
       "    this.message = status_bar[0];\n",
       "}\n",
       "\n",
       "mpl.figure.prototype.request_resize = function(x_pixels, y_pixels) {\n",
       "    // Request matplotlib to resize the figure. Matplotlib will then trigger a resize in the client,\n",
       "    // which will in turn request a refresh of the image.\n",
       "    this.send_message('resize', {'width': x_pixels, 'height': y_pixels});\n",
       "}\n",
       "\n",
       "mpl.figure.prototype.send_message = function(type, properties) {\n",
       "    properties['type'] = type;\n",
       "    properties['figure_id'] = this.id;\n",
       "    this.ws.send(JSON.stringify(properties));\n",
       "}\n",
       "\n",
       "mpl.figure.prototype.send_draw_message = function() {\n",
       "    if (!this.waiting) {\n",
       "        this.waiting = true;\n",
       "        this.ws.send(JSON.stringify({type: \"draw\", figure_id: this.id}));\n",
       "    }\n",
       "}\n",
       "\n",
       "\n",
       "mpl.figure.prototype.handle_save = function(fig, msg) {\n",
       "    var format_dropdown = fig.format_dropdown;\n",
       "    var format = format_dropdown.options[format_dropdown.selectedIndex].value;\n",
       "    fig.ondownload(fig, format);\n",
       "}\n",
       "\n",
       "\n",
       "mpl.figure.prototype.handle_resize = function(fig, msg) {\n",
       "    var size = msg['size'];\n",
       "    if (size[0] != fig.canvas.width || size[1] != fig.canvas.height) {\n",
       "        fig._resize_canvas(size[0], size[1]);\n",
       "        fig.send_message(\"refresh\", {});\n",
       "    };\n",
       "}\n",
       "\n",
       "mpl.figure.prototype.handle_rubberband = function(fig, msg) {\n",
       "    var x0 = msg['x0'] / mpl.ratio;\n",
       "    var y0 = (fig.canvas.height - msg['y0']) / mpl.ratio;\n",
       "    var x1 = msg['x1'] / mpl.ratio;\n",
       "    var y1 = (fig.canvas.height - msg['y1']) / mpl.ratio;\n",
       "    x0 = Math.floor(x0) + 0.5;\n",
       "    y0 = Math.floor(y0) + 0.5;\n",
       "    x1 = Math.floor(x1) + 0.5;\n",
       "    y1 = Math.floor(y1) + 0.5;\n",
       "    var min_x = Math.min(x0, x1);\n",
       "    var min_y = Math.min(y0, y1);\n",
       "    var width = Math.abs(x1 - x0);\n",
       "    var height = Math.abs(y1 - y0);\n",
       "\n",
       "    fig.rubberband_context.clearRect(\n",
       "        0, 0, fig.canvas.width / mpl.ratio, fig.canvas.height / mpl.ratio);\n",
       "\n",
       "    fig.rubberband_context.strokeRect(min_x, min_y, width, height);\n",
       "}\n",
       "\n",
       "mpl.figure.prototype.handle_figure_label = function(fig, msg) {\n",
       "    // Updates the figure title.\n",
       "    fig.header.textContent = msg['label'];\n",
       "}\n",
       "\n",
       "mpl.figure.prototype.handle_cursor = function(fig, msg) {\n",
       "    var cursor = msg['cursor'];\n",
       "    switch(cursor)\n",
       "    {\n",
       "    case 0:\n",
       "        cursor = 'pointer';\n",
       "        break;\n",
       "    case 1:\n",
       "        cursor = 'default';\n",
       "        break;\n",
       "    case 2:\n",
       "        cursor = 'crosshair';\n",
       "        break;\n",
       "    case 3:\n",
       "        cursor = 'move';\n",
       "        break;\n",
       "    }\n",
       "    fig.rubberband_canvas.style.cursor = cursor;\n",
       "}\n",
       "\n",
       "mpl.figure.prototype.handle_message = function(fig, msg) {\n",
       "    fig.message.textContent = msg['message'];\n",
       "}\n",
       "\n",
       "mpl.figure.prototype.handle_draw = function(fig, msg) {\n",
       "    // Request the server to send over a new figure.\n",
       "    fig.send_draw_message();\n",
       "}\n",
       "\n",
       "mpl.figure.prototype.handle_image_mode = function(fig, msg) {\n",
       "    fig.image_mode = msg['mode'];\n",
       "}\n",
       "\n",
       "mpl.figure.prototype.updated_canvas_event = function() {\n",
       "    // Called whenever the canvas gets updated.\n",
       "    this.send_message(\"ack\", {});\n",
       "}\n",
       "\n",
       "// A function to construct a web socket function for onmessage handling.\n",
       "// Called in the figure constructor.\n",
       "mpl.figure.prototype._make_on_message_function = function(fig) {\n",
       "    return function socket_on_message(evt) {\n",
       "        if (evt.data instanceof Blob) {\n",
       "            /* FIXME: We get \"Resource interpreted as Image but\n",
       "             * transferred with MIME type text/plain:\" errors on\n",
       "             * Chrome.  But how to set the MIME type?  It doesn't seem\n",
       "             * to be part of the websocket stream */\n",
       "            evt.data.type = \"image/png\";\n",
       "\n",
       "            /* Free the memory for the previous frames */\n",
       "            if (fig.imageObj.src) {\n",
       "                (window.URL || window.webkitURL).revokeObjectURL(\n",
       "                    fig.imageObj.src);\n",
       "            }\n",
       "\n",
       "            fig.imageObj.src = (window.URL || window.webkitURL).createObjectURL(\n",
       "                evt.data);\n",
       "            fig.updated_canvas_event();\n",
       "            fig.waiting = false;\n",
       "            return;\n",
       "        }\n",
       "        else if (typeof evt.data === 'string' && evt.data.slice(0, 21) == \"data:image/png;base64\") {\n",
       "            fig.imageObj.src = evt.data;\n",
       "            fig.updated_canvas_event();\n",
       "            fig.waiting = false;\n",
       "            return;\n",
       "        }\n",
       "\n",
       "        var msg = JSON.parse(evt.data);\n",
       "        var msg_type = msg['type'];\n",
       "\n",
       "        // Call the  \"handle_{type}\" callback, which takes\n",
       "        // the figure and JSON message as its only arguments.\n",
       "        try {\n",
       "            var callback = fig[\"handle_\" + msg_type];\n",
       "        } catch (e) {\n",
       "            console.log(\"No handler for the '\" + msg_type + \"' message type: \", msg);\n",
       "            return;\n",
       "        }\n",
       "\n",
       "        if (callback) {\n",
       "            try {\n",
       "                // console.log(\"Handling '\" + msg_type + \"' message: \", msg);\n",
       "                callback(fig, msg);\n",
       "            } catch (e) {\n",
       "                console.log(\"Exception inside the 'handler_\" + msg_type + \"' callback:\", e, e.stack, msg);\n",
       "            }\n",
       "        }\n",
       "    };\n",
       "}\n",
       "\n",
       "// from http://stackoverflow.com/questions/1114465/getting-mouse-location-in-canvas\n",
       "mpl.findpos = function(e) {\n",
       "    //this section is from http://www.quirksmode.org/js/events_properties.html\n",
       "    var targ;\n",
       "    if (!e)\n",
       "        e = window.event;\n",
       "    if (e.target)\n",
       "        targ = e.target;\n",
       "    else if (e.srcElement)\n",
       "        targ = e.srcElement;\n",
       "    if (targ.nodeType == 3) // defeat Safari bug\n",
       "        targ = targ.parentNode;\n",
       "\n",
       "    // jQuery normalizes the pageX and pageY\n",
       "    // pageX,Y are the mouse positions relative to the document\n",
       "    // offset() returns the position of the element relative to the document\n",
       "    var x = e.pageX - $(targ).offset().left;\n",
       "    var y = e.pageY - $(targ).offset().top;\n",
       "\n",
       "    return {\"x\": x, \"y\": y};\n",
       "};\n",
       "\n",
       "/*\n",
       " * return a copy of an object with only non-object keys\n",
       " * we need this to avoid circular references\n",
       " * http://stackoverflow.com/a/24161582/3208463\n",
       " */\n",
       "function simpleKeys (original) {\n",
       "  return Object.keys(original).reduce(function (obj, key) {\n",
       "    if (typeof original[key] !== 'object')\n",
       "        obj[key] = original[key]\n",
       "    return obj;\n",
       "  }, {});\n",
       "}\n",
       "\n",
       "mpl.figure.prototype.mouse_event = function(event, name) {\n",
       "    var canvas_pos = mpl.findpos(event)\n",
       "\n",
       "    if (name === 'button_press')\n",
       "    {\n",
       "        this.canvas.focus();\n",
       "        this.canvas_div.focus();\n",
       "    }\n",
       "\n",
       "    var x = canvas_pos.x * mpl.ratio;\n",
       "    var y = canvas_pos.y * mpl.ratio;\n",
       "\n",
       "    this.send_message(name, {x: x, y: y, button: event.button,\n",
       "                             step: event.step,\n",
       "                             guiEvent: simpleKeys(event)});\n",
       "\n",
       "    /* This prevents the web browser from automatically changing to\n",
       "     * the text insertion cursor when the button is pressed.  We want\n",
       "     * to control all of the cursor setting manually through the\n",
       "     * 'cursor' event from matplotlib */\n",
       "    event.preventDefault();\n",
       "    return false;\n",
       "}\n",
       "\n",
       "mpl.figure.prototype._key_event_extra = function(event, name) {\n",
       "    // Handle any extra behaviour associated with a key event\n",
       "}\n",
       "\n",
       "mpl.figure.prototype.key_event = function(event, name) {\n",
       "\n",
       "    // Prevent repeat events\n",
       "    if (name == 'key_press')\n",
       "    {\n",
       "        if (event.which === this._key)\n",
       "            return;\n",
       "        else\n",
       "            this._key = event.which;\n",
       "    }\n",
       "    if (name == 'key_release')\n",
       "        this._key = null;\n",
       "\n",
       "    var value = '';\n",
       "    if (event.ctrlKey && event.which != 17)\n",
       "        value += \"ctrl+\";\n",
       "    if (event.altKey && event.which != 18)\n",
       "        value += \"alt+\";\n",
       "    if (event.shiftKey && event.which != 16)\n",
       "        value += \"shift+\";\n",
       "\n",
       "    value += 'k';\n",
       "    value += event.which.toString();\n",
       "\n",
       "    this._key_event_extra(event, name);\n",
       "\n",
       "    this.send_message(name, {key: value,\n",
       "                             guiEvent: simpleKeys(event)});\n",
       "    return false;\n",
       "}\n",
       "\n",
       "mpl.figure.prototype.toolbar_button_onclick = function(name) {\n",
       "    if (name == 'download') {\n",
       "        this.handle_save(this, null);\n",
       "    } else {\n",
       "        this.send_message(\"toolbar_button\", {name: name});\n",
       "    }\n",
       "};\n",
       "\n",
       "mpl.figure.prototype.toolbar_button_onmouseover = function(tooltip) {\n",
       "    this.message.textContent = tooltip;\n",
       "};\n",
       "mpl.toolbar_items = [[\"Home\", \"Reset original view\", \"fa fa-home icon-home\", \"home\"], [\"Back\", \"Back to previous view\", \"fa fa-arrow-left icon-arrow-left\", \"back\"], [\"Forward\", \"Forward to next view\", \"fa fa-arrow-right icon-arrow-right\", \"forward\"], [\"\", \"\", \"\", \"\"], [\"Pan\", \"Pan axes with left mouse, zoom with right\", \"fa fa-arrows icon-move\", \"pan\"], [\"Zoom\", \"Zoom to rectangle\", \"fa fa-square-o icon-check-empty\", \"zoom\"], [\"\", \"\", \"\", \"\"], [\"Download\", \"Download plot\", \"fa fa-floppy-o icon-save\", \"download\"]];\n",
       "\n",
       "mpl.extensions = [\"eps\", \"pdf\", \"png\", \"ps\", \"raw\", \"svg\"];\n",
       "\n",
       "mpl.default_extension = \"png\";var comm_websocket_adapter = function(comm) {\n",
       "    // Create a \"websocket\"-like object which calls the given IPython comm\n",
       "    // object with the appropriate methods. Currently this is a non binary\n",
       "    // socket, so there is still some room for performance tuning.\n",
       "    var ws = {};\n",
       "\n",
       "    ws.close = function() {\n",
       "        comm.close()\n",
       "    };\n",
       "    ws.send = function(m) {\n",
       "        //console.log('sending', m);\n",
       "        comm.send(m);\n",
       "    };\n",
       "    // Register the callback with on_msg.\n",
       "    comm.on_msg(function(msg) {\n",
       "        //console.log('receiving', msg['content']['data'], msg);\n",
       "        // Pass the mpl event to the overridden (by mpl) onmessage function.\n",
       "        ws.onmessage(msg['content']['data'])\n",
       "    });\n",
       "    return ws;\n",
       "}\n",
       "\n",
       "mpl.mpl_figure_comm = function(comm, msg) {\n",
       "    // This is the function which gets called when the mpl process\n",
       "    // starts-up an IPython Comm through the \"matplotlib\" channel.\n",
       "\n",
       "    var id = msg.content.data.id;\n",
       "    // Get hold of the div created by the display call when the Comm\n",
       "    // socket was opened in Python.\n",
       "    var element = $(\"#\" + id);\n",
       "    var ws_proxy = comm_websocket_adapter(comm)\n",
       "\n",
       "    function ondownload(figure, format) {\n",
       "        window.open(figure.imageObj.src);\n",
       "    }\n",
       "\n",
       "    var fig = new mpl.figure(id, ws_proxy,\n",
       "                           ondownload,\n",
       "                           element.get(0));\n",
       "\n",
       "    // Call onopen now - mpl needs it, as it is assuming we've passed it a real\n",
       "    // web socket which is closed, not our websocket->open comm proxy.\n",
       "    ws_proxy.onopen();\n",
       "\n",
       "    fig.parent_element = element.get(0);\n",
       "    fig.cell_info = mpl.find_output_cell(\"<div id='\" + id + \"'></div>\");\n",
       "    if (!fig.cell_info) {\n",
       "        console.error(\"Failed to find cell for figure\", id, fig);\n",
       "        return;\n",
       "    }\n",
       "\n",
       "    var output_index = fig.cell_info[2]\n",
       "    var cell = fig.cell_info[0];\n",
       "\n",
       "};\n",
       "\n",
       "mpl.figure.prototype.handle_close = function(fig, msg) {\n",
       "    var width = fig.canvas.width/mpl.ratio\n",
       "    fig.root.unbind('remove')\n",
       "\n",
       "    // Update the output cell to use the data from the current canvas.\n",
       "    fig.push_to_output();\n",
       "    var dataURL = fig.canvas.toDataURL();\n",
       "    // Re-enable the keyboard manager in IPython - without this line, in FF,\n",
       "    // the notebook keyboard shortcuts fail.\n",
       "    IPython.keyboard_manager.enable()\n",
       "    $(fig.parent_element).html('<img src=\"' + dataURL + '\" width=\"' + width + '\">');\n",
       "    fig.close_ws(fig, msg);\n",
       "}\n",
       "\n",
       "mpl.figure.prototype.close_ws = function(fig, msg){\n",
       "    fig.send_message('closing', msg);\n",
       "    // fig.ws.close()\n",
       "}\n",
       "\n",
       "mpl.figure.prototype.push_to_output = function(remove_interactive) {\n",
       "    // Turn the data on the canvas into data in the output cell.\n",
       "    var width = this.canvas.width/mpl.ratio\n",
       "    var dataURL = this.canvas.toDataURL();\n",
       "    this.cell_info[1]['text/html'] = '<img src=\"' + dataURL + '\" width=\"' + width + '\">';\n",
       "}\n",
       "\n",
       "mpl.figure.prototype.updated_canvas_event = function() {\n",
       "    // Tell IPython that the notebook contents must change.\n",
       "    IPython.notebook.set_dirty(true);\n",
       "    this.send_message(\"ack\", {});\n",
       "    var fig = this;\n",
       "    // Wait a second, then push the new image to the DOM so\n",
       "    // that it is saved nicely (might be nice to debounce this).\n",
       "    setTimeout(function () { fig.push_to_output() }, 1000);\n",
       "}\n",
       "\n",
       "mpl.figure.prototype._init_toolbar = function() {\n",
       "    var fig = this;\n",
       "\n",
       "    var nav_element = $('<div/>');\n",
       "    nav_element.attr('style', 'width: 100%');\n",
       "    this.root.append(nav_element);\n",
       "\n",
       "    // Define a callback function for later on.\n",
       "    function toolbar_event(event) {\n",
       "        return fig.toolbar_button_onclick(event['data']);\n",
       "    }\n",
       "    function toolbar_mouse_event(event) {\n",
       "        return fig.toolbar_button_onmouseover(event['data']);\n",
       "    }\n",
       "\n",
       "    for(var toolbar_ind in mpl.toolbar_items){\n",
       "        var name = mpl.toolbar_items[toolbar_ind][0];\n",
       "        var tooltip = mpl.toolbar_items[toolbar_ind][1];\n",
       "        var image = mpl.toolbar_items[toolbar_ind][2];\n",
       "        var method_name = mpl.toolbar_items[toolbar_ind][3];\n",
       "\n",
       "        if (!name) { continue; };\n",
       "\n",
       "        var button = $('<button class=\"btn btn-default\" href=\"#\" title=\"' + name + '\"><i class=\"fa ' + image + ' fa-lg\"></i></button>');\n",
       "        button.click(method_name, toolbar_event);\n",
       "        button.mouseover(tooltip, toolbar_mouse_event);\n",
       "        nav_element.append(button);\n",
       "    }\n",
       "\n",
       "    // Add the status bar.\n",
       "    var status_bar = $('<span class=\"mpl-message\" style=\"text-align:right; float: right;\"/>');\n",
       "    nav_element.append(status_bar);\n",
       "    this.message = status_bar[0];\n",
       "\n",
       "    // Add the close button to the window.\n",
       "    var buttongrp = $('<div class=\"btn-group inline pull-right\"></div>');\n",
       "    var button = $('<button class=\"btn btn-mini btn-primary\" href=\"#\" title=\"Stop Interaction\"><i class=\"fa fa-power-off icon-remove icon-large\"></i></button>');\n",
       "    button.click(function (evt) { fig.handle_close(fig, {}); } );\n",
       "    button.mouseover('Stop Interaction', toolbar_mouse_event);\n",
       "    buttongrp.append(button);\n",
       "    var titlebar = this.root.find($('.ui-dialog-titlebar'));\n",
       "    titlebar.prepend(buttongrp);\n",
       "}\n",
       "\n",
       "mpl.figure.prototype._root_extra_style = function(el){\n",
       "    var fig = this\n",
       "    el.on(\"remove\", function(){\n",
       "\tfig.close_ws(fig, {});\n",
       "    });\n",
       "}\n",
       "\n",
       "mpl.figure.prototype._canvas_extra_style = function(el){\n",
       "    // this is important to make the div 'focusable\n",
       "    el.attr('tabindex', 0)\n",
       "    // reach out to IPython and tell the keyboard manager to turn it's self\n",
       "    // off when our div gets focus\n",
       "\n",
       "    // location in version 3\n",
       "    if (IPython.notebook.keyboard_manager) {\n",
       "        IPython.notebook.keyboard_manager.register_events(el);\n",
       "    }\n",
       "    else {\n",
       "        // location in version 2\n",
       "        IPython.keyboard_manager.register_events(el);\n",
       "    }\n",
       "\n",
       "}\n",
       "\n",
       "mpl.figure.prototype._key_event_extra = function(event, name) {\n",
       "    var manager = IPython.notebook.keyboard_manager;\n",
       "    if (!manager)\n",
       "        manager = IPython.keyboard_manager;\n",
       "\n",
       "    // Check for shift+enter\n",
       "    if (event.shiftKey && event.which == 13) {\n",
       "        this.canvas_div.blur();\n",
       "        event.shiftKey = false;\n",
       "        // Send a \"J\" for go to next cell\n",
       "        event.which = 74;\n",
       "        event.keyCode = 74;\n",
       "        manager.command_mode();\n",
       "        manager.handle_keydown(event);\n",
       "    }\n",
       "}\n",
       "\n",
       "mpl.figure.prototype.handle_save = function(fig, msg) {\n",
       "    fig.ondownload(fig, null);\n",
       "}\n",
       "\n",
       "\n",
       "mpl.find_output_cell = function(html_output) {\n",
       "    // Return the cell and output element which can be found *uniquely* in the notebook.\n",
       "    // Note - this is a bit hacky, but it is done because the \"notebook_saving.Notebook\"\n",
       "    // IPython event is triggered only after the cells have been serialised, which for\n",
       "    // our purposes (turning an active figure into a static one), is too late.\n",
       "    var cells = IPython.notebook.get_cells();\n",
       "    var ncells = cells.length;\n",
       "    for (var i=0; i<ncells; i++) {\n",
       "        var cell = cells[i];\n",
       "        if (cell.cell_type === 'code'){\n",
       "            for (var j=0; j<cell.output_area.outputs.length; j++) {\n",
       "                var data = cell.output_area.outputs[j];\n",
       "                if (data.data) {\n",
       "                    // IPython >= 3 moved mimebundle to data attribute of output\n",
       "                    data = data.data;\n",
       "                }\n",
       "                if (data['text/html'] == html_output) {\n",
       "                    return [cell, data, j];\n",
       "                }\n",
       "            }\n",
       "        }\n",
       "    }\n",
       "}\n",
       "\n",
       "// Register the function which deals with the matplotlib target/channel.\n",
       "// The kernel may be null if the page has been refreshed.\n",
       "if (IPython.notebook.kernel != null) {\n",
       "    IPython.notebook.kernel.comm_manager.register_target('matplotlib', mpl.mpl_figure_comm);\n",
       "}\n"
      ],
      "text/plain": [
       "<IPython.core.display.Javascript object>"
      ]
     },
     "metadata": {},
     "output_type": "display_data"
    },
    {
     "data": {
      "text/html": [
       "<img src=\"data:image/png;base64,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\" width=\"432\">"
      ],
      "text/plain": [
       "<IPython.core.display.HTML object>"
      ]
     },
     "metadata": {},
     "output_type": "display_data"
    },
    {
     "data": {
      "text/plain": [
       "array([-4.9096864 ,  1.20691281,  0.29822077])"
      ]
     },
     "execution_count": 63,
     "metadata": {},
     "output_type": "execute_result"
    }
   ],
   "source": [
    "x = np.random.uniform(-10, 10, 1000)         #simulate data based on a true model with normal noise\n",
    "y = -5 + 1.2*x + 0.3*x**2 + np.random.normal(0, 3, 1000)\n",
    "\n",
    "x_b4 = np.array([np.ones(1000), x, x**2])\n",
    "# print(x_b4)\n",
    "X = np.array([np.ones(1000), x, x**2]).T               #calculate the least-squares estimates of the coefficients\n",
    "# print(X)\n",
    "beta_hat = np.dot(np.dot(np.linalg.inv(np.dot(X.T, X)), X.T), y)\n",
    "Y_hat = np.dot(X, beta_hat)\n",
    "\n",
    "plt.scatter(x, y, alpha=0.3)    #plot the data\n",
    "plt.plot(x, Y_hat, '.', c='r')   #show the least-squares fitted curve\n",
    "plt.show()\n",
    "\n",
    "beta_hat     #print the estimates of the coefficients"
   ]
  },
  {
   "cell_type": "code",
   "execution_count": null,
   "metadata": {
    "collapsed": true
   },
   "outputs": [],
   "source": [
    "from scipy import misc\n",
    "%matplotlib inline"
   ]
  },
  {
   "cell_type": "code",
   "execution_count": 65,
   "metadata": {},
   "outputs": [
    {
     "ename": "NameError",
     "evalue": "name 'misc' is not defined",
     "output_type": "error",
     "traceback": [
      "\u001b[0;31m---------------------------------------------------------------------------\u001b[0m",
      "\u001b[0;31mNameError\u001b[0m                                 Traceback (most recent call last)",
      "\u001b[0;32m<ipython-input-65-ccb7668ed77c>\u001b[0m in \u001b[0;36m<module>\u001b[0;34m\u001b[0m\n\u001b[0;32m----> 1\u001b[0;31m \u001b[0mimage\u001b[0m \u001b[0;34m=\u001b[0m \u001b[0mmisc\u001b[0m\u001b[0;34m.\u001b[0m\u001b[0mimread\u001b[0m\u001b[0;34m(\u001b[0m\u001b[0;34m\"./yalelogo.jpeg\"\u001b[0m\u001b[0;34m)\u001b[0m\u001b[0;34m\u001b[0m\u001b[0;34m\u001b[0m\u001b[0m\n\u001b[0m\u001b[1;32m      2\u001b[0m \u001b[0mtype\u001b[0m\u001b[0;34m(\u001b[0m\u001b[0mimage\u001b[0m\u001b[0;34m)\u001b[0m\u001b[0;34m\u001b[0m\u001b[0;34m\u001b[0m\u001b[0m\n",
      "\u001b[0;31mNameError\u001b[0m: name 'misc' is not defined"
     ]
    }
   ],
   "source": [
    "image = misc.imread(\"yalelogo.jpeg\")\n",
    "type(image)"
   ]
  },
  {
   "cell_type": "code",
   "execution_count": null,
   "metadata": {},
   "outputs": [],
   "source": [
    "np.shape(image)"
   ]
  },
  {
   "cell_type": "code",
   "execution_count": null,
   "metadata": {
    "scrolled": true
   },
   "outputs": [],
   "source": [
    "plt.imshow(image[:,:,3], cmap=plt.cm.Blues)"
   ]
  },
  {
   "cell_type": "code",
   "execution_count": null,
   "metadata": {},
   "outputs": [],
   "source": [
    "image_matrix = np.array([[0.4*(i - 150)**2 + (j - 75)**2 for i in range(300)] for j in range(150)])\n",
    "print(np.shape(image_matrix))\n",
    "print(type(image_matrix))\n",
    "plt.imshow(image_matrix, cmap = plt.cm.afmhot)"
   ]
  },
  {
   "cell_type": "markdown",
   "metadata": {
    "collapsed": true
   },
   "source": [
    "# Python Equivalents of Common R Commands"
   ]
  },
  {
   "cell_type": "markdown",
   "metadata": {},
   "source": [
    "### Statistics\n"
   ]
  },
  {
   "cell_type": "code",
   "execution_count": null,
   "metadata": {
    "collapsed": true
   },
   "outputs": [],
   "source": [
    "#Python                                                        R\n",
    "x1 = np.random.normal(0, 2, 100)                        # x1 <- rnorm(100, 0, 2)\n",
    "x2 = np.random.uniform(-3, 8, 100)                      # x2 <- runif(100, -3, 8)\n",
    "x3 = np.random.gamma(2, 3, 100)                         # x3 <- rgamma(100, 2, scale = 3)"
   ]
  },
  {
   "cell_type": "code",
   "execution_count": null,
   "metadata": {
    "collapsed": true
   },
   "outputs": [],
   "source": [
    "np.mean(x1)                                             # mean(x1)"
   ]
  },
  {
   "cell_type": "code",
   "execution_count": null,
   "metadata": {
    "collapsed": true
   },
   "outputs": [],
   "source": [
    "np.std(x1)                                              # sd(x1)"
   ]
  },
  {
   "cell_type": "code",
   "execution_count": null,
   "metadata": {
    "collapsed": true
   },
   "outputs": [],
   "source": [
    "np.median(x2)                                           # median(x2)"
   ]
  },
  {
   "cell_type": "code",
   "execution_count": null,
   "metadata": {
    "collapsed": true
   },
   "outputs": [],
   "source": [
    "np.max(x2)                                              # max(x2)"
   ]
  },
  {
   "cell_type": "code",
   "execution_count": null,
   "metadata": {
    "collapsed": true
   },
   "outputs": [],
   "source": [
    "np.min(x2)                                              # min(x2)"
   ]
  },
  {
   "cell_type": "code",
   "execution_count": null,
   "metadata": {
    "collapsed": true
   },
   "outputs": [],
   "source": [
    "np.percentile(x3, 90)                                   # quantile(x3, 0.9)"
   ]
  },
  {
   "cell_type": "markdown",
   "metadata": {},
   "source": [
    "### Vectors and matrices"
   ]
  },
  {
   "cell_type": "code",
   "execution_count": null,
   "metadata": {
    "collapsed": true
   },
   "outputs": [],
   "source": [
    "#Python                                                         R\n",
    "vec1 = np.linspace(-6, 10, 10)                         # vec1 <- seq(-6, 10, length.out = 10)\n",
    "vec2 = np.arange(10)                                   # vec2 = 0:9"
   ]
  },
  {
   "cell_type": "code",
   "execution_count": null,
   "metadata": {
    "collapsed": true
   },
   "outputs": [],
   "source": [
    "np.sort(vec1**2)                                       # sort(vec1^2)"
   ]
  },
  {
   "cell_type": "code",
   "execution_count": null,
   "metadata": {
    "collapsed": true
   },
   "outputs": [],
   "source": [
    "np.argsort(vec1**2)                                    # order(vec1^2)"
   ]
  },
  {
   "cell_type": "code",
   "execution_count": null,
   "metadata": {
    "collapsed": true
   },
   "outputs": [],
   "source": [
    "np.where((vec1 >= 3) & (vec1 < 9))[0]                  # which((vec1 >= 3) & (vec1 < 9))"
   ]
  },
  {
   "cell_type": "code",
   "execution_count": null,
   "metadata": {
    "collapsed": true
   },
   "outputs": [],
   "source": [
    "np.vstack((vec1, vec2))                                # rbind(vec1, vec2)"
   ]
  },
  {
   "cell_type": "code",
   "execution_count": null,
   "metadata": {
    "collapsed": true
   },
   "outputs": [],
   "source": [
    "np.vstack((vec1, vec2)).T                             # cbind(vec1, vec2)"
   ]
  },
  {
   "cell_type": "code",
   "execution_count": null,
   "metadata": {
    "collapsed": true
   },
   "outputs": [],
   "source": [
    "np.dot(vec1, vec2)                                    # t(vec1) %*% vec2"
   ]
  },
  {
   "cell_type": "markdown",
   "metadata": {},
   "source": [
    "### Math Operations"
   ]
  },
  {
   "cell_type": "code",
   "execution_count": null,
   "metadata": {
    "collapsed": true
   },
   "outputs": [],
   "source": [
    "# Python                                                      R\n",
    "x = np.pi                                             # x = pi\n",
    "np.sin(x)                                             # sin(x)"
   ]
  },
  {
   "cell_type": "code",
   "execution_count": null,
   "metadata": {
    "collapsed": true
   },
   "outputs": [],
   "source": [
    "np.cos(x)                                             # cos(x)"
   ]
  },
  {
   "cell_type": "code",
   "execution_count": null,
   "metadata": {
    "collapsed": true
   },
   "outputs": [],
   "source": [
    "np.tan(x)                                             # tan(x)"
   ]
  },
  {
   "cell_type": "code",
   "execution_count": null,
   "metadata": {
    "collapsed": true
   },
   "outputs": [],
   "source": [
    "np.exp(x)                                             # exp(x)"
   ]
  },
  {
   "cell_type": "code",
   "execution_count": null,
   "metadata": {
    "collapsed": true
   },
   "outputs": [],
   "source": [
    "np.log(x)                                             # log(x)"
   ]
  },
  {
   "cell_type": "markdown",
   "metadata": {},
   "source": [
    "# Example: Linear Regression"
   ]
  },
  {
   "cell_type": "markdown",
   "metadata": {},
   "source": [
    "To perform linear regression in python we need to import a package such as <i>statsmodels, scipy, sklearn,</i> etc. There are also ways to do it directly with pandas dataframes, <i>Tensorflow</i>, etc."
   ]
  },
  {
   "cell_type": "markdown",
   "metadata": {},
   "source": [
    "$Sepal.Length_{i} = \\beta_{0} + \\beta_{1} Sepal.Width_{i} + \\beta_{2} Petal.Width_{i} + \\beta_{3} Petal.Length_{i} + \\varepsilon_{i}$"
   ]
  },
  {
   "cell_type": "code",
   "execution_count": null,
   "metadata": {},
   "outputs": [],
   "source": [
    "import statsmodels.api as sm\n",
    "model = sm.OLS(iris[\"Sepal.Length\"], sm.add_constant(iris[[\"Sepal.Width\", \"Petal.Width\", \"Petal.Length\"]])).fit()"
   ]
  },
  {
   "cell_type": "code",
   "execution_count": null,
   "metadata": {},
   "outputs": [],
   "source": [
    "print(model.summary())"
   ]
  },
  {
   "cell_type": "code",
   "execution_count": null,
   "metadata": {
    "collapsed": true
   },
   "outputs": [],
   "source": []
  }
 ],
 "metadata": {
  "kernelspec": {
   "display_name": "Python 3",
   "language": "python",
   "name": "python3"
  },
  "language_info": {
   "codemirror_mode": {
    "name": "ipython",
    "version": 3
   },
   "file_extension": ".py",
   "mimetype": "text/x-python",
   "name": "python",
   "nbconvert_exporter": "python",
   "pygments_lexer": "ipython3",
   "version": "3.7.4"
  }
 },
 "nbformat": 4,
 "nbformat_minor": 2
}
