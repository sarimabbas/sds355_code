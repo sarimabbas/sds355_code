{
 "cells": [
  {
   "cell_type": "markdown",
   "metadata": {},
   "source": [
    "# Assignment 3\n",
    "_Due: Midnight on Tuesday October 8, 2019_\n",
    "\n",
    "### NetID: sa857\n",
    "\n",
    "In this assignment you will gain some experience with decision trees and random forests using two data sets. One is a diabetes data set, where the task is to predict the progression of the disease. The other a data set of real estate listings, where the task is to forecast the sale price of the house.\n",
    "\n",
    "#### Submission Instructions:\n",
    "\n",
    "Please fill out this _starter_ Jupyter Notebook, and submit __both__ this `.ipynb` file as well as a pdf file (via html).\n",
    "\n",
    " - In the notebook interface, choose `File -> Download as -> Notebook (ipynb)`.\n",
    " - In the notebook interface, choose `File -> Download as -> HTML`. Then open the html file, and print to pdf.\n",
    "\n",
    "Notes:\n",
    "\n",
    " - We are using the markdown cell-type for texts (and latex), and the code cell-type for the python code. Make sure you don't mix these up. You can change the type from the dropdown at the toolbar on the top.\n",
    " "
   ]
  },
  {
   "cell_type": "code",
   "execution_count": 98,
   "metadata": {},
   "outputs": [],
   "source": [
    "import numpy as np\n",
    "import matplotlib.pyplot as plt\n",
    "import ipdb\n",
    "import pprint"
   ]
  },
  {
   "cell_type": "markdown",
   "metadata": {},
   "source": [
    "## Question 1: Regression trees vs. random forests (20 pts)\n",
    "\n",
    "This problem is based on the `diabetes` dataset from the `sklearn` package. Please read about the dataset at [https://scikit-learn.org/stable/datasets/index.html#diabetes-dataset](https://scikit-learn.org/stable/datasets/index.html#diabetes-dataset). We will seek to predict the response, which is a quantitative measure of diabetes progression one year after baseline, using regression trees and random forests.\n",
    "\n",
    "The following cell imports the dataset as `diabetes` and names the predictor variables `diabetes_x` and the response `diabetes_y`. The names of the six predictor variables are also printed. For a more detailed description, use the `.DESCR` aspect of `diabetes`."
   ]
  },
  {
   "cell_type": "code",
   "execution_count": 99,
   "metadata": {},
   "outputs": [
    {
     "name": "stdout",
     "output_type": "stream",
     "text": [
      "['age', 'sex', 'bmi', 'bp', 's1', 's2', 's3', 's4', 's5', 's6']\n"
     ]
    }
   ],
   "source": [
    "from sklearn import datasets\n",
    "diabetes = datasets.load_diabetes()\n",
    "diabetes_x = diabetes.data\n",
    "diabetes_y = diabetes.target\n",
    "print(diabetes.feature_names)\n"
   ]
  },
  {
   "cell_type": "markdown",
   "metadata": {},
   "source": [
    "### Part (a): Building a Simple Regression Tree\n",
    "\n",
    "To start we will manually build a regression tree using only two of the predictor variables: `bmi` and `s5`. To keep things simple, build a tree that has exactly three nodes and four leaves. (i.e. the data is split into two parts initially and then each of those parts is again split one more time.) At each node you will need to evaluate each possible splitting point for both `bmi` and `s5` and pick the one that minimizes the RSS.\n",
    "\n",
    "When you have built the regression tree, create a scatter plot of `s5` versus `bmi`, color-coded by the response variable. In this plot, use vertical and horizontal lines to indicate the regions that your tree splits the data into. You may find the functions `plt.hlines()` and `plt.vlines()` to be useful."
   ]
  },
  {
   "cell_type": "code",
   "execution_count": 100,
   "metadata": {},
   "outputs": [],
   "source": [
    "bmi = diabetes_x[:,2] # all rows in the bmi column\n",
    "s5 = diabetes_x[:,8]  # all rows in the s5  column"
   ]
  },
  {
   "cell_type": "code",
   "execution_count": 101,
   "metadata": {},
   "outputs": [],
   "source": [
    "# we put a wrapper on the np.mean function to avoid warnings from taking the average of an empty list\n",
    "def average(x):\n",
    "    if len(x) == 0:\n",
    "        return(0.0)\n",
    "    else:\n",
    "        return(np.mean(x))"
   ]
  },
  {
   "cell_type": "code",
   "execution_count": 102,
   "metadata": {},
   "outputs": [],
   "source": [
    "def splitter(bmi_dat, s5_dat, labels_dat):\n",
    "        \n",
    "    rss_bmi = []\n",
    "    rss_s5 = []\n",
    "    \n",
    "    \n",
    "    for i in range(len(bmi_dat)): # go through all the rows\n",
    "        \n",
    "        # for bmi (body mass index)\n",
    "        left = np.where(bmi_dat <= bmi_dat[i])[0] # all entries' indices such that entries <= current val\n",
    "        right = np.where(bmi_dat > bmi_dat[i])[0] # all entries' indices such that entries > current val\n",
    "\n",
    "        # actually the TSS: actual value - average \n",
    "        # how good is this partition?\n",
    "        # this is done by using the indices from the previous steps\n",
    "        rss_bmi.append(np.sum((labels_dat[left] - average(labels_dat[left]))**2) + \n",
    "                       np.sum((labels_dat[right] - average(labels_dat[right]))**2))\n",
    "        \n",
    "        # do the same for s5\n",
    "        left = np.where(s5_dat <= s5_dat[i])[0]\n",
    "        right = np.where(s5_dat > s5_dat[i])[0]\n",
    "        \n",
    "        # how good is this partition?\n",
    "        rss_s5.append(np.sum((labels_dat[left] - average(labels_dat[left]))**2) + \n",
    "                      np.sum((labels_dat[right] - average(labels_dat[right]))**2))\n",
    "        \n",
    "    # return the indices of rss arrays which produced the best splits (lowest RSS)\n",
    "    return {\n",
    "        \"best_bmi_cut\" : np.argmin(rss_bmi),\n",
    "        \"best_s5_cut\" : np.argmin(rss_s5),\n",
    "        \"best_bmi_cut_rss\" : rss_bmi[np.argmin(rss_bmi)],\n",
    "        \"best_s5_cut_rss\" : rss_s5[np.argmin(rss_s5)]\n",
    "    }\n"
   ]
  },
  {
   "cell_type": "code",
   "execution_count": 103,
   "metadata": {},
   "outputs": [],
   "source": [
    "def createNewDataFromSplit(bmi_dat, s5_dat, labels_dat, split_dat):\n",
    "    \n",
    "    # figure out best cut and indices between the two predictors\n",
    "    if split_dat[\"best_s5_cut_rss\"] < split_dat[\"best_bmi_cut_rss\"]:\n",
    "        best_overall_cut = split_dat[\"best_s5_cut\"]\n",
    "        best_overall_cut_location = s5_dat[best_overall_cut]\n",
    "        best_overall_cut_type = \"s5\"\n",
    "        which_indices_left = np.where(s5_dat <= s5_dat[best_overall_cut])\n",
    "        which_indices_right = np.where(s5_dat > s5_dat[best_overall_cut])\n",
    "    else:\n",
    "        best_overall_cut = split_dat[\"best_bmi_cut\"]\n",
    "        best_overall_cut_location = bmi_dat[best_overall_cut]\n",
    "        best_overall_cut_type = \"bmi\"\n",
    "        which_indices_left = np.where(bmi_dat <= bmi_dat[best_overall_cut])\n",
    "        which_indices_right = np.where(bmi_dat > bmi_dat[best_overall_cut])\n",
    "    \n",
    "    # left partition\n",
    "    s5_left = s5_dat[which_indices_left]\n",
    "    bmi_left = bmi_dat[which_indices_left]\n",
    "    labels_left = labels_dat[which_indices_left]\n",
    "\n",
    "    # right partition\n",
    "    s5_right = s5_dat[which_indices_right]\n",
    "    bmi_right = bmi_dat[which_indices_right]\n",
    "    labels_right = labels_dat[which_indices_right]\n",
    "    \n",
    "    # tests\n",
    "    assert(len(s5_left) + len(s5_right) == len(s5_dat))\n",
    "    assert(len(bmi_left) + len(bmi_right) == len(bmi_dat))\n",
    "    assert(len(labels_left) + len(labels_right) == len(labels_dat))\n",
    "    assert(len(s5_left) == len(bmi_left))\n",
    "    assert(len(s5_right) == len(bmi_right))\n",
    "\n",
    "    # return all data\n",
    "    return {\n",
    "        \"s5_left\" : s5_left,\n",
    "        \"bmi_left\" : bmi_left,\n",
    "        \"labels_left\" : labels_left,\n",
    "        \n",
    "        \"s5_left_len\" : len(s5_left),\n",
    "        \"bmi_left_len\" : len(bmi_left),\n",
    "        \"labels_left_len\" : len(labels_left),\n",
    "\n",
    "        \"s5_right\" : s5_right,\n",
    "        \"bmi_right\" : bmi_right,\n",
    "        \"labels_right\" : labels_right,\n",
    "        \n",
    "        \"s5_right_len\" : len(s5_right),\n",
    "        \"bmi_right_len\" : len(bmi_right),\n",
    "        \"labels_right_len\" : len(labels_right),\n",
    "        \n",
    "        \"best_overall_cut\" : best_overall_cut,\n",
    "        \"best_overall_cut_type\" : best_overall_cut_type,\n",
    "        \"best_overall_cut_location\" : best_overall_cut_location,\n",
    "        \"which_indices_left\" : which_indices_left,\n",
    "        \"which_indices_right\" : which_indices_right,\n",
    "    }\n",
    "        \n",
    "   "
   ]
  },
  {
   "cell_type": "code",
   "execution_count": 104,
   "metadata": {},
   "outputs": [],
   "source": [
    "def splitPipeline(bmi_dat, s5_dat, labels_dat):\n",
    "    split_results = splitter(bmi_dat, s5_dat, labels_dat)\n",
    "    new_dat = createNewDataFromSplit(bmi_dat, s5_dat, labels_dat, split_results)\n",
    "    return new_dat"
   ]
  },
  {
   "cell_type": "code",
   "execution_count": 105,
   "metadata": {},
   "outputs": [],
   "source": [
    "# first split\n",
    "first_split_dat = splitPipeline(bmi, s5, diabetes_y)"
   ]
  },
  {
   "cell_type": "code",
   "execution_count": 106,
   "metadata": {},
   "outputs": [],
   "source": [
    "# left split\n",
    "left_split_dat = splitPipeline(first_split_dat[\"bmi_left\"], \n",
    "                               first_split_dat[\"s5_left\"], \n",
    "                               first_split_dat[\"labels_left\"])\n",
    "\n",
    "left_leaf_one = {\n",
    "    \"bmi\": left_split_dat[\"bmi_left\"], \n",
    "    \"s5\": left_split_dat[\"s5_left\"],\n",
    "    \"labels\" : left_split_dat[\"labels_left\"]\n",
    "}\n",
    "\n",
    "left_leaf_two = {\n",
    "    \"bmi\": left_split_dat[\"bmi_right\"], \n",
    "    \"s5\": left_split_dat[\"s5_right\"],\n",
    "    \"labels\" : left_split_dat[\"labels_right\"]\n",
    "}"
   ]
  },
  {
   "cell_type": "code",
   "execution_count": 107,
   "metadata": {},
   "outputs": [],
   "source": [
    "# RIGHT NODE\n",
    "right_split_dat = splitPipeline(first_split_dat[\"bmi_right\"], \n",
    "                               first_split_dat[\"s5_right\"], \n",
    "                               first_split_dat[\"labels_right\"])\n",
    "\n",
    "right_leaf_one = {\n",
    "    \"s5\": right_split_dat[\"s5_left\"],\n",
    "    \"bmi\": right_split_dat[\"bmi_left\"], \n",
    "    \"labels\": right_split_dat[\"labels_left\"]\n",
    "}\n",
    "\n",
    "right_leaf_two = {\n",
    "    \"s5\": right_split_dat[\"s5_right\"],\n",
    "    \"bmi\": right_split_dat[\"bmi_right\"], \n",
    "    \"labels\" :right_split_dat[\"labels_right\"]\n",
    "}"
   ]
  },
  {
   "cell_type": "code",
   "execution_count": 108,
   "metadata": {
    "pixiedust": {
     "displayParams": {}
    }
   },
   "outputs": [],
   "source": [
    "# You should feel free to rewrite the above code in any way that suits you.\n",
    "# Now complete the code to make the best split, and then split each child node, \n",
    "# and then visualize the tree, showing the four leaf rectangles in the space s5 vs. bmi"
   ]
  },
  {
   "cell_type": "code",
   "execution_count": 136,
   "metadata": {},
   "outputs": [
    {
     "data": {
      "text/plain": [
       "<matplotlib.collections.LineCollection at 0x126431c50>"
      ]
     },
     "execution_count": 136,
     "metadata": {},
     "output_type": "execute_result"
    },
    {
     "data": {
      "image/png": "[encoded data removed]",
      "text/plain": [
       "<Figure size 1080x720 with 2 Axes>"
      ]
     },
     "metadata": {
      "needs_background": "light"
     },
     "output_type": "display_data"
    }
   ],
   "source": [
    "# draw the main figure\n",
    "plt.figure(figsize=(15,10))\n",
    "plt.scatter(bmi, s5, c=diabetes_y)\n",
    "plt.title(\"Diabetes data plot\")\n",
    "plt.xlabel(\"BMI variable\")\n",
    "plt.ylabel(\"S5 variable\")\n",
    "cbar = plt.colorbar()\n",
    "cbar.set_label(\"Diabetes response\", labelpad=+1)\n",
    "\n",
    "# draw the cuts\n",
    "\n",
    "# the first one was an s5 cut at -0.00421985970694603\n",
    "plt.hlines(y=first_split_dat[\"best_overall_cut_location\"], \n",
    "           xmin=min(bmi), \n",
    "           xmax=max(bmi), \n",
    "           label=\"Split 1\",\n",
    "           color=\"red\")\n",
    "\n",
    "# the second one was a bmi cut at 0.00564997867688165\n",
    "plt.vlines(left_split_dat[\"best_overall_cut_location\"], \n",
    "           min(s5), \n",
    "           first_split_dat[\"best_overall_cut_location\"], \n",
    "           label=\"Split 2\",\n",
    "           color=\"orange\")\n",
    "\n",
    "# the third one was a bmi cut at 0142724752679289\n",
    "plt.vlines(right_split_dat[\"best_overall_cut_location\"], \n",
    "           first_split_dat[\"best_overall_cut_location\"], \n",
    "           max(s5), \n",
    "           label=\"Split 3\", \n",
    "           color=\"blue\")\n"
   ]
  },
  {
   "cell_type": "code",
   "execution_count": 126,
   "metadata": {},
   "outputs": [
    {
     "name": "stdout",
     "output_type": "stream",
     "text": [
      "{'best_overall_cut': 17,\n",
      " 'best_overall_cut_location': 0.0142724752679289,\n",
      " 'best_overall_cut_type': 'bmi',\n",
      " 'bmi_left': array([-0.01159501, -0.00189471, -0.01806189,  0.01211685, -0.01267283,\n",
      "       -0.02129532, -0.00620595, -0.03099563,  0.01103904,  0.01427248,\n",
      "       -0.00836158,  0.01427248, -0.06440781, -0.02560657,  0.00457217,\n",
      "       -0.02452876, -0.01806189, -0.00405033,  0.00241654, -0.03099563,\n",
      "       -0.05794093,  0.01211685, -0.00620595,  0.00457217, -0.05794093,\n",
      "        0.00996123, -0.06440781,  0.01427248,  0.00133873, -0.02129532,\n",
      "       -0.0105172 , -0.04716281, -0.00836158, -0.00189471,  0.01211685,\n",
      "       -0.00512814, -0.00081689, -0.03315126, -0.0191397 , -0.02668438,\n",
      "        0.00996123, -0.01590626,  0.00457217,  0.00564998, -0.03530688,\n",
      "       -0.01806189, -0.00297252, -0.01267283, -0.04177375, -0.00512814,\n",
      "       -0.05901875,  0.00349435, -0.04500719,  0.00133873,  0.00672779,\n",
      "        0.00349435, -0.06548562, -0.04177375, -0.03854032, -0.02560657,\n",
      "       -0.03099563,  0.00026092,  0.00672779, -0.00943939, -0.03207344,\n",
      "       -0.06548562, -0.02560657, -0.00081689, -0.02021751, -0.02452876,\n",
      "       -0.01159501, -0.03638469, -0.0902753 , -0.02237314, -0.02021751,\n",
      "       -0.00620595, -0.03961813, -0.03099563,  0.00133873,  0.01427248,\n",
      "       -0.03422907,  0.00672779,  0.00457217, -0.00728377,  0.00564998,\n",
      "       -0.00836158, -0.00620595, -0.01267283, -0.00728377, -0.01159501,\n",
      "       -0.00297252, -0.02991782, -0.05578531,  0.00564998, -0.02452876,\n",
      "       -0.00620595, -0.03854032,  0.00241654, -0.00943939, -0.03422907,\n",
      "       -0.00297252,  0.00996123,  0.00241654, -0.02991782, -0.02452876,\n",
      "        0.00133873, -0.00405033, -0.03315126, -0.05039625, -0.01159501,\n",
      "       -0.0277622 ,  0.00672779,  0.00888341, -0.03961813,  0.01103904,\n",
      "       -0.03422907]),\n",
      " 'bmi_left_len': 116,\n",
      " 'bmi_right': array([0.06169621, 0.04445121, 0.03906215, 0.04229559, 0.06061839,\n",
      "       0.12528712, 0.02289497, 0.07139652, 0.06816308, 0.0164281 ,\n",
      "       0.04121778, 0.03367309, 0.0519959 , 0.08864151, 0.01750591,\n",
      "       0.04552903, 0.11019775, 0.05846277, 0.01750591, 0.08109682,\n",
      "       0.0347509 , 0.0164281 , 0.09618619, 0.05630715, 0.04984027,\n",
      "       0.11127556, 0.06169621, 0.04768465, 0.04660684, 0.05954058,\n",
      "       0.09295276, 0.02073935, 0.06061839, 0.0433734 , 0.06385183,\n",
      "       0.06924089, 0.05954058, 0.07139652, 0.01966154, 0.02720622,\n",
      "       0.02397278, 0.04229559, 0.0250506 , 0.03043966, 0.04660684,\n",
      "       0.02612841, 0.04552903, 0.04013997, 0.09403057, 0.03582872,\n",
      "       0.03151747, 0.03259528, 0.07139652, 0.03906215, 0.01966154,\n",
      "       0.07462995, 0.04768465, 0.06061839, 0.05630715, 0.09834182,\n",
      "       0.03367309, 0.05630715, 0.16085492, 0.12744274, 0.08864151,\n",
      "       0.03043966, 0.02612841, 0.01858372, 0.05522933, 0.07678558,\n",
      "       0.01858372, 0.03906215, 0.07355214, 0.03367309, 0.0347509 ,\n",
      "       0.04013997, 0.05307371, 0.03043966, 0.0519959 , 0.06169621,\n",
      "       0.05415152, 0.114509  , 0.06708527, 0.10480869, 0.08540807,\n",
      "       0.01750591, 0.06061839, 0.04552903, 0.04984027, 0.02073935,\n",
      "       0.10480869, 0.13714305, 0.17055523, 0.06816308, 0.06061839,\n",
      "       0.06924089, 0.01858372, 0.01535029, 0.02289497, 0.097264  ,\n",
      "       0.12313149, 0.08540807, 0.0164281 , 0.07786339, 0.08864151,\n",
      "       0.05522933, 0.01966154, 0.03906215]),\n",
      " 'bmi_right_len': 108,\n",
      " 'labels_left': array([206., 185., 171., 144., 202., 131., 283., 102., 276.,  90., 100.,\n",
      "       142., 170., 170., 144., 163., 150., 202.,  85.,  42., 252., 143.,\n",
      "       134.,  48., 162., 150.,  83., 297., 229., 281., 179., 200., 161.,\n",
      "       109., 235., 126., 292.,  84., 214., 152., 151., 151., 107., 138.,\n",
      "       185., 101., 141., 292., 178., 116.,  86., 129.,  90., 196., 277.,\n",
      "        73., 214., 185.,  93., 252., 154., 259.,  67., 257.,  78., 153.,\n",
      "        74., 115., 241.,  66.,  94., 102.,  94., 156., 233., 219., 124.,\n",
      "       172., 142., 220., 190., 109., 191., 248., 249., 131., 164.,  91.,\n",
      "        95., 200., 139.,  88., 109., 311.,  58., 262., 206., 123., 197.,\n",
      "       140., 217., 235., 245.,  69., 110., 258., 198., 168., 189., 181.,\n",
      "       209., 131., 174.,  91., 111., 120.]),\n",
      " 'labels_left_len': 116,\n",
      " 'labels_right': array([151., 141., 310., 166., 245., 341., 265., 252., 259., 225.,  52.,\n",
      "       270., 164., 279., 128., 232., 258., 275., 173., 180.,  84., 268.,\n",
      "       274., 272., 280., 336., 281., 317., 174., 178., 128., 197., 186.,\n",
      "       195., 217., 220., 268., 295., 237., 225., 265., 137., 122., 222.,\n",
      "        99., 196., 202., 155., 263., 248., 296., 208., 220., 246., 262.,\n",
      "       275., 258., 215., 303., 243., 150., 310., 346., 308., 264., 202.,\n",
      "       283., 265.,  68., 332., 248.,  85., 275., 198., 236., 180., 163.,\n",
      "       122., 230., 242., 192., 237.,  78., 270., 306., 139., 243., 272.,\n",
      "       221., 281., 321., 233., 242., 121., 132., 277., 273., 242., 232.,\n",
      "       275., 281., 261., 212., 233., 310., 173., 178., 220.]),\n",
      " 'labels_right_len': 108,\n",
      " 's5_left': array([ 0.02269202,  0.03839325,  0.03605579,  0.02736771,  0.01919903,\n",
      "       -0.00060925,  0.0594238 ,  0.02131085,  0.01703713,  0.01919903,\n",
      "        0.01255315,  0.03546194, -0.00060925,  0.03839325,  0.0366458 ,\n",
      "        0.0423449 ,  0.00027149,  0.08449528,  0.00371174,  0.00620932,\n",
      "        0.04289569,  0.02539313,  0.04289569,  0.01255315,  0.0011438 ,\n",
      "        0.06078775,  0.0117839 ,  0.04666077,  0.08379677,  0.07912108,\n",
      "        0.02061233,  0.02736771,  0.08058546,  0.00455189,  0.04560081,\n",
      "        0.06123791,  0.02671426,  0.01022564,  0.01776348,  0.13359898,\n",
      "        0.01703713,  0.01407245,  0.01630495,  0.01556684,  0.01556684,\n",
      "        0.06731722, -0.00149859,  0.02337484,  0.01022564,  0.03953988,\n",
      "        0.00200784,  0.01331597,  0.08989869,  0.08449528,  0.00200784,\n",
      "       -0.00060925,  0.00702686,  0.0011438 ,  0.0011438 ,  0.0011438 ,\n",
      "        0.00943641,  0.02405258,  0.04067226,  0.0110081 ,  0.04506617,\n",
      "       -0.00330371,  0.01482271,  0.02337484,  0.10635428,  0.01556684,\n",
      "        0.0110081 ,  0.0011438 ,  0.02405258,  0.00286377,  0.05988072,\n",
      "        0.03243323,  0.01776348,  0.02337484,  0.02671426,  0.07496834,\n",
      "        0.02472532,  0.00943641,  0.02866072,  0.12901941,  0.06604821,\n",
      "        0.02993565,  0.02930041,  0.00538437,  0.04344317,  0.00702686,\n",
      "       -0.00060925,  0.00371174,  0.13237265,  0.01482271,  0.01919903,\n",
      "        0.01482271,  0.03119299,  0.08553312,  0.11934399, -0.00060925,\n",
      "        0.02801651,  0.00943641,  0.02269202,  0.02405258,  0.02671426,\n",
      "        0.03181522,  0.03605579,  0.01556684,  0.05803913,  0.03056649,\n",
      "        0.06604821,  0.054724  ,  0.01482271,  0.01556684,  0.02405258,\n",
      "        0.03546194]),\n",
      " 's5_left_len': 116,\n",
      " 's5_right': array([ 0.01990842,  0.00286377,  0.06773633,  0.05228   ,  0.13359898,\n",
      "        0.00027149,  0.054724  ,  0.07142403,  0.03243323, -0.00239668,\n",
      "        0.03365681,  0.02671426,  0.03723201,  0.00286377,  0.03723201,\n",
      "        0.04560081,  0.09924023,  0.02200405,  0.01990842,  0.03243323,\n",
      "        0.01556684,  0.03896837,  0.02269202,  0.05078151,  0.01703713,\n",
      "        0.02801651,  0.054724  ,  0.04506617,  0.00620932,  0.01482271,\n",
      "        0.02605609,  0.00864028,  0.03781448,  0.0423449 ,  0.07573759,\n",
      "        0.07763279,  0.06898221,  0.07341008, -0.00330371,  0.07222365,\n",
      "        0.03723201,  0.04718617,  0.00783714,  0.02539313,  0.06345592,\n",
      "        0.00943641,  0.04613233, -0.00149859,  0.0366458 ,  0.04560081,\n",
      "        0.03365681,  0.06301662,  0.05027649,  0.06432823,  0.06604821,\n",
      "        0.03365681,  0.06389312,  0.0702113 ,  0.07573759,  0.08449528,\n",
      "        0.03486419,  0.12005338,  0.02801651,  0.03486419,  0.02930041,\n",
      "        0.00864028,  0.05757286,  0.01630495,  0.06123791,  0.02993565,\n",
      "        0.05803913,  0.01630495,  0.04289569,  0.03119299,  0.07380215,\n",
      "        0.01255315,  0.05520504,  0.03304707,  0.09864637,  0.13339573,\n",
      "        0.08449528, -0.00060925, -0.00149859,  0.05710419,  0.08094791,\n",
      "        0.06257518,  0.0702113 ,  0.07419254,  0.04976866,  0.01331597,\n",
      "        0.00371174,  0.07102158,  0.03365681,  0.04613233,  0.10413761,\n",
      "        0.10329226,  0.13008061,  0.04506617,  0.03953988,  0.06168585,\n",
      "        0.0366458 ,  0.00620932,  0.04976866,  0.04067226,  0.06604821,\n",
      "        0.05568355,  0.03119299,  0.04452837]),\n",
      " 's5_right_len': 108,\n",
      " 'which_indices_left': (array([  2,   4,   5,   7,   9,  10,  11,  13,  15,  17,  18,  20,  23,\n",
      "        24,  25,  26,  27,  29,  30,  31,  32,  33,  34,  36,  37,  38,\n",
      "        40,  43,  45,  47,  48,  49,  53,  54,  62,  66,  67,  70,  73,\n",
      "        76,  78,  81,  82,  83,  84,  86,  88,  89,  90,  91,  92,  94,\n",
      "        95,  96,  98, 103, 107, 108, 109, 110, 113, 114, 116, 117, 120,\n",
      "       127, 130, 131, 134, 135, 136, 138, 140, 141, 142, 143, 151, 152,\n",
      "       153, 156, 157, 158, 159, 163, 164, 166, 170, 172, 173, 174, 175,\n",
      "       177, 179, 182, 185, 186, 187, 190, 191, 192, 193, 195, 196, 198,\n",
      "       199, 202, 203, 206, 209, 210, 211, 213, 214, 217, 218, 219]),),\n",
      " 'which_indices_right': (array([  0,   1,   3,   6,   8,  12,  14,  16,  19,  21,  22,  28,  35,\n",
      "        39,  41,  42,  44,  46,  50,  51,  52,  55,  56,  57,  58,  59,\n",
      "        60,  61,  63,  64,  65,  68,  69,  71,  72,  74,  75,  77,  79,\n",
      "        80,  85,  87,  93,  97,  99, 100, 101, 102, 104, 105, 106, 111,\n",
      "       112, 115, 118, 119, 121, 122, 123, 124, 125, 126, 128, 129, 132,\n",
      "       133, 137, 139, 144, 145, 146, 147, 148, 149, 150, 154, 155, 160,\n",
      "       161, 162, 165, 167, 168, 169, 171, 176, 178, 180, 181, 183, 184,\n",
      "       188, 189, 194, 197, 200, 201, 204, 205, 207, 208, 212, 215, 216,\n",
      "       220, 221, 222, 223]),)}\n"
     ]
    }
   ],
   "source": [
    "# start adding cuts\n",
    "pprint.pprint(right_split_dat)"
   ]
  },
  {
   "cell_type": "markdown",
   "metadata": {},
   "source": [
    "### Part (b) Fitting a Full Regression Tree\n",
    "\n",
    "Now build a tree that uses all the predictor variables, has a more flexible structure, and is validated with a test set. Split the full dataset into a training set and a test set (50/50). Fit a regression tree to the training set using the function `DecisionTreeRegressor` from `sklearn.tree`. For now, use your best judgment to choose parameters for tree complexity; we will use analytical methods to choose parameters in later parts of this problem set. Some starter code is provided:"
   ]
  },
  {
   "cell_type": "code",
   "execution_count": null,
   "metadata": {},
   "outputs": [],
   "source": [
    "from sklearn import tree\n",
    "\n",
    "regr = tree.DecisionTreeRegressor().fit() #tree parameters go inside the first set of parenthases and the training data\n",
    "                                          #goes in the second set of parenthases"
   ]
  },
  {
   "cell_type": "markdown",
   "metadata": {},
   "source": [
    "### Part (c) Plotting the Tree\n",
    "\n",
    "Plot your regression tree. To do so, we suggest that you use GraphViz in conjunction with `sklearn.tree.export_graphviz`. Once you install GraphViz, the following cell will plot the tree.\n",
    "\n",
    "Instructions for using GraphViz (Windows):\n",
    "\n",
    "1. Install GraphViz to your computer from the link [https://graphviz.gitlab.io/download/](https://graphviz.gitlab.io/download/).\n",
    "\n",
    "2. Install the Python package using `pip install graphviz` or `conda install graphviz`.\n",
    "\n",
    "3. Set a path to your computer's GraphViz installation (NOT the Python package). You can do so locally in this notebook by running something like `import os; os.environ[\"PATH\"] += os.pathsep + 'C:/Program Files (x86)/Graphviz2.38/bin/'` (substituting in the location of your own GraphViz installation).\n",
    "\n",
    "4. You can now use the functions in the `graphviz` package with `sklearn.tree.export_graphviz`!\n",
    "\n",
    "Instructions for using GraphViz (Mac OS):\n",
    "\n",
    "1. Make sure you have the package manager Homebrew.\n",
    "\n",
    "2. Install GraphViz to your computer using `brew install graphviz`.\n",
    "\n",
    "3. Install the Python package using `pip install graphviz` or `conda install graphviz`.\n",
    "\n",
    "4. You can now use the functions in the `graphviz` package with `sklearn.tree.export_graphviz`! _Note: If you get an ExecutableNotFound error, you might have to set a path to your computer's GraphViz installation (NOT the Python package). You can do so locally in this notebook by running something like `import os; os.environ[\"PATH\"] += os.pathsep + 'C:/Program Files (x86)/Graphviz2.38/bin/'` (substituting in the location of your own GraphViz installation)._\n"
   ]
  },
  {
   "cell_type": "code",
   "execution_count": null,
   "metadata": {},
   "outputs": [],
   "source": [
    "import graphviz\n",
    "#import os; os.environ[\"PATH\"] += os.pathsep + 'C:/Program Files (x86)/Graphviz2.38/bin/'\n",
    "\n",
    "graphviz.Source(tree.export_graphviz(regr, out_file=None, feature_names=dat.feature_names))"
   ]
  },
  {
   "cell_type": "markdown",
   "metadata": {},
   "source": [
    "### Part (d) Evaluation\n",
    "\n",
    "Interpret your regression tree. What are some examples of variables that seem to correspond with higher or lower measures of diabetes progression? Find the MSE of the model using the test set. The `.predict` method for your model can help with this."
   ]
  },
  {
   "cell_type": "code",
   "execution_count": null,
   "metadata": {},
   "outputs": [],
   "source": [
    "# Your Code Here"
   ]
  },
  {
   "cell_type": "markdown",
   "metadata": {},
   "source": [
    "### Part (e) Random Forest\n",
    "\n",
    "Now use random forests to analyze the data with the `RandomForestRegressor` function from `sklearn.ensemble`. (Again, you may use your best judgment to choose the initial parameters for tree complexity.)\n",
    "\n",
    "__(i)__ What test MSE do you obtain, and how does it compare to the test MSE of the regression tree above? \n",
    "\n",
    "__(ii)__ According to the model, which variables are most important in predicting diabetes progression? (The `.feature_importances_` method of the model may help with this.)\n",
    "\n",
    "__(iii)__ Plot the MSE of the prediction against $m$, the number of variables considered at each split.\n",
    "\n",
    "__(iv)__ Comment on the plot you created and if it makes sense."
   ]
  },
  {
   "cell_type": "code",
   "execution_count": null,
   "metadata": {},
   "outputs": [],
   "source": [
    "from sklearn import ensemble\n",
    "\n",
    "# Here is an example of how to use the random forest function in sklearn.ensemble.\n",
    "# The code below assumes that the training inputs and responses are loaded in the variables train_x and train_y\n",
    "# and that the test predictor variables are in test_x\n",
    "\n",
    "# dtr = ensemble.RandomForestRegressor(min_samples_leaf = 15, max_features = m)\n",
    "# regr = dtr.fit(train_x, train_y)\n",
    "# pred_y = regr.predict(test_x)\n",
    "# mse = sum(np.square(test_y-pred_y))\n",
    "\n",
    "# Your Code Here"
   ]
  },
  {
   "cell_type": "markdown",
   "metadata": {},
   "source": [
    "## Question 2: Analyzing Real Estate Data (40 pts)\n",
    "\n",
    "In this problem, you will train random forests on data from the website Zillow to forecast the sale price of real estate listings. Random forests are nonparametric methods for classification and regression. As discussed in class, the method is based on the following idea: a good predictor will have low bias and low variance. A deep decision tree has low bias, but high variance. To reduce the variance, multiple trees are fit and averaged together. By introducing randomness in the construction of the trees, the correlation between them is reduced, to facilitate the variance reduction.\n",
    "\n",
    "Read in the training and test sets as follows:\n",
    "\n",
    "`import pandas as pd\n",
    "train = pd.read_csv(\"zillow_train.csv\")\n",
    "test = pd.read_csv(\"zillow_test.csv\")`\n",
    "\n",
    "Use the following variables: `Lat`, `Long`, `ListPrice`, `SaleYear`, `Bathroom`, `Bedroom`, `BuildDecade`, `MajorRenov`, `FinishSqFt`, `LotSqFt`, `MSA`, `City`, `HighSchool`, `SalePrice`. You will build regression models to predict `SalePrice`.\n",
    "\n",
    "\n",
    "### (a) Explore the data\n",
    "\n",
    "Get an idea of what kind of data you're working with. As usual, you might ask yourself what $n$ (sample size) and $p$ (number of predictor variables) are here. Make plots of the distributions of the variables. Include a plot of the response, `SalePrice`. Does it appear that the data are \"raw\", or have they been pre-processed in different ways? If so, how?"
   ]
  },
  {
   "cell_type": "code",
   "execution_count": null,
   "metadata": {},
   "outputs": [],
   "source": [
    "# Your Code Here"
   ]
  },
  {
   "cell_type": "markdown",
   "metadata": {},
   "source": [
    "`Comment here on the above questions`"
   ]
  },
  {
   "cell_type": "markdown",
   "metadata": {},
   "source": [
    "### Part (b) Preliminary steps\n",
    "\n",
    "__(i)__ Some of the variables in the data are categorical; how many values do they take? (You may find the `.nunique` method of pandas to be useful here.) Why might factor variables with many categories present a problem when fitting decision trees? Describe a couple different ways of handling factor variables when fitting decision trees.\n"
   ]
  },
  {
   "cell_type": "markdown",
   "metadata": {},
   "source": [
    "`Your Markdown Here`"
   ]
  },
  {
   "cell_type": "markdown",
   "metadata": {},
   "source": [
    "__(ii)__ Use your best judgement to modify the Zillow dataset to handle factor variables. In addition to `pandas` and `numpy`, it might be helpful to look at functions in `sklearn.preprocessing`."
   ]
  },
  {
   "cell_type": "code",
   "execution_count": null,
   "metadata": {},
   "outputs": [],
   "source": [
    "# Your Code Here"
   ]
  },
  {
   "cell_type": "markdown",
   "metadata": {},
   "source": [
    "__(iii)__ We will soon use a few methods to predict `SalePrice`. Throughout, we will evaluate the predictions in terms of the absolute relative error:\n",
    "\n",
    "<center>$\\frac{1}{n}\\sum_{i=1}^n \\frac{\\mid Y_i - \\hat{Y}_i\\mid}{Y_i}$</center>\n",
    "\n",
    "Explain why this is a more appropriate choice of accuracy, compared with squared error."
   ]
  },
  {
   "cell_type": "markdown",
   "metadata": {},
   "source": [
    "`Your Markdown Here`"
   ]
  },
  {
   "cell_type": "markdown",
   "metadata": {},
   "source": [
    "### Part (c) Build models using random forests\n",
    "\n",
    "Build random forest models to predict `SalePrice` from the other variables, using the appropriate method from `sklearn.ensemble`. As in Question 1, one parameter to vary is `max_features`, or the number of variables allowed in each split; this regulates the correlation between the trees in the random forest by introducing randomness. Two more relevant parameters are `n_estimators` and `min_samples_leaf`, or number of trees and minimum node size, which regulate variance and bias.\n",
    "\n",
    "Train several random forest models, each time using different values of the parameters. Evaluate each model using 5-fold cross-validation (`sklearn.model_selection.KFold` may be a useful resource to perform k-fold cross-validation). For the sake of time, you may keep `n_estimators` low and constant. First vary `max_features` and create a plot of the cross-validation error versus the value of this parameter. Next vary `min_samples_leaf` a create a similar plot with the values of this parameter. \n",
    "\n",
    "Comment on how cross-validation error relates to `max_features` and `min_samples_leaf`, and how do you imagine it would relate to `n_estimators`? Does this make sense to you?\n",
    "\n",
    "Now find a combination of values for `max_features` and `min_samples_leaf` that approximately minimizes the cross-validation error. \n",
    "\n",
    "_Note: Use mean absolute error (`mae`) rather than mean squared error (`mse`) as the criterion for growing the trees. But then when you evaluate different models, compute the relative absolute error, as described above._"
   ]
  },
  {
   "cell_type": "code",
   "execution_count": null,
   "metadata": {},
   "outputs": [],
   "source": [
    "#Starter Code to fill in and complete\n",
    "from sklearn import model_selection\n",
    "kf = model_selection.KFold(n_splits=5)\n",
    "\n",
    "x = \n",
    "y = \n",
    "\n",
    "for m in range( , ): # vary min_samples_leaf\n",
    "\n",
    "    dtr = ensemble.RandomForestRegressor(n_estimators = 15, min_samples_leaf = m, #these are the parameters to vary\n",
    "                                         max_features = 10, criterion = 'mae')\n",
    "    \n",
    "    for train_index, test_index in kf.split(x):\n",
    "        train_x = \n",
    "        train_y = \n",
    "        regr = dtr.fit(train_x, train_y)\n",
    "        "
   ]
  },
  {
   "cell_type": "markdown",
   "metadata": {},
   "source": [
    "### Part (d) Comparison to Least-Squares Regression\n",
    "\n",
    "Now build a least-squares linear model for the response variable as a function of the predictor variables using the training set. You may wish to use the `sklearn.linear_model.LinearRegression` function, described\n",
    "[here](https://scikit-learn.org/stable/modules/generated/sklearn.linear_model.LinearRegression.html).\n",
    "\n",
    "Experiment with different subsets of the predictor variables included in the linear model. \n",
    "\n",
    "Using the random forest model from Part (c) with the best combination of values for `max_features` and `min_samples_leaf` that you found, compare both the mean squared error and the relative absolute error on the test set from the random forest and linear models.\n",
    "\n",
    "Which model does a better job at prediction? Do you think the model with the higher MSE has higher variance or higher bias, or both?"
   ]
  },
  {
   "cell_type": "code",
   "execution_count": null,
   "metadata": {},
   "outputs": [],
   "source": [
    "#Your Code Here"
   ]
  },
  {
   "cell_type": "markdown",
   "metadata": {},
   "source": [
    "`Your Markdown Here`"
   ]
  },
  {
   "cell_type": "markdown",
   "metadata": {},
   "source": [
    "### Part (e) Predicting SalePrice\n",
    "\n",
    "Read in the file \"zillow_part_e.csv\" which has 7000 houses with all the same variables as the training and testing set, except that the SalePrice variable is missing. \n",
    "\n",
    "Construct the best model you can on the training data. You can use random forests, or you may try to use gradient tree boosting, which is also available in sklearn.ensemble.  \n",
    "\n",
    "Using your best model, predict the sale prices for these 7000 houses. Students will be assigned extra credit according to which decile they are in for the predictive accuracy (relative absolute error). (The top 10% will receive 10 points extra credit, the next 10% 9 points, and so on.) \n",
    "\n",
    "Save your predictions in a file called \"zillow_predictions.csv\" and submit this file with your homework. Your csv file should only contain a single column of predictions, without a header, where the $i$-th row corresponds to the predicted sale price for the $i$-th row of the dataset read in from \"zillow_part_e.csv\", excluding the header.\n"
   ]
  },
  {
   "cell_type": "code",
   "execution_count": null,
   "metadata": {},
   "outputs": [],
   "source": [
    "# Your Code Here\n",
    "newdata = pd.read_csv(\"zillow_part_e.csv\")\n"
   ]
  }
 ],
 "metadata": {
  "kernelspec": {
   "display_name": "Python 3",
   "language": "python",
   "name": "python3"
  },
  "language_info": {
   "codemirror_mode": {
    "name": "ipython",
    "version": 3
   },
   "file_extension": ".py",
   "mimetype": "text/x-python",
   "name": "python",
   "nbconvert_exporter": "python",
   "pygments_lexer": "ipython3",
   "version": "3.7.4"
  },
  "toc": {
   "base_numbering": 1,
   "nav_menu": {},
   "number_sections": true,
   "sideBar": true,
   "skip_h1_title": false,
   "title_cell": "Table of Contents",
   "title_sidebar": "Contents",
   "toc_cell": false,
   "toc_position": {},
   "toc_section_display": true,
   "toc_window_display": false
  }
 },
 "nbformat": 4,
 "nbformat_minor": 4
}
