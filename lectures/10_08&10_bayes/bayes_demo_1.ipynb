{
 "cells": [
  {
   "cell_type": "markdown",
   "metadata": {},
   "source": [
    "## Demo code for Bayesian analysis\n",
    "\n",
    "We first simulate the posterior distribution for the \"heads probability\" of a coin. The prior and posterior distributions are Beta distributions. \n",
    "\n",
    "Then, we simulate the posterior distribution for the weightings of a \"three sided die\" -- a multinomial on three outcomes. Here the prior and posterior distributions are Dirichlet.\n"
   ]
  },
  {
   "cell_type": "code",
   "execution_count": 2,
   "metadata": {},
   "outputs": [],
   "source": [
    "import os, gzip\n",
    "import numpy as np\n",
    "import matplotlib.pyplot as plt\n"
   ]
  },
  {
   "cell_type": "markdown",
   "metadata": {},
   "source": [
    "## Bayesian calculation for flipping a coin\n",
    "\n",
    "Here we illustrate the basic Bayes inference scheme when the probability of heads is uncertain.\n"
   ]
  },
  {
   "cell_type": "code",
   "execution_count": 7,
   "metadata": {},
   "outputs": [],
   "source": [
    "%matplotlib qt\n",
    "from scipy.special import gamma\n",
    "from scipy import random\n",
    "from scipy.stats import beta\n",
    "\n",
    "# we dont know theta, it could be anywhere between 0 and 1, but\n",
    "# we suspect it might be 0.5\n",
    "theta = np.linspace(0,1,num=500) \n",
    "fig = plt.figure(1)\n",
    "plt.ion()\n",
    "\n",
    "a0 = 1*2\n",
    "b0 = 1*3\n",
    "sample_size = 100\n",
    "p = 0.8 # in this case the true parameter is 0.8 (which we don't know)\n",
    "prior = beta.pdf(theta, a0, b0)\n",
    "# we assume a prior beta distrbution over theta with two parameters\n",
    "\n",
    "# for about 21 tries  \n",
    "# 0, 50, 100, 150, 200, 250, 300 ... 1000\n",
    "for n in np.arange(0, 1001, 50):\n",
    "    \n",
    "    # sample from a coin with probability of heads p\n",
    "    x = random.multinomial(n, pvals=[p, 1-p]) \n",
    "    # a multinomial is a generalization of a bionomial\n",
    "    # n is how many experiments to do (e.g. toss the coin 50 times)\n",
    "    \n",
    "    # update alpha and beta parameters\n",
    "    a = a0 + x[0]\n",
    "    b = b0 + x[1]\n",
    "    posterior = beta.pdf(theta, a, b)\n",
    "    \n",
    "    # sample from the posterior\n",
    "    posterior_sample = np.random.beta(a, b, size=sample_size)\n",
    "    \n",
    "    # plot everything\n",
    "    plt.cla()\n",
    "    plt.title('n=%d' % n)\n",
    "    plt.plot(theta, prior, linewidth=3, color='red', label='prior')\n",
    "    plt.plot(theta, posterior, linewidth=1, color='black', alpha=.8, label='posterior')\n",
    "    plt.xlim((0, 1))\n",
    "    plt.hist(posterior_sample, density=True, color='lightblue', alpha=.8)\n",
    "    plt.scatter([p], [0], color='black', label='true parameter')\n",
    "    plt.legend(loc='upper left')\n",
    "    plt.pause(0.5)\n",
    "    \n",
    "#     break\n",
    "\n",
    "plt.close(fig)\n",
    "plt.ioff()\n"
   ]
  },
  {
   "cell_type": "markdown",
   "metadata": {},
   "source": [
    "## Dirichlet distributions\n",
    "\n",
    "And here we do the same but for a \"three-sided die\", where the weighting of the die is uncertain. \n"
   ]
  },
  {
   "cell_type": "code",
   "execution_count": 8,
   "metadata": {},
   "outputs": [
    {
     "name": "stdout",
     "output_type": "stream",
     "text": [
      "[3 4 3]\n",
      "[2, 4, 5]\n",
      "[5 8 8]\n"
     ]
    }
   ],
   "source": [
    "import warnings\n",
    "warnings.filterwarnings(\"ignore\")\n",
    "from dirichlet import *\n",
    "\n",
    "\n",
    "fig = plt.figure(1)\n",
    "plt.ion()\n",
    "\n",
    "alpha0 = [2, 4, 5]\n",
    "prior = Dirichlet(alpha0) \n",
    "# we have a prior distrbution which is Dirchilet\n",
    "model = [.333, .333, .333]\n",
    "\n",
    "# for 10, 20, 30, 40, 50, 60, 70, 80, 90, 100\n",
    "for n in np.arange(10, 101, 10):\n",
    "    \n",
    "    x = random.multinomial(n, pvals=model)\n",
    "    alpha = alpha0 + x\n",
    "    \n",
    "    print(x)\n",
    "    print(alpha0)\n",
    "    print(alpha)\n",
    "    \n",
    "    break\n",
    "\n",
    "    \n",
    "    posterior = Dirichlet(alpha)\n",
    "    \n",
    "    # plot prior\n",
    "    plt.title('n=%d' % n)\n",
    "    plt.subplot(131)\n",
    "    plt.cla()\n",
    "    plt.title('prior' % n)\n",
    "    draw_pdf_contours(prior)\n",
    "    \n",
    "    # plot posterior\n",
    "    plt.subplot(132)\n",
    "    plt.cla()\n",
    "    plt.title('posterior n=%d' % n)\n",
    "    draw_pdf_contours(posterior)\n",
    "\n",
    "    # plot sample from posterior\n",
    "    plt.subplot(133)\n",
    "    plt.cla()\n",
    "    plt.title('sample from posterior')\n",
    "    plot_points(posterior.sample(sample_size), markersize=5)\n",
    "    plt.pause(0.5)\n",
    "    \n",
    "plt.close(fig)\n",
    "plt.ioff()"
   ]
  },
  {
   "cell_type": "markdown",
   "metadata": {},
   "source": [
    "## Sampling from a mixture\n",
    "\n",
    "In the following bit of code, we illustrate how to sample from a mixture model. In this case we're sampling from a mixture of two Gaussians.\n"
   ]
  },
  {
   "cell_type": "code",
   "execution_count": null,
   "metadata": {},
   "outputs": [],
   "source": [
    "%matplotlib inline\n",
    "import scipy.stats as sps\n",
    "\n",
    "sample = []\n",
    "weight = [0.3, 0.7]\n",
    "\n",
    "for i in np.arange(1000):\n",
    "    x = random.multinomial(1, pvals=weight)\n",
    "    y0 = np.random.normal(loc=-2)\n",
    "    y1 = np.random.normal(loc=2)\n",
    "    y = x[0]*y0 + x[1]*y1\n",
    "    sample.append(y)\n",
    "\n",
    "x = np.linspace(-6, 6, num=200)\n",
    "mix = weight[0]*sps.norm(loc=-2).pdf(x) + weight[1]*sps.norm(loc=2).pdf(x)\n",
    "_ = plt.hist(sample, density=True, color='lightblue', alpha=.8)\n",
    "_ = plt.plot(x, mix, color='black')"
   ]
  }
 ],
 "metadata": {
  "kernelspec": {
   "display_name": "Python 3",
   "language": "python",
   "name": "python3"
  },
  "language_info": {
   "codemirror_mode": {
    "name": "ipython",
    "version": 3
   },
   "file_extension": ".py",
   "mimetype": "text/x-python",
   "name": "python",
   "nbconvert_exporter": "python",
   "pygments_lexer": "ipython3",
   "version": "3.7.4"
  }
 },
 "nbformat": 4,
 "nbformat_minor": 4
}
