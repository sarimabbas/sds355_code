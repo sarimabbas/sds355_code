{
 "cells": [
  {
   "cell_type": "markdown",
   "metadata": {},
   "source": [
    "# Topic Models: Abstracts of Scientific Articles \n",
    "In this notebook we will begin working with abstracts of scientific articles. These abstracts are obtained from [arXiv.org](http://arxiv.org), an open access repository for e-prints of articles in scientific fields maintained by Cornell University. For example, [here is a not-so-random example](https://arxiv.org/abs/1902.06034) of an article that was posted to arXiv last spring. \n",
    "\n",
    "In this notebook, we will begin by building a vocabulary of tokens. We will then build topic models using the python library gensim, and do some analysis over the topics obtained.\n",
    "\n",
    "In terms of programming content, we will build on the concepts of dictionaries and regular expressions. We will introduce the Counter class, an extension of dictionaries, as well as the concept of vocabularies, which are useful for using more powerful text processing techniques. We will also give a brief overview of topic models.\n"
   ]
  },
  {
   "cell_type": "code",
   "execution_count": 36,
   "metadata": {},
   "outputs": [],
   "source": [
    "import numpy as np\n",
    "import pandas as pd\n",
    "import re\n",
    "import gensim\n",
    "\n",
    "from collections import Counter\n",
    "\n",
    "import logging\n",
    "logging.basicConfig(format='%(asctime)s : %(levelname)s : %(message)s', level=logging.ERROR)\n",
    "logging.root.level = logging.CRITICAL \n",
    "\n",
    "import warnings\n",
    "warnings.filterwarnings(\"ignore\",category=DeprecationWarning)\n",
    "\n",
    "# direct plots to appear within the cell, and set their style\n",
    "%matplotlib inline\n",
    "import matplotlib.pyplot as plots\n",
    "plots.style.use('fivethirtyeight')"
   ]
  },
  {
   "cell_type": "markdown",
   "metadata": {},
   "source": [
    "The abstracts are in a JSON format in `abstracts.json`. Here is an excerpt from the data we'll be using.\n",
    "\n",
    "```\n",
    "{\n",
    "   \"1407.0001\": \"The topic of finding effective strategy to halt virus in complex network is of current interest. We propose an immunization strategy for seasonal epidemics that occur periodically. Based on the local information of the infection status from the previous epidemic season, the selection of vaccinated nodes is optimized gradually. The evolution of vaccinated nodes during iterations demonstrates that the immunization tends to locate in both global hubs and local hubs. We analyze the epidemic prevalence by a heterogeneous mean-field method and present numerical simulations of our model. This immunization performs superiorly to some other previously known strategies. Our work points out a new direction in immunization of seasonal epidemics.\", \n",
    "```\n",
    "\n",
    "We will read this using the `json` package."
   ]
  },
  {
   "cell_type": "code",
   "execution_count": 37,
   "metadata": {},
   "outputs": [],
   "source": [
    "import json\n",
    "with open('abstracts.json') as f:\n",
    "    data = json.load(f)"
   ]
  },
  {
   "cell_type": "markdown",
   "metadata": {},
   "source": [
    "The JSON is in a key-value format, where the key is a unique arXiv identifier, and the value is the abstract. We are only concerned with the abstracts, so we will extract them into an array.\n",
    "\n",
    "*In the next cell and subsequent cells, you will see code commented out. The commented out code has the same functionality as the code prior. The only difference between them is that the commented out ones are written in for loops, while the ones not commented are written using list comprehensions. If you study them, you should be able to understand why they are equivalent!*"
   ]
  },
  {
   "cell_type": "code",
   "execution_count": 38,
   "metadata": {},
   "outputs": [
    {
     "name": "stdout",
     "output_type": "stream",
     "text": [
      "Number of documents: 50000\n",
      "\n",
      "\\noindent A statistical inconsistency of a zero-inflated Binomial likelihood model for count data is identified. This issue occurs when the response, $y$, is both zero and n-inflated, and results in statistically inconsistent and erroneous parameter inferences being drawn from the data. The zero-modified Binomial likelihood is amended to address this issue of \\textit{n-inflation}, resulting in a fully symmetric Binomial likelihood model for both zero and n-inflated counts. We present a simple regression example from the ecological literature which details the practical application of the new likelihood model.\n"
     ]
    }
   ],
   "source": [
    "sample = 30\n",
    "\n",
    "abstracts = [item[1] for item in data.items()]\n",
    "\n",
    "# abstracts = []\n",
    "# for item in data.items():\n",
    "#     abstracts.append(item[1])\n",
    "    \n",
    "print(\"Number of documents: %d\\n\" % len(abstracts))\n",
    "print(abstracts[sample])"
   ]
  },
  {
   "cell_type": "markdown",
   "metadata": {},
   "source": [
    "This abstract is from article [arXiv:1407.0064v1](https://arxiv.org/abs/1407.0064v1) on the arXiv. From the sample document, we see that the abstracts can have various marked up text such as `\\noindent`, `$y$`, or `\\textit{n-inflation}`. This is LaTeX, a text markup system that allows for more convenient scientific technical writing. For example, the text `\\sum_{i=1}^ni = \\frac{n(n+1)}{2}` is processed to\n",
    "\n",
    "$$\\sum_{i=1}^ni = \\frac{n(n+1)}{2}$$\n",
    "\n",
    "LaTeX is widely used in academia across fields like statistics, computer science, linguistics and political science.\n",
    "\n",
    "For our purposes, we have to remove such markup as we only want to process natural text. We can once again use regular expressions to remove the markup."
   ]
  },
  {
   "cell_type": "code",
   "execution_count": 39,
   "metadata": {},
   "outputs": [
    {
     "name": "stdout",
     "output_type": "stream",
     "text": [
      " A statistical inconsistency of a zero inflated Binomial likelihood model for count data is identified This issue occurs when the response  is both zero and n inflated and results in statistically inconsistent and erroneous parameter inferences being drawn from the data The zero modified Binomial likelihood is amended to address this issue of n inflation resulting in a fully symmetric Binomial likelihood model for both zero and n inflated counts We present a simple regression example from the ecological literature which details the practical application of the new likelihood model\n"
     ]
    }
   ],
   "source": [
    "# remove $...$ or $$...$$ math markup\n",
    "abstracts = [re.sub(r'\\$\\$.*?\\$\\$', r'', abstract) for abstract in abstracts]\n",
    "abstracts = [re.sub(r'\\$.*?\\$', r'', abstract) for abstract in abstracts]\n",
    "\n",
    "# remove \\emph{...}, \\textit{...} type markup and replace with ...\n",
    "abstracts = [re.sub(r'\\\\\\S*?\\{(.*?)\\}', r'\\1', abstract) for abstract in abstracts]\n",
    "\n",
    "# remove \\noindent type markup\n",
    "abstracts = [re.sub(r'\\\\(\\S*)', r'', abstract) for abstract in abstracts]\n",
    "\n",
    "# remove {{...}}, {...}, and (...) markup, and replace with ...\n",
    "abstracts = [re.sub(r'\\{\\{(.*?)\\}\\}', r'\\1', abstract) for abstract in abstracts]\n",
    "abstracts = [re.sub(r'\\{(.*?)\\}', r'\\1', abstract) for abstract in abstracts]\n",
    "abstracts = [re.sub(r'\\((.*?)\\)', r'\\1', abstract) for abstract in abstracts]\n",
    "\n",
    "# replace '-' with ' ', then remove punctuation\n",
    "abstracts = [re.sub(r'-', ' ', abstract) for abstract in abstracts]\n",
    "abstracts = [re.sub(r'[^\\w\\s]', '', abstract) for abstract in abstracts]\n",
    "\n",
    "print(abstracts[sample])"
   ]
  },
  {
   "cell_type": "markdown",
   "metadata": {},
   "source": [
    "Now, we want to further process each abstract by converting it to lower case, stripping leading and trailing white space, and then tokenizing by splitting on spaces."
   ]
  },
  {
   "cell_type": "code",
   "execution_count": 40,
   "metadata": {},
   "outputs": [],
   "source": [
    "abstracts_tok = [abstract.lower().strip().split(' ') for abstract in abstracts]\n",
    "\n",
    "# abstracts_tok = []\n",
    "# for abstract in abstracts:\n",
    "#     processed = abstract.lower().strip().split(' ')\n",
    "#     abstracts_tok.append(processed)"
   ]
  },
  {
   "cell_type": "markdown",
   "metadata": {},
   "source": [
    "We will further remove tokens that have digits, have possessives or contractions, or are empty strings.\n",
    "\n",
    "### In class exercise!\n",
    "Write functions that will achieve that functionality described. Specifically, write\n",
    "- `is_numeric(string)` which checks if `string` has any numbers\n",
    "- `has_poss_contr(string)` which checks if `string` has possessives or contractions\n",
    "- `empty_string(string)` which checks if `string` is an empty string\n",
    "- `remove_string(string)` which checcks if `string` should be removed"
   ]
  },
  {
   "cell_type": "code",
   "execution_count": 43,
   "metadata": {},
   "outputs": [],
   "source": [
    "def is_numeric(string):\n",
    "    return bool(re.search('\\d', string))\n",
    "\n",
    "def has_poss_contr(string):\n",
    "    blacklist_in = [\"'s'\"]\n",
    "    blacklist_eq = [\"or\", \"and\"]\n",
    "    return (any(i in string for i in blacklist_in) or \n",
    "            any(i == string for i in blacklist_eq))\n",
    " \n",
    "def empty_string(string):\n",
    "    return not bool(string)\n",
    "\n",
    "def remove_string(string):\n",
    "    return is_numeric(string) or has_poss_contr(string) or empty_string(string)"
   ]
  },
  {
   "cell_type": "code",
   "execution_count": 42,
   "metadata": {},
   "outputs": [],
   "source": [
    "abstracts_tok = [[token for token in abstract if not remove_string(token)] for abstract in abstracts_tok]\n",
    "\n",
    "# temp = []\n",
    "# for abstract in abstracts_tok:\n",
    "#     filtered = []\n",
    "#     for token in abstract:\n",
    "#         if not remove_string(token):\n",
    "#             filtered.append(token)\n",
    "#     temp.append(filtered)\n",
    "# abstracts_tok = temp"
   ]
  },
  {
   "cell_type": "markdown",
   "metadata": {},
   "source": [
    "Topic modelling is a collection of powerful statistical methods for discovering abstract \"topics\" that occur in a collection of documents. The overall intuition behind topic models is that each document is only about a few topics, and similar documents contain similar words. \n",
    "\n",
    "For example, the two documents below are similar because over the entire vocabulary of words, they contain similar frequently appearing words like \"complex\", \"network\", \"epidemic\".\n",
    "\n",
    "```\n",
    "{\n",
    "   \"1407.0001\": \"The topic of finding effective strategy to halt virus in complex network is of current interest. We propose an immunization strategy for seasonal epidemics that occur periodically. Based on the local information of the infection status from the previous epidemic season, the selection of vaccinated nodes is optimized gradually. The evolution of vaccinated nodes during iterations demonstrates that the immunization tends to locate in both global hubs and local hubs. We analyze the epidemic prevalence by a heterogeneous mean-field method and present numerical simulations of our model. This immunization performs superiorly to some other previously known strategies. Our work points out a new direction in immunization of seasonal epidemics.\", \n",
    "```\n",
    "\n",
    "```\n",
    "  \"1407.0774\": \"The spread of disease on complex networks has attracted widely attention in the physics community. Recent works have demonstrated that heterogeneous degree and weight distributions have a significant influence on the epidemic dynamics. In this study, a novel edge-weight based compartmental approach is developed to estimate the epidemic threshold and epidemic size (final infected density) on networks with general degree and weight distributions, and a remarkable agreement with numerics is obtained. Even in complex network with the strong heterogeneous degree and weight distributions, this approach is worked. We then propose an edge-weight based removal strategy with different biases, and find that such a strategy can effectively control the spread of epidemic when the highly weighted edges are preferentially removed, especially when the weight distribution of a network is extremely heterogenous. The theoretical results from the suggested method can accurately predict the above removal effectiveness.\", \n",
    "```\n",
    "\n",
    "To build topic models, we require the following components:\n",
    "- A *vocabulary of tokens* that appear across all documents.\n",
    "- A *mapping of tokens to a unique integer identifier*, because topic model algorithms treat words by these identifiers, and not by the strings themselves. For example, we represent `'epidemic'` as `word2id['epidemic'] = 50`\n",
    "- A *corpus*, where each document in the corpus is a collection of tokens, where each token is represented by the identifier and the number of times it appears in the document. For example, in the first document above the token `'epidemic'`, which appears twice, is represented as `(50, 2)`"
   ]
  },
  {
   "cell_type": "markdown",
   "metadata": {},
   "source": [
    "First, we will build a vocabulary representing the tokens that have appeared across all the abstracts we have. When doing this, we typically want to (1) remove rare words, (2) remove stop words and (3) stem/lemmatize words (which we will not do).\n",
    "\n",
    "To do this, we can use the `Counter` class. The `Counter` is an extension of the Python dictionary which is a set of key-value pairs. For the `Counter` class, keys are the objects to be counted, while values are their counts."
   ]
  },
  {
   "cell_type": "code",
   "execution_count": 47,
   "metadata": {},
   "outputs": [
    {
     "name": "stdout",
     "output_type": "stream",
     "text": [
      "Number of unique tokens: 75968\n"
     ]
    }
   ],
   "source": [
    "# it's like a dictionary, but with the frequencies as well \n",
    "vocab = Counter()\n",
    "for abstract in abstracts_tok:\n",
    "    vocab.update(abstract)\n",
    "\n",
    "print(\"Number of total tokens: %d\" % len(vocab))\n",
    "# aim to get 320,000 tokens or less"
   ]
  },
  {
   "cell_type": "markdown",
   "metadata": {},
   "source": [
    "Removing rare words helps prevent our vocabulary from being too large. Many tokens appear only a few times across all the abstracts. Keeping them in the vocabulary increases subsequent computation time. Furthermore, their presence tends not to carry much significance for a document, since they can be considered as anomalies.\n",
    "\n",
    "We remove rare words by only keeping tokens that appear more than 25 times across all abstracts"
   ]
  },
  {
   "cell_type": "code",
   "execution_count": 9,
   "metadata": {},
   "outputs": [
    {
     "name": "stdout",
     "output_type": "stream",
     "text": [
      "Number of unique tokens: 10710\n"
     ]
    }
   ],
   "source": [
    "vocab = Counter(token for token in vocab.elements() if vocab[token] > 25)\n",
    "\n",
    "# tokens = []\n",
    "# for token in vocab.elements():\n",
    "#     if vocab[token] > 25:\n",
    "#         tokens.append(token)\n",
    "# vocab = Counter(tokens)\n",
    "\n",
    "print(\"Number of unique tokens: %d\" % len(vocab))\n",
    "# aim to get 13,000 tokens or less\n",
    "\n",
    "\n",
    "# side note: a word that appears once e.g. jabberwocky is a problem\n",
    "# there is not enough statistical evidence to group it with other words\n",
    "# topic modellinng works in a subtle way - correlating the words \n",
    "# e.g. gene only makes sense with DNA\n",
    "# that's why we have a 25 word barrier\n"
   ]
  },
  {
   "cell_type": "markdown",
   "metadata": {},
   "source": [
    "Stop words are defined as very common words such as `'the'` and `'a'`. Removing stop words is important because their presence also does not carry much significance, since they appear in all kinds of texts.\n",
    "\n",
    "We will remove stop words by removing the 200 most common tokens across all abstracts"
   ]
  },
  {
   "cell_type": "code",
   "execution_count": 10,
   "metadata": {},
   "outputs": [
    {
     "name": "stdout",
     "output_type": "stream",
     "text": [
      "Number of unique tokens: 10510\n"
     ]
    }
   ],
   "source": [
    "stop_words = [item[0] for item in vocab.most_common(200)]\n",
    "vocab = Counter(token for token in vocab.elements() if token not in stop_words)\n",
    "\n",
    "# stop_words = []\n",
    "# for item in vocab.most_common(200):\n",
    "#     stop_word = item[0]\n",
    "#     stop_words.append(stop_word)\n",
    "# tokens = []\n",
    "# for token in vocab.elements():\n",
    "#     if token not in stop_words:\n",
    "#         tokens.append(token)\n",
    "# vocab = Counter(tokens)\n",
    "\n",
    "print(\"Number of unique tokens: %d\" % len(vocab))\n",
    "\n",
    "# the final dice will be these many words-sided. E.g. if unique tokens is 13k, \n",
    "# then the die is 13k-sided"
   ]
  },
  {
   "cell_type": "markdown",
   "metadata": {},
   "source": [
    "Now we create a mapping for tokens to unique identifiers. "
   ]
  },
  {
   "cell_type": "code",
   "execution_count": 11,
   "metadata": {},
   "outputs": [
    {
     "name": "stdout",
     "output_type": "stream",
     "text": [
      "Number of tokens mapped: 10510\n",
      "Identifier for 'epidemic': 15\n",
      "Word for identifier 15: epidemic\n"
     ]
    }
   ],
   "source": [
    "id2word = {idx: pair[0] for idx, pair in enumerate(vocab.items())}\n",
    "word2id = {pair[0]: idx for idx, pair in enumerate(vocab.items())}\n",
    "\n",
    "# items = vocab.items()\n",
    "# id2word = {}\n",
    "# word2id = {}\n",
    "# idx = 0\n",
    "# for word, count in vocab.items():\n",
    "#     id2word[idx] = word\n",
    "#     word2id[word] = idx\n",
    "#     idx += 1\n",
    "    \n",
    "print(\"Number of tokens mapped: %d\" % len(id2word))\n",
    "print(\"Identifier for 'epidemic': %d\" % word2id['epidemic'])\n",
    "print(\"Word for identifier %d: %s\" % (word2id['epidemic'], id2word[word2id['epidemic']]))"
   ]
  },
  {
   "cell_type": "markdown",
   "metadata": {},
   "source": [
    "Now, we will remove, for each abstract, the tokens that are not found in our vocabulary."
   ]
  },
  {
   "cell_type": "code",
   "execution_count": 12,
   "metadata": {},
   "outputs": [],
   "source": [
    "abstracts_tok = [[token for token in abstract if token in vocab] for abstract in abstracts_tok]\n",
    "\n",
    "# temp = []\n",
    "# for abstract in abstracts_tok:\n",
    "#     filtered = []\n",
    "#     for token in abstract:\n",
    "#         if token in vocab:\n",
    "#             filtered.append(token)\n",
    "#     temp.append(filtered)\n",
    "# abstracts_tok = temp"
   ]
  },
  {
   "cell_type": "markdown",
   "metadata": {},
   "source": [
    "Let's create the corpus. Recall that for the tokens in an abstract:\n",
    "\n",
    "```\n",
    "['statistical', 'inconsistency', 'binomial', 'likelihood', 'count', 'identified.', 'issue', 'occurs', 'when', 'response,', 'zero', 'statistically', 'inconsistent', 'erroneous', 'parameter', 'inferences', 'being', 'drawn', 'data.', 'binomial', 'likelihood', 'address', 'issue', 'resulting', 'fully', 'symmetric', 'binomial', 'likelihood', 'zero', 'counts.', 'present', 'simple', 'regression', 'example', 'ecological', 'literature', 'details', 'practical', 'application', 'likelihood', 'model.']\n",
    "```\n",
    "the corpus has the format\n",
    "```\n",
    "[(1396, 1), (1397, 1), (1398, 3), (1399, 4), (1400, 1), (1401, 1), (1402, 2), (1403, 1), (591, 1), (672, 1), (34, 2), (1404, 2), (1405, 1), (1406, 1), (1407, 1), (444, 1), (1408, 1), (1409, 1), (1410, 1), (1187, 1), (610, 1), (1411, 1), (857, 1), (1412, 1), (41, 1), (554, 1), (1413, 1), (1414, 1), (1415, 1), (1416, 1), (1205, 1), (91, 1), (945, 1)]\n",
    "```\n",
    "\n",
    "where each element is a pair containing the identifier for the token and the count of that token in just that abstract."
   ]
  },
  {
   "cell_type": "code",
   "execution_count": 13,
   "metadata": {},
   "outputs": [
    {
     "name": "stdout",
     "output_type": "stream",
     "text": [
      "Abstract, tokenized:\n",
      " ['statistical', 'inconsistency', 'zero', 'inflated', 'binomial', 'likelihood', 'count', 'identified', 'issue', 'occurs', 'response', 'zero', 'n', 'inflated', 'statistically', 'inconsistent', 'erroneous', 'inferences', 'being', 'drawn', 'zero', 'modified', 'binomial', 'likelihood', 'address', 'issue', 'n', 'inflation', 'resulting', 'fully', 'symmetric', 'binomial', 'likelihood', 'zero', 'n', 'inflated', 'counts', 'regression', 'example', 'ecological', 'literature', 'details', 'practical', 'application', 'likelihood'] \n",
      "\n",
      "Abstract, in corpus format:\n",
      " [(1229, 1), (1230, 1), (1231, 4), (1232, 3), (1233, 3), (1234, 4), (1235, 1), (1236, 1), (1237, 2), (1238, 1), (567, 1), (1154, 3), (1239, 1), (1240, 1), (1241, 1), (1242, 1), (1243, 1), (1244, 1), (476, 1), (1040, 1), (1245, 1), (517, 1), (1246, 1), (735, 1), (1247, 1), (1248, 1), (1249, 1), (1250, 1), (1251, 1), (1057, 1), (68, 1), (811, 1)]\n"
     ]
    }
   ],
   "source": [
    "corpus = []\n",
    "for abstract in abstracts_tok:\n",
    "    abstract_count = Counter(abstract)\n",
    "    corpus.append([(word2id[item[0]], item[1]) for item in abstract_count.items()])\n",
    "\n",
    "# corpus = []\n",
    "# for abstract in abstracts_tok:\n",
    "#     abstract_count = Counter(abstract)\n",
    "#     corpus_doc = []\n",
    "#     for item in abstract_count.items():\n",
    "#         pair = (word2id[item[0]], item[1])\n",
    "#         corpus_doc.append(pair)\n",
    "#     corpus.append(corpus_doc)\n",
    "\n",
    "print(\"Abstract, tokenized:\\n\", abstracts_tok[sample], \"\\n\")\n",
    "print(\"Abstract, in corpus format:\\n\", corpus[sample])"
   ]
  },
  {
   "cell_type": "markdown",
   "metadata": {},
   "source": [
    "Now, we are ready to create our topic model!\n",
    "\n",
    "We will use gensim, a Python library to create topic models. We will use the algorithm called latent dirichlet allocation implemented in the gensim library. \n",
    "\n",
    "**This step takes some time (about 4 min)**"
   ]
  },
  {
   "cell_type": "code",
   "execution_count": 14,
   "metadata": {},
   "outputs": [
    {
     "name": "stdout",
     "output_type": "stream",
     "text": [
      "CPU times: user 7min 40s, sys: 2.94 s, total: 7min 43s\n",
      "Wall time: 2min 35s\n"
     ]
    }
   ],
   "source": [
    "%%time\n",
    "lda_model = gensim.models.ldamodel.LdaModel(corpus=corpus,\n",
    "                                            id2word=id2word,\n",
    "                                            num_topics=10, \n",
    "                                            random_state=100,\n",
    "                                            update_every=1,\n",
    "                                            chunksize=100,\n",
    "                                            passes=10,\n",
    "                                            alpha='auto',\n",
    "                                            per_word_topics=True)"
   ]
  },
  {
   "cell_type": "code",
   "execution_count": null,
   "metadata": {},
   "outputs": [],
   "source": [
    "# how does it work?\n",
    "# a big bayesian calculation\n",
    "# it is calculating conditional probability of the topics/colors given the documents "
   ]
  },
  {
   "cell_type": "markdown",
   "metadata": {},
   "source": [
    "After building the topic model, we want to view the 10 topics. The topics are represented as a combination of keywords with corresponding weight on the keyword. Note that the order of these topics can change between different training runs of the topic model, since there is no ordering between topics and gensim returns them in an arbitrary order."
   ]
  },
  {
   "cell_type": "code",
   "execution_count": 15,
   "metadata": {
    "scrolled": true
   },
   "outputs": [
    {
     "data": {
      "text/html": [
       "<div>\n",
       "<style scoped>\n",
       "    .dataframe tbody tr th:only-of-type {\n",
       "        vertical-align: middle;\n",
       "    }\n",
       "\n",
       "    .dataframe tbody tr th {\n",
       "        vertical-align: top;\n",
       "    }\n",
       "\n",
       "    .dataframe thead th {\n",
       "        text-align: right;\n",
       "    }\n",
       "</style>\n",
       "<table border=\"1\" class=\"dataframe\">\n",
       "  <thead>\n",
       "    <tr style=\"text-align: right;\">\n",
       "      <th></th>\n",
       "      <th>word rank</th>\n",
       "      <th>topic 0</th>\n",
       "      <th>topic 1</th>\n",
       "      <th>topic 2</th>\n",
       "      <th>topic 3</th>\n",
       "      <th>topic 4</th>\n",
       "      <th>topic 5</th>\n",
       "      <th>topic 6</th>\n",
       "      <th>topic 7</th>\n",
       "      <th>topic 8</th>\n",
       "      <th>topic 9</th>\n",
       "    </tr>\n",
       "  </thead>\n",
       "  <tbody>\n",
       "    <tr>\n",
       "      <th>0</th>\n",
       "      <td>1</td>\n",
       "      <td>communication</td>\n",
       "      <td>flow</td>\n",
       "      <td>measurements</td>\n",
       "      <td>symmetry</td>\n",
       "      <td>ray</td>\n",
       "      <td>deep</td>\n",
       "      <td>algorithms</td>\n",
       "      <td>boundary</td>\n",
       "      <td>star</td>\n",
       "      <td>bound</td>\n",
       "    </tr>\n",
       "    <tr>\n",
       "      <th>1</th>\n",
       "      <td>2</td>\n",
       "      <td>cost</td>\n",
       "      <td>critical</td>\n",
       "      <td>experimental</td>\n",
       "      <td>matter</td>\n",
       "      <td>x</td>\n",
       "      <td>recent</td>\n",
       "      <td>neural</td>\n",
       "      <td>points</td>\n",
       "      <td>galaxies</td>\n",
       "      <td>graphs</td>\n",
       "    </tr>\n",
       "    <tr>\n",
       "      <th>2</th>\n",
       "      <td>3</td>\n",
       "      <td>distributed</td>\n",
       "      <td>interaction</td>\n",
       "      <td>frequency</td>\n",
       "      <td>lattice</td>\n",
       "      <td>images</td>\n",
       "      <td>important</td>\n",
       "      <td>image</td>\n",
       "      <td>groups</td>\n",
       "      <td>formation</td>\n",
       "      <td>probability</td>\n",
       "    </tr>\n",
       "    <tr>\n",
       "      <th>3</th>\n",
       "      <td>4</td>\n",
       "      <td>knowledge</td>\n",
       "      <td>nonlinear</td>\n",
       "      <td>electron</td>\n",
       "      <td>representation</td>\n",
       "      <td>region</td>\n",
       "      <td>cluster</td>\n",
       "      <td>novel</td>\n",
       "      <td>dimension</td>\n",
       "      <td>existing</td>\n",
       "      <td>art</td>\n",
       "    </tr>\n",
       "    <tr>\n",
       "      <th>4</th>\n",
       "      <td>5</td>\n",
       "      <td>channel</td>\n",
       "      <td>spaces</td>\n",
       "      <td>optical</td>\n",
       "      <td>scalar</td>\n",
       "      <td>source</td>\n",
       "      <td>topological</td>\n",
       "      <td>error</td>\n",
       "      <td>classical</td>\n",
       "      <td>gas</td>\n",
       "      <td>bounds</td>\n",
       "    </tr>\n",
       "    <tr>\n",
       "      <th>5</th>\n",
       "      <td>6</td>\n",
       "      <td>control</td>\n",
       "      <td>interactions</td>\n",
       "      <td>scattering</td>\n",
       "      <td>invariant</td>\n",
       "      <td>spectral</td>\n",
       "      <td>induced</td>\n",
       "      <td>efficient</td>\n",
       "      <td>operator</td>\n",
       "      <td>stars</td>\n",
       "      <td>lower</td>\n",
       "    </tr>\n",
       "    <tr>\n",
       "      <th>6</th>\n",
       "      <td>7</td>\n",
       "      <td>multiple</td>\n",
       "      <td>initial</td>\n",
       "      <td>light</td>\n",
       "      <td>gravity</td>\n",
       "      <td>galaxy</td>\n",
       "      <td>sequence</td>\n",
       "      <td>applications</td>\n",
       "      <td>existence</td>\n",
       "      <td>stellar</td>\n",
       "      <td>called</td>\n",
       "    </tr>\n",
       "    <tr>\n",
       "      <th>7</th>\n",
       "      <td>8</td>\n",
       "      <td>gap</td>\n",
       "      <td>behavior</td>\n",
       "      <td>experiments</td>\n",
       "      <td>fields</td>\n",
       "      <td>resolution</td>\n",
       "      <td>end</td>\n",
       "      <td>training</td>\n",
       "      <td>algebra</td>\n",
       "      <td>observations</td>\n",
       "      <td>task</td>\n",
       "    </tr>\n",
       "    <tr>\n",
       "      <th>8</th>\n",
       "      <td>9</td>\n",
       "      <td>current</td>\n",
       "      <td>self</td>\n",
       "      <td>correlation</td>\n",
       "      <td>tensor</td>\n",
       "      <td>during</td>\n",
       "      <td>open</td>\n",
       "      <td>optimization</td>\n",
       "      <td>generalized</td>\n",
       "      <td>emission</td>\n",
       "      <td>measure</td>\n",
       "    </tr>\n",
       "    <tr>\n",
       "      <th>9</th>\n",
       "      <td>10</td>\n",
       "      <td>band</td>\n",
       "      <td>particle</td>\n",
       "      <td>measurement</td>\n",
       "      <td>motion</td>\n",
       "      <td>sources</td>\n",
       "      <td>bounded</td>\n",
       "      <td>multi</td>\n",
       "      <td>theorem</td>\n",
       "      <td>sample</td>\n",
       "      <td>so</td>\n",
       "    </tr>\n",
       "    <tr>\n",
       "      <th>10</th>\n",
       "      <td>11</td>\n",
       "      <td>devices</td>\n",
       "      <td>structures</td>\n",
       "      <td>action</td>\n",
       "      <td>dark</td>\n",
       "      <td>observations</td>\n",
       "      <td>features</td>\n",
       "      <td>accuracy</td>\n",
       "      <td>positive</td>\n",
       "      <td>agn</td>\n",
       "      <td>further</td>\n",
       "    </tr>\n",
       "    <tr>\n",
       "      <th>11</th>\n",
       "      <td>12</td>\n",
       "      <td>nodes</td>\n",
       "      <td>operators</td>\n",
       "      <td>layer</td>\n",
       "      <td>charge</td>\n",
       "      <td>radio</td>\n",
       "      <td>available</td>\n",
       "      <td>techniques</td>\n",
       "      <td>condition</td>\n",
       "      <td>disk</td>\n",
       "      <td>input</td>\n",
       "    </tr>\n",
       "    <tr>\n",
       "      <th>12</th>\n",
       "      <td>13</td>\n",
       "      <td>mechanism</td>\n",
       "      <td>ground</td>\n",
       "      <td>decay</td>\n",
       "      <td>momentum</td>\n",
       "      <td>radiation</td>\n",
       "      <td>object</td>\n",
       "      <td>stochastic</td>\n",
       "      <td>associated</td>\n",
       "      <td>survey</td>\n",
       "      <td>maximum</td>\n",
       "    </tr>\n",
       "    <tr>\n",
       "      <th>13</th>\n",
       "      <td>14</td>\n",
       "      <td>heat</td>\n",
       "      <td>dependent</td>\n",
       "      <td>cross</td>\n",
       "      <td>physics</td>\n",
       "      <td>regions</td>\n",
       "      <td>about</td>\n",
       "      <td>computational</td>\n",
       "      <td>arbitrary</td>\n",
       "      <td>cosmic</td>\n",
       "      <td>among</td>\n",
       "    </tr>\n",
       "    <tr>\n",
       "      <th>14</th>\n",
       "      <td>15</td>\n",
       "      <td>node</td>\n",
       "      <td>fluid</td>\n",
       "      <td>factor</td>\n",
       "      <td>discuss</td>\n",
       "      <td>visual</td>\n",
       "      <td>like</td>\n",
       "      <td>estimation</td>\n",
       "      <td>metric</td>\n",
       "      <td>luminosity</td>\n",
       "      <td>sets</td>\n",
       "    </tr>\n",
       "  </tbody>\n",
       "</table>\n",
       "</div>"
      ],
      "text/plain": [
       "    word rank        topic 0       topic 1       topic 2         topic 3  \\\n",
       "0           1  communication          flow  measurements        symmetry   \n",
       "1           2           cost      critical  experimental          matter   \n",
       "2           3    distributed   interaction     frequency         lattice   \n",
       "3           4      knowledge     nonlinear      electron  representation   \n",
       "4           5        channel        spaces       optical          scalar   \n",
       "5           6        control  interactions    scattering       invariant   \n",
       "6           7       multiple       initial         light         gravity   \n",
       "7           8            gap      behavior   experiments          fields   \n",
       "8           9        current          self   correlation          tensor   \n",
       "9          10           band      particle   measurement          motion   \n",
       "10         11        devices    structures        action            dark   \n",
       "11         12          nodes     operators         layer          charge   \n",
       "12         13      mechanism        ground         decay        momentum   \n",
       "13         14           heat     dependent         cross         physics   \n",
       "14         15           node         fluid        factor         discuss   \n",
       "\n",
       "         topic 4      topic 5        topic 6      topic 7       topic 8  \\\n",
       "0            ray         deep     algorithms     boundary          star   \n",
       "1              x       recent         neural       points      galaxies   \n",
       "2         images    important          image       groups     formation   \n",
       "3         region      cluster          novel    dimension      existing   \n",
       "4         source  topological          error    classical           gas   \n",
       "5       spectral      induced      efficient     operator         stars   \n",
       "6         galaxy     sequence   applications    existence       stellar   \n",
       "7     resolution          end       training      algebra  observations   \n",
       "8         during         open   optimization  generalized      emission   \n",
       "9        sources      bounded          multi      theorem        sample   \n",
       "10  observations     features       accuracy     positive           agn   \n",
       "11         radio    available     techniques    condition          disk   \n",
       "12     radiation       object     stochastic   associated        survey   \n",
       "13       regions        about  computational    arbitrary        cosmic   \n",
       "14        visual         like     estimation       metric    luminosity   \n",
       "\n",
       "        topic 9  \n",
       "0         bound  \n",
       "1        graphs  \n",
       "2   probability  \n",
       "3           art  \n",
       "4        bounds  \n",
       "5         lower  \n",
       "6        called  \n",
       "7          task  \n",
       "8       measure  \n",
       "9            so  \n",
       "10      further  \n",
       "11        input  \n",
       "12      maximum  \n",
       "13        among  \n",
       "14         sets  "
      ]
     },
     "execution_count": 15,
     "metadata": {},
     "output_type": "execute_result"
    }
   ],
   "source": [
    "import pandas as pd\n",
    "\n",
    "num_topics = 10\n",
    "num_words = 15\n",
    "top_words = pd.DataFrame({'word rank': np.arange(1,num_words+1)})\n",
    "for k in np.arange(num_topics): \n",
    "    topic = lda_model.get_topic_terms(k, num_words)\n",
    "    words = [id2word[topic[i][0]] for i in np.arange(num_words)]\n",
    "    probs = [topic[i][1] for i in np.arange(num_words)]\n",
    "    top_words['topic %d' % k] = words\n",
    "\n",
    "top_words"
   ]
  },
  {
   "cell_type": "markdown",
   "metadata": {},
   "source": [
    "We can compute the probability distribution for a given abstract in the `corpus`. This represents how likely it is for the abstract to belong to each topic."
   ]
  },
  {
   "cell_type": "code",
   "execution_count": 16,
   "metadata": {},
   "outputs": [
    {
     "data": {
      "text/plain": [
       "[(1, 0.03031128),\n",
       " (2, 0.10046365),\n",
       " (3, 0.03371324),\n",
       " (5, 0.20028944),\n",
       " (6, 0.047120634),\n",
       " (8, 0.48354042),\n",
       " (9, 0.085790455)]"
      ]
     },
     "execution_count": 16,
     "metadata": {},
     "output_type": "execute_result"
    }
   ],
   "source": [
    "sample = 10\n",
    "lda_model.get_document_topics(corpus[sample])"
   ]
  },
  {
   "cell_type": "markdown",
   "metadata": {},
   "source": [
    "Let's represent this as a table."
   ]
  },
  {
   "cell_type": "code",
   "execution_count": 17,
   "metadata": {},
   "outputs": [
    {
     "data": {
      "text/html": [
       "<div>\n",
       "<style scoped>\n",
       "    .dataframe tbody tr th:only-of-type {\n",
       "        vertical-align: middle;\n",
       "    }\n",
       "\n",
       "    .dataframe tbody tr th {\n",
       "        vertical-align: top;\n",
       "    }\n",
       "\n",
       "    .dataframe thead th {\n",
       "        text-align: right;\n",
       "    }\n",
       "</style>\n",
       "<table border=\"1\" class=\"dataframe\">\n",
       "  <thead>\n",
       "    <tr style=\"text-align: right;\">\n",
       "      <th></th>\n",
       "      <th>Topic</th>\n",
       "      <th>Probabilities</th>\n",
       "    </tr>\n",
       "  </thead>\n",
       "  <tbody>\n",
       "    <tr>\n",
       "      <th>0</th>\n",
       "      <td>1</td>\n",
       "      <td>0.030314</td>\n",
       "    </tr>\n",
       "    <tr>\n",
       "      <th>1</th>\n",
       "      <td>2</td>\n",
       "      <td>0.100463</td>\n",
       "    </tr>\n",
       "    <tr>\n",
       "      <th>2</th>\n",
       "      <td>3</td>\n",
       "      <td>0.033713</td>\n",
       "    </tr>\n",
       "    <tr>\n",
       "      <th>3</th>\n",
       "      <td>5</td>\n",
       "      <td>0.200289</td>\n",
       "    </tr>\n",
       "    <tr>\n",
       "      <th>4</th>\n",
       "      <td>6</td>\n",
       "      <td>0.047121</td>\n",
       "    </tr>\n",
       "    <tr>\n",
       "      <th>5</th>\n",
       "      <td>8</td>\n",
       "      <td>0.483540</td>\n",
       "    </tr>\n",
       "    <tr>\n",
       "      <th>6</th>\n",
       "      <td>9</td>\n",
       "      <td>0.085788</td>\n",
       "    </tr>\n",
       "  </tbody>\n",
       "</table>\n",
       "</div>"
      ],
      "text/plain": [
       "   Topic  Probabilities\n",
       "0      1       0.030314\n",
       "1      2       0.100463\n",
       "2      3       0.033713\n",
       "3      5       0.200289\n",
       "4      6       0.047121\n",
       "5      8       0.483540\n",
       "6      9       0.085788"
      ]
     },
     "execution_count": 17,
     "metadata": {},
     "output_type": "execute_result"
    }
   ],
   "source": [
    "topic_dist = lda_model.get_document_topics(corpus[sample])\n",
    "topics = [pair[0] for pair in topic_dist]\n",
    "probabilities = [pair[1] for pair in topic_dist]\n",
    "topic_dist_table = pd.DataFrame()\n",
    "topic_dist_table['Topic'] = topics\n",
    "topic_dist_table['Probabilities'] = probabilities\n",
    "topic_dist_table"
   ]
  },
  {
   "cell_type": "code",
   "execution_count": 18,
   "metadata": {},
   "outputs": [
    {
     "name": "stdout",
     "output_type": "stream",
     "text": [
      "Topic with highest probability: 5 (0.483540)\n"
     ]
    }
   ],
   "source": [
    "t = np.argmax(probabilities)\n",
    "print(\"Topic with highest probability: %d (%f)\" % (t, probabilities[t]))"
   ]
  },
  {
   "cell_type": "markdown",
   "metadata": {},
   "source": [
    "And now as a histogram."
   ]
  },
  {
   "cell_type": "code",
   "execution_count": 19,
   "metadata": {},
   "outputs": [
    {
     "data": {
      "image/png": "[encoded data removed]",
      "text/plain": [
       "<Figure size 792x288 with 1 Axes>"
      ]
     },
     "metadata": {
      "needs_background": "light"
     },
     "output_type": "display_data"
    }
   ],
   "source": [
    "import matplotlib.pyplot as plt\n",
    "%matplotlib inline\n",
    "\n",
    "fig = plt.figure()\n",
    "fig.set_size_inches(11,4)\n",
    "plt.bar(topic_dist_table['Topic'], topic_dist_table['Probabilities'], align='center', alpha=1, color='salmon')\n",
    "plt.xlabel('topic')\n",
    "plt.ylabel('probability')\n",
    "plt.title('Per Topic Probability Distribution')\n",
    "plt.show()"
   ]
  },
  {
   "cell_type": "markdown",
   "metadata": {},
   "source": [
    "So it seems the document\n",
    "\n",
    "```\n",
    "  \"1407.0034\": \"We use cosmological simulations to assess how the explosion of the first stars in supernovae (SNe) influences early cosmic history. Specifically, we investigate the impact by SNe on the host systems for Population~III (Pop~III) star formation and explore its dependence on halo environment and Pop~III progenitor mass. We then trace the evolution of the enriched gas until conditions are met to trigger second-generation star formation. To this extent, we quantify the recovery timescale, which measures the time delay between a Pop~III SN explosion and the appearance of cold, dense gas, out of which second-generation stars can form. We find that this timescale is highly sensitive to the Pop~III progenitor mass, and less so to the halo environment. For Pop~III progenitor masses, $M_{\\\\ast}=15{{\\\\,M_\\\\odot}}$, $25{{\\\\,M_\\\\odot}}$, and $40{{\\\\,M_\\\\odot}}$ in a halo of $5\\\\times10^5{{\\\\,M_\\\\odot}}$, recovery times are $\\\\sim10$\\\\,Myr, $25$\\\\,Myr, and $90$\\\\,Myr, respectively. For more massive progenitors, including those exploding in pair instability SNe, second-generation star formation is delayed significantly, for up to a Hubble time. The dependence of the recovery time on the mass of the SN progenitor is mainly due to the ionizing impact of the progenitor star. Photoionization heating increases the gas pressure and initiates a hydrodynamical response that reduces the central gas density, an effect that is stronger in more massive. The gas around lower mass Pop~III stars remains denser and hence the SN remnants cool more rapidly, facilitating the subsequent re-condensation of the gas and formation of a second generation of stars. In most cases, the second-generation stars are already metal-enriched to $\\\\sim2-5\\\\times10^{-4}{{\\\\rm \\\\,Z_\\\\odot}}$, thus belonging to Population~II. The recovery timescale is a key quantity governing the nature of the first galaxies, able to host low-mass, long-lived stellar systems. These in turn are the target of future deep-field campaigns with the {\\\\it James Webb Space Telescope}.\", \n",
    "```\n",
    "\n",
    "has the greatest likelihood to fall under the topic number with topic relating to cosmology, which matches our intuition."
   ]
  },
  {
   "cell_type": "markdown",
   "metadata": {},
   "source": [
    "## Exploring Topics for Abstracts\n",
    "\n",
    "In the next assignment, you will continue with this notebook to explore topic models for the scientific abstracts data. Stay tuned!\n",
    "\n"
   ]
  }
 ],
 "metadata": {
  "kernelspec": {
   "display_name": "Python 3",
   "language": "python",
   "name": "python3"
  },
  "language_info": {
   "codemirror_mode": {
    "name": "ipython",
    "version": 3
   },
   "file_extension": ".py",
   "mimetype": "text/x-python",
   "name": "python",
   "nbconvert_exporter": "python",
   "pygments_lexer": "ipython3",
   "version": "3.7.4"
  }
 },
 "nbformat": 4,
 "nbformat_minor": 4
}
