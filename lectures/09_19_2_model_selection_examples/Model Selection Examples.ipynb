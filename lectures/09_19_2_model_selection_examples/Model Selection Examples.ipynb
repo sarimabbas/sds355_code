{
 "cells": [
  {
   "cell_type": "code",
   "execution_count": null,
   "metadata": {},
   "outputs": [],
   "source": [
    "import numpy as np\n",
    "import pandas as pd\n",
    "import matplotlib.pyplot as plt\n",
    "import statsmodels.api as sm"
   ]
  },
  {
   "cell_type": "markdown",
   "metadata": {},
   "source": [
    "# Initial Data Exploration"
   ]
  },
  {
   "cell_type": "code",
   "execution_count": null,
   "metadata": {},
   "outputs": [],
   "source": [
    "#What are the variables in the Boston Housing dataset?\n",
    "Boston = pd.read_csv(\"Boston.csv\")\n",
    "Boston.columns"
   ]
  },
  {
   "cell_type": "code",
   "execution_count": null,
   "metadata": {},
   "outputs": [],
   "source": [
    "#How many observations and variables are there in this dataset?\n",
    "Boston.shape"
   ]
  },
  {
   "cell_type": "markdown",
   "metadata": {},
   "source": [
    "### Below is a description of each of the variables\n",
    "\n",
    "crim : per capita crime rate by town.\n",
    "\n",
    "zn : proportion of residential land zoned for lots over 25,000 sq.ft.\n",
    "\n",
    "indus : proportion of non-retail business acres per town.\n",
    "\n",
    "chas : Charles River dummy variable (= 1 if tract bounds river; 0 otherwise).\n",
    "\n",
    "nox : nitrogen oxides concentration (parts per 10 million).\n",
    "\n",
    "rm : average number of rooms per dwelling.\n",
    "\n",
    "age : proportion of owner-occupied units built prior to 1940.\n",
    "\n",
    "dis : weighted mean of distances to five Boston employment centres.\n",
    "\n",
    "rad : index of accessibility to radial highways.\n",
    "\n",
    "tax : full-value property-tax rate per \\$10,000.\n",
    "\n",
    "ptratio : pupil-teacher ratio by town.\n",
    "\n",
    "black : 1000(Bk - 0.63)^2 where Bk is the proportion of blacks by town.\n",
    "\n",
    "lstat : lower status of the population (percent).\n",
    "\n",
    "medv : median value of owner-occupied homes in \\$1000s."
   ]
  },
  {
   "cell_type": "markdown",
   "metadata": {},
   "source": [
    "### Do any of the variables have obvious outliers or strong skew?"
   ]
  },
  {
   "cell_type": "code",
   "execution_count": null,
   "metadata": {},
   "outputs": [],
   "source": [
    "plt.hist(Boston.crim.values, bins=50)\n",
    "plt.show()"
   ]
  },
  {
   "cell_type": "code",
   "execution_count": null,
   "metadata": {},
   "outputs": [],
   "source": [
    "plt.hist(Boston.zn.values, bins=50)\n",
    "plt.show()"
   ]
  },
  {
   "cell_type": "code",
   "execution_count": null,
   "metadata": {},
   "outputs": [],
   "source": [
    "plt.hist(Boston.black.values, bins=50)\n",
    "plt.show()"
   ]
  },
  {
   "cell_type": "markdown",
   "metadata": {},
   "source": [
    "It looks like crim, zn, and black are all strongly skewed, while all other variables do not appear to have any obvious outliers or extreme skew (check for yourself though).\n",
    "\n",
    "For these three variables, we will transform them using the logarithm, remove the original version from the dataframe, and add in the transformed variables with the same name."
   ]
  },
  {
   "cell_type": "code",
   "execution_count": null,
   "metadata": {
    "collapsed": true
   },
   "outputs": [],
   "source": [
    "Boston[\"crim\"] = np.log(1 + Boston.crim.values)\n",
    "Boston[\"zn\"] = np.log(1 + Boston.zn.values)\n",
    "Boston[\"black\"] = np.log(400 - Boston.black.values)"
   ]
  },
  {
   "cell_type": "markdown",
   "metadata": {},
   "source": [
    "# Model Selection\n",
    "\n",
    "Here we wish to model the median value of homes (medv) as a function of all other variables. Furthermore, we want to find the simplest model that has the fewest number of variables in it.\n",
    "\n",
    "To compare models we will use Mallow's $C_{p}$ defined as follows:\n",
    "\n",
    "$$C_{p} = \\dfrac{1}{n} \\left( RSS + 2 p \\hat{\\sigma}^{2} \\right)$$\n",
    "\n",
    "where $RSS$ is the residual sum of squares, $p$ is the number of fit parameters, and $\\hat{\\sigma}$ is an estimate of the standard deviation of the noise. Here we will use $\\hat{\\sigma}^{2} = \\dfrac{\\sum\\limits_{i=1}^{n} \\left( Y_{i} - \\hat{Y}_{i} \\right)^{2}}{n - p}$."
   ]
  },
  {
   "cell_type": "markdown",
   "metadata": {},
   "source": [
    "### Forward Stepwise Selection"
   ]
  },
  {
   "cell_type": "code",
   "execution_count": null,
   "metadata": {
    "collapsed": true
   },
   "outputs": [],
   "source": [
    "variables = Boston.columns.drop([\"medv\"])\n",
    "modelvars = []\n",
    "nullmdl = sm.OLS(Boston[\"medv\"], sm.add_constant(Boston[modelvars])).fit()\n",
    "rss = np.sum((Boston.medv.values - nullmdl.fittedvalues)**2)\n",
    "cp = (rss + 2*(len(modelvars)+1)*rss/(len(Boston.medv.values) - (len(modelvars)+1)))/len(Boston.medv.values)\n",
    "decreasing = True\n",
    "while decreasing:\n",
    "    cps = []\n",
    "    for var in variables:\n",
    "        mdl = sm.OLS(Boston[\"medv\"], sm.add_constant(Boston[modelvars + [var]])).fit()\n",
    "        rss = np.sum((Boston.medv.values - mdl.fittedvalues)**2)\n",
    "        cps.append((rss + 2*(len(modelvars)+2)*rss/(len(Boston.medv.values) - (len(modelvars)+2)))/len(Boston.medv.values))\n",
    "    best = np.argmin(cps)\n",
    "    if cps[best] < cp:\n",
    "        modelvars.append(variables[best])\n",
    "        variables.drop([variables[best]])\n",
    "        cp = cps[best]\n",
    "    else:\n",
    "        decreasing = False"
   ]
  },
  {
   "cell_type": "code",
   "execution_count": null,
   "metadata": {},
   "outputs": [],
   "source": [
    "#Which variables were selected as the best for this linear model through forward selection\n",
    "modelvars"
   ]
  },
  {
   "cell_type": "code",
   "execution_count": null,
   "metadata": {},
   "outputs": [],
   "source": [
    "#What does the final model look like\n",
    "finalmdl = sm.OLS(Boston[\"medv\"], sm.add_constant(Boston[modelvars])).fit()\n",
    "finalmdl.summary()"
   ]
  },
  {
   "cell_type": "markdown",
   "metadata": {},
   "source": [
    "### Backward Stepwise Selection"
   ]
  },
  {
   "cell_type": "code",
   "execution_count": null,
   "metadata": {},
   "outputs": [],
   "source": [
    "modelvars2 = Boston.columns.drop([\"medv\"])\n",
    "fullmdl = sm.OLS(Boston[\"medv\"], sm.add_constant(Boston[modelvars2])).fit()\n",
    "rss = np.sum((Boston.medv.values - fullmdl.fittedvalues)**2)\n",
    "cp = (rss + 2*(len(modelvars2)+1)*rss/(len(Boston.medv.values) - (len(modelvars2)+1)))/len(Boston.medv.values)\n",
    "decreasing = True\n",
    "while decreasing:\n",
    "    cps = []\n",
    "    for var in modelvars2:\n",
    "        tempmodelvars2 = list(modelvars2)\n",
    "        tempmodelvars2.remove(var)\n",
    "        mdl = sm.OLS(Boston[\"medv\"], sm.add_constant(Boston[tempmodelvars2])).fit()\n",
    "        rss = np.sum((Boston.medv.values - mdl.fittedvalues)**2)\n",
    "        cps.append((rss + 2*(len(tempmodelvars2)+1)*rss/(len(Boston.medv.values) - (len(tempmodelvars2)+1)))/len(Boston.medv.values))\n",
    "    best = np.argmin(cps)\n",
    "    if cps[best] < cp:\n",
    "        modelvars2 = modelvars2.drop(modelvars2[best])\n",
    "        cp = cps[best]\n",
    "    else:\n",
    "        decreasing = False"
   ]
  },
  {
   "cell_type": "code",
   "execution_count": null,
   "metadata": {},
   "outputs": [],
   "source": [
    "#What variables were selected by now using backward selection?\n",
    "modelvars2"
   ]
  },
  {
   "cell_type": "code",
   "execution_count": null,
   "metadata": {},
   "outputs": [],
   "source": [
    "#What does the new final model look like?\n",
    "finalmdl2 = sm.OLS(Boston[\"medv\"], sm.add_constant(Boston[modelvars2])).fit()\n",
    "finalmdl2.summary()"
   ]
  },
  {
   "cell_type": "code",
   "execution_count": null,
   "metadata": {
    "collapsed": true
   },
   "outputs": [],
   "source": []
  }
 ],
 "metadata": {
  "kernelspec": {
   "display_name": "Python 3",
   "language": "python",
   "name": "python3"
  },
  "language_info": {
   "codemirror_mode": {
    "name": "ipython",
    "version": 3
   },
   "file_extension": ".py",
   "mimetype": "text/x-python",
   "name": "python",
   "nbconvert_exporter": "python",
   "pygments_lexer": "ipython3",
   "version": "3.6.1"
  }
 },
 "nbformat": 4,
 "nbformat_minor": 2
}
