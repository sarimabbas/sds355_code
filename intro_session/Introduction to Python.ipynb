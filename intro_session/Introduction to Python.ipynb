{
 "cells": [
  {
   "cell_type": "markdown",
   "metadata": {},
   "source": [
    "# Jupyter Notebook structure"
   ]
  },
  {
   "cell_type": "markdown",
   "metadata": {},
   "source": [
    "Jupyter notebooks have two types of cells: one for notes/markdown (like this one) and one for code (like the next one). To run any cell and proceed to the next cell, use Shift-Enter. To run a cell and keep the focus in that cell, use Ctrl-Enter. There are two modes of each cell: Command mode (highlighted in blue on the left) and Edit mode (highlighted in green). To get a list of keyboard shortcuts for each mode, go to \"Keyboard Shortcuts\" in the above \"Help\" pulldown menu.\n",
    "\n",
    "Please note that there are <i>many</i> helpful tutorials for Python on the web. With a little Googling you should be able to find one that suits your tastes and skill level. For example, for a focus on machine learning you could look [here](https://www.quora.com/What-is-the-best-Python-tutorial-for-machine-learning). If you'd like any suggestions, let us know. \n"
   ]
  },
  {
   "cell_type": "code",
   "execution_count": 10,
   "metadata": {},
   "outputs": [
    {
     "data": {
      "text/plain": [
       "54"
      ]
     },
     "execution_count": 10,
     "metadata": {},
     "output_type": "execute_result"
    }
   ],
   "source": [
    "6*9**2 - 486 + 54"
   ]
  },
  {
   "cell_type": "markdown",
   "metadata": {},
   "source": [
    "Each cell for code can be run in any order. The notebook indicates next to it the order in which they have been run in. Code cells also have an output that is printed right below it."
   ]
  },
  {
   "cell_type": "markdown",
   "metadata": {},
   "source": [
    "## Shortcuts\n",
    "\n",
    "- `ctrl-enter` to run code of cell while keeping focus\n",
    "- `shift-enter` to run code of cell and jump to next"
   ]
  },
  {
   "cell_type": "markdown",
   "metadata": {},
   "source": [
    "# Python Syntax"
   ]
  },
  {
   "cell_type": "code",
   "execution_count": null,
   "metadata": {},
   "outputs": [],
   "source": [
    "#The symbol for comments in code is the same as in R: the '#' symbol\n",
    "euler = 2.71828     #to assign a value to a variable use the '=' symbol\n",
    "euler            #to view the value of a variable, put it as the last line of the cell"
   ]
  },
  {
   "cell_type": "markdown",
   "metadata": {},
   "source": [
    "One of the main characteristics of python is its intentional \"easy to read and write\" syntax. Many programming languages such as C, C++, Java, etc. require the use of semicolons at the end of statements. Others, including R and Python, interpret the end of a line as the end of a statement. In almost every language there is no requirement for indentations when using conditional statements and loops, and consequently there is a requirement for brackets and parenthases. In Python brackets and parenthases are kept to minimal use and indentation is a requirement."
   ]
  },
  {
   "cell_type": "code",
   "execution_count": null,
   "metadata": {},
   "outputs": [],
   "source": [
    "for i in range(5,10):    #the range(k,j) function is mostly the same as k:j in R, but is meant for loops.\n",
    "    q = i + 6 - 8  #addition and subtraction\n",
    "    q = (q*10)/4   #multiplication and division\n",
    "    print((i,q**2))    #exponentiation"
   ]
  },
  {
   "cell_type": "code",
   "execution_count": null,
   "metadata": {},
   "outputs": [],
   "source": [
    "h = 0\n",
    "while h > -15 and h <= 15:\n",
    "    h = h**2 +1\n",
    "    print(h)"
   ]
  },
  {
   "cell_type": "code",
   "execution_count": null,
   "metadata": {},
   "outputs": [],
   "source": [
    "for j in range(10):\n",
    "    if j%2 == 0 or j%7 == 0:  #if statements and modular arithmetic\n",
    "        print(j)\n",
    "    else:\n",
    "        print(\"So sad\")    "
   ]
  },
  {
   "cell_type": "markdown",
   "metadata": {},
   "source": [
    "# Lists"
   ]
  },
  {
   "cell_type": "markdown",
   "metadata": {},
   "source": [
    "Some of the most well known features of python are related to its use of lists."
   ]
  },
  {
   "cell_type": "code",
   "execution_count": null,
   "metadata": {},
   "outputs": [],
   "source": [
    "h = []    #to define a list use square brackets. This is kind of like c() in R, but is a list instead of a vector/array\n",
    "type(h)"
   ]
  },
  {
   "cell_type": "code",
   "execution_count": null,
   "metadata": {},
   "outputs": [],
   "source": [
    "h = [(i**2 +3)%5 for i in range(10)]  #this way of building a list with a loop inside the brackets is called \"list comprehension\"\n",
    "h"
   ]
  },
  {
   "cell_type": "markdown",
   "metadata": {},
   "source": [
    "The above kind of expression is very handy in Python. It's called a [list comprehension](https://docs.python.org/3/tutorial/datastructures.html#list-comprehensions)"
   ]
  },
  {
   "cell_type": "code",
   "execution_count": null,
   "metadata": {},
   "outputs": [],
   "source": [
    "len(h)    #get the length of a list with the len() function, which is equivalent to R's length() function"
   ]
  },
  {
   "cell_type": "code",
   "execution_count": null,
   "metadata": {},
   "outputs": [],
   "source": [
    "h[0]    #index a list with square brackets, with 0 (instead of 1 as in R) representing the first element"
   ]
  },
  {
   "cell_type": "code",
   "execution_count": null,
   "metadata": {},
   "outputs": [],
   "source": [
    "h[0:2]   #index a range of elements in a list with the ':' symbol which starts with the first number and goes (exclusively) to\n",
    "         #the last number"
   ]
  },
  {
   "cell_type": "code",
   "execution_count": null,
   "metadata": {},
   "outputs": [],
   "source": [
    "h[:2]    #the first number can even be left off if we start from the beginning"
   ]
  },
  {
   "cell_type": "code",
   "execution_count": null,
   "metadata": {},
   "outputs": [],
   "source": [
    "h[5:]    #and of course the last number can be left off if we go until the end"
   ]
  },
  {
   "cell_type": "code",
   "execution_count": null,
   "metadata": {},
   "outputs": [],
   "source": [
    "#What if we want to get the last element? In R we would need to do h[length(h)]. Python is a lot simpler\n",
    "print(h[len(h)-1])\n",
    "h[-1]"
   ]
  },
  {
   "cell_type": "code",
   "execution_count": null,
   "metadata": {},
   "outputs": [],
   "source": [
    "h[-3:]    #get the last 3 elements of a list"
   ]
  },
  {
   "cell_type": "markdown",
   "metadata": {},
   "source": [
    "So what math operations can be applied to lists?"
   ]
  },
  {
   "cell_type": "code",
   "execution_count": null,
   "metadata": {},
   "outputs": [],
   "source": [
    "a = [1,2,3]\n",
    "b = [7,8,9]\n",
    "a + b     #Adding lists concatenates the two lists in the respective order"
   ]
  },
  {
   "cell_type": "code",
   "execution_count": null,
   "metadata": {},
   "outputs": [],
   "source": [
    "a = ['hello', 2, \"u\"]   #and anything can go into a list\n",
    "b = [\"bye\", 874]\n",
    "a + b"
   ]
  },
  {
   "cell_type": "code",
   "execution_count": null,
   "metadata": {},
   "outputs": [],
   "source": [
    "#So does subtraction remove elements from a list?\n",
    "l1 = ['a', 'b', 'c']\n",
    "l2 = ['c']\n",
    "l1 - l2"
   ]
  },
  {
   "cell_type": "code",
   "execution_count": null,
   "metadata": {},
   "outputs": [],
   "source": [
    "#Nope, one needs to use the .remove() function to do this\n",
    "l1.remove('c')\n",
    "l1"
   ]
  },
  {
   "cell_type": "code",
   "execution_count": null,
   "metadata": {},
   "outputs": [],
   "source": [
    "g = [1,2]\n",
    "6*g     #multiplication by an integer n concatenates n copies of that list together"
   ]
  },
  {
   "cell_type": "markdown",
   "metadata": {},
   "source": [
    "## Vectors with Numpy"
   ]
  },
  {
   "cell_type": "code",
   "execution_count": 30,
   "metadata": {},
   "outputs": [
    {
     "ename": "TypeError",
     "evalue": "can't multiply sequence by non-int of type 'float'",
     "output_type": "error",
     "traceback": [
      "\u001b[0;31m---------------------------------------------------------------------------\u001b[0m",
      "\u001b[0;31mTypeError\u001b[0m                                 Traceback (most recent call last)",
      "\u001b[0;32m<ipython-input-30-5fa7c6e8c085>\u001b[0m in \u001b[0;36m<module>\u001b[0;34m\u001b[0m\n\u001b[1;32m      2\u001b[0m \u001b[0;32mimport\u001b[0m \u001b[0mnumpy\u001b[0m \u001b[0;32mas\u001b[0m \u001b[0mnp\u001b[0m    \u001b[0;31m#import packages with the import command, kind of like library() in R\u001b[0m\u001b[0;34m\u001b[0m\u001b[0;34m\u001b[0m\u001b[0m\n\u001b[1;32m      3\u001b[0m \u001b[0mg2\u001b[0m \u001b[0;34m=\u001b[0m \u001b[0;34m[\u001b[0m\u001b[0;36m1\u001b[0m\u001b[0;34m,\u001b[0m\u001b[0;36m2\u001b[0m\u001b[0;34m,\u001b[0m\u001b[0;36m3\u001b[0m\u001b[0;34m,\u001b[0m\u001b[0;36m4\u001b[0m\u001b[0;34m]\u001b[0m\u001b[0;34m\u001b[0m\u001b[0;34m\u001b[0m\u001b[0m\n\u001b[0;32m----> 4\u001b[0;31m \u001b[0;36m3.14\u001b[0m\u001b[0;34m*\u001b[0m\u001b[0mg2\u001b[0m\u001b[0;34m\u001b[0m\u001b[0;34m\u001b[0m\u001b[0m\n\u001b[0m",
      "\u001b[0;31mTypeError\u001b[0m: can't multiply sequence by non-int of type 'float'"
     ]
    }
   ],
   "source": [
    "#In order to do math operations on the elements of a list, we need to convert it to an array\n",
    "import numpy as np    #import packages with the import command, kind of like library() in R\n",
    "g2 = [1,2,3,4]\n",
    "3.14*g2"
   ]
  },
  {
   "cell_type": "code",
   "execution_count": 31,
   "metadata": {},
   "outputs": [
    {
     "data": {
      "text/plain": [
       "array([ 3.14,  6.28,  9.42, 12.56])"
      ]
     },
     "execution_count": 31,
     "metadata": {},
     "output_type": "execute_result"
    }
   ],
   "source": [
    "3.14*np.array(g2)"
   ]
  },
  {
   "cell_type": "code",
   "execution_count": 32,
   "metadata": {},
   "outputs": [
    {
     "data": {
      "text/plain": [
       "array([ 6, 12, 18, 24])"
      ]
     },
     "execution_count": 32,
     "metadata": {},
     "output_type": "execute_result"
    }
   ],
   "source": [
    "g1 = np.array([1,2,3,4])\n",
    "g2 = np.array([5,10,15,20])\n",
    "g1 + g2"
   ]
  },
  {
   "cell_type": "code",
   "execution_count": null,
   "metadata": {},
   "outputs": [],
   "source": [
    "g1 - g2"
   ]
  },
  {
   "cell_type": "code",
   "execution_count": null,
   "metadata": {},
   "outputs": [],
   "source": [
    "g1*g2"
   ]
  },
  {
   "cell_type": "code",
   "execution_count": null,
   "metadata": {},
   "outputs": [],
   "source": [
    "g2/g1"
   ]
  },
  {
   "cell_type": "code",
   "execution_count": 33,
   "metadata": {},
   "outputs": [
    {
     "data": {
      "text/plain": [
       "array([ 1,  4,  3, 16])"
      ]
     },
     "execution_count": 33,
     "metadata": {},
     "output_type": "execute_result"
    }
   ],
   "source": [
    "g3 = np.array([1, 2, 1, 2])\n",
    "g1**g3"
   ]
  },
  {
   "cell_type": "markdown",
   "metadata": {},
   "source": [
    "## Warning about shared list pointers\n",
    "While lists are very flexible and easy to work with in python, there is also a major caution about them. If you define a list, set a new list equal to it, and perform some operation on the new list, the same operation is automatically applied to the original list."
   ]
  },
  {
   "cell_type": "code",
   "execution_count": null,
   "metadata": {},
   "outputs": [],
   "source": [
    "list1 = [(2*j)%3 for j in range(2,5)]\n",
    "list1"
   ]
  },
  {
   "cell_type": "code",
   "execution_count": null,
   "metadata": {},
   "outputs": [],
   "source": [
    "list2 = list1\n",
    "list2"
   ]
  },
  {
   "cell_type": "code",
   "execution_count": null,
   "metadata": {},
   "outputs": [],
   "source": [
    "list2[0] = -600\n",
    "list1"
   ]
  },
  {
   "cell_type": "markdown",
   "metadata": {},
   "source": [
    "To get around this issue, you can normally use the list() function and you'll be fine. This constructs a new list rather than creating a reference to the original list."
   ]
  },
  {
   "cell_type": "code",
   "execution_count": null,
   "metadata": {},
   "outputs": [],
   "source": [
    "list1 = [(2*j)%3 for j in range(2,5)]\n",
    "list2 = list(list1)\n",
    "list2[0] = 600\n",
    "list1"
   ]
  },
  {
   "cell_type": "markdown",
   "metadata": {},
   "source": [
    "# Strings"
   ]
  },
  {
   "cell_type": "markdown",
   "metadata": {},
   "source": [
    "Strings are often easier to work with in python than R, simply because of many built in operations that work on them"
   ]
  },
  {
   "cell_type": "code",
   "execution_count": null,
   "metadata": {
    "collapsed": true
   },
   "outputs": [],
   "source": [
    "#Just like in R, you can use either single quotes 'string' or double quotes \"string\" in defining a string\n",
    "s1 = 'look at-this_string!'\n",
    "s2 = \"Look at this 1 2!!!\""
   ]
  },
  {
   "cell_type": "code",
   "execution_count": null,
   "metadata": {},
   "outputs": [],
   "source": [
    "s1[:4]   #index a range of characters in a string"
   ]
  },
  {
   "cell_type": "code",
   "execution_count": null,
   "metadata": {},
   "outputs": [],
   "source": [
    "splitted = s2.split(\"this\")    #split a string at a given sequence of characters to create a list\n",
    "splitted"
   ]
  },
  {
   "cell_type": "code",
   "execution_count": null,
   "metadata": {},
   "outputs": [],
   "source": [
    "splitted2 = s2.split(' ')\n",
    "splitted2"
   ]
  },
  {
   "cell_type": "code",
   "execution_count": null,
   "metadata": {},
   "outputs": [],
   "source": [
    "s1 + s2        #adding two strings concatenates them together in the respective order"
   ]
  },
  {
   "cell_type": "code",
   "execution_count": null,
   "metadata": {},
   "outputs": [],
   "source": [
    "3*s2          #multiplying a string by an positive integer n concatenates n copies of that string"
   ]
  },
  {
   "cell_type": "code",
   "execution_count": null,
   "metadata": {},
   "outputs": [],
   "source": [
    "integer1 = -9\n",
    "float1 = 3.1415\n",
    "string1 = 'Yale'\n",
    "\"How %d cool can st%frings get at %s !!\"%(integer1, float1, string1)   #insert the value of a variable into a string. Kind of\n",
    "                                                                         #like paste0() in R."
   ]
  },
  {
   "cell_type": "markdown",
   "metadata": {},
   "source": [
    "There's a plethora of additional string operations available in the \"re\" package. Check it out!"
   ]
  },
  {
   "cell_type": "markdown",
   "metadata": {},
   "source": [
    "## F-strings"
   ]
  },
  {
   "cell_type": "code",
   "execution_count": 36,
   "metadata": {},
   "outputs": [
    {
     "data": {
      "text/plain": [
       "'How 1233423 are you?'"
      ]
     },
     "execution_count": 36,
     "metadata": {},
     "output_type": "execute_result"
    }
   ],
   "source": [
    "# fmt strings\n",
    "val = 1233423\n",
    "string2 = f\"How {val} are you?\"\n",
    "string2"
   ]
  },
  {
   "cell_type": "markdown",
   "metadata": {},
   "source": [
    "# Functions"
   ]
  },
  {
   "cell_type": "markdown",
   "metadata": {},
   "source": [
    "Other than the way they are defined, functions work essentially the same in Python as they do in R. Parenthases are for the arguments of the function, and remember that indentation is required for the tasks of the function."
   ]
  },
  {
   "cell_type": "code",
   "execution_count": null,
   "metadata": {
    "collapsed": true
   },
   "outputs": [],
   "source": [
    "def myfunction(a, b = \"great\"):    #define a function with 'def', the same as 'myfunction <- function(a, b = \"great\"){}' in R\n",
    "    h = [i*a for i in range(5)]\n",
    "    for j in range(len(h)):\n",
    "        h[j] = str(h[j]) + b\n",
    "    return(h)"
   ]
  },
  {
   "cell_type": "code",
   "execution_count": null,
   "metadata": {},
   "outputs": [],
   "source": [
    "myfunction(1)"
   ]
  },
  {
   "cell_type": "code",
   "execution_count": null,
   "metadata": {},
   "outputs": [],
   "source": [
    "myfunction(5, b = \" bulldogs\")"
   ]
  },
  {
   "cell_type": "markdown",
   "metadata": {},
   "source": [
    "# Dataframes"
   ]
  },
  {
   "cell_type": "markdown",
   "metadata": {},
   "source": [
    "Dataframes are the most standard way of organizing data. They are similar to a matrix with each row representing a single observation and each column representing a variable. Dataframes in python work almost exactly the same as in R. The <i>pandas</i> package is what almost everyone uses for this."
   ]
  },
  {
   "cell_type": "code",
   "execution_count": 13,
   "metadata": {},
   "outputs": [],
   "source": [
    "import pandas as pd"
   ]
  },
  {
   "cell_type": "code",
   "execution_count": 14,
   "metadata": {},
   "outputs": [
    {
     "data": {
      "text/html": [
       "<div>\n",
       "<style scoped>\n",
       "    .dataframe tbody tr th:only-of-type {\n",
       "        vertical-align: middle;\n",
       "    }\n",
       "\n",
       "    .dataframe tbody tr th {\n",
       "        vertical-align: top;\n",
       "    }\n",
       "\n",
       "    .dataframe thead th {\n",
       "        text-align: right;\n",
       "    }\n",
       "</style>\n",
       "<table border=\"1\" class=\"dataframe\">\n",
       "  <thead>\n",
       "    <tr style=\"text-align: right;\">\n",
       "      <th></th>\n",
       "      <th>Sepal.Length</th>\n",
       "      <th>Sepal.Width</th>\n",
       "      <th>Petal.Length</th>\n",
       "      <th>Petal.Width</th>\n",
       "      <th>Species</th>\n",
       "    </tr>\n",
       "  </thead>\n",
       "  <tbody>\n",
       "    <tr>\n",
       "      <td>0</td>\n",
       "      <td>5.1</td>\n",
       "      <td>3.5</td>\n",
       "      <td>1.4</td>\n",
       "      <td>0.2</td>\n",
       "      <td>setosa</td>\n",
       "    </tr>\n",
       "    <tr>\n",
       "      <td>1</td>\n",
       "      <td>4.9</td>\n",
       "      <td>3.0</td>\n",
       "      <td>1.4</td>\n",
       "      <td>0.2</td>\n",
       "      <td>setosa</td>\n",
       "    </tr>\n",
       "    <tr>\n",
       "      <td>2</td>\n",
       "      <td>4.7</td>\n",
       "      <td>3.2</td>\n",
       "      <td>1.3</td>\n",
       "      <td>0.2</td>\n",
       "      <td>setosa</td>\n",
       "    </tr>\n",
       "    <tr>\n",
       "      <td>3</td>\n",
       "      <td>4.6</td>\n",
       "      <td>3.1</td>\n",
       "      <td>1.5</td>\n",
       "      <td>0.2</td>\n",
       "      <td>setosa</td>\n",
       "    </tr>\n",
       "    <tr>\n",
       "      <td>4</td>\n",
       "      <td>5.0</td>\n",
       "      <td>3.6</td>\n",
       "      <td>1.4</td>\n",
       "      <td>0.2</td>\n",
       "      <td>setosa</td>\n",
       "    </tr>\n",
       "    <tr>\n",
       "      <td>...</td>\n",
       "      <td>...</td>\n",
       "      <td>...</td>\n",
       "      <td>...</td>\n",
       "      <td>...</td>\n",
       "      <td>...</td>\n",
       "    </tr>\n",
       "    <tr>\n",
       "      <td>145</td>\n",
       "      <td>6.7</td>\n",
       "      <td>3.0</td>\n",
       "      <td>5.2</td>\n",
       "      <td>2.3</td>\n",
       "      <td>virginica</td>\n",
       "    </tr>\n",
       "    <tr>\n",
       "      <td>146</td>\n",
       "      <td>6.3</td>\n",
       "      <td>2.5</td>\n",
       "      <td>5.0</td>\n",
       "      <td>1.9</td>\n",
       "      <td>virginica</td>\n",
       "    </tr>\n",
       "    <tr>\n",
       "      <td>147</td>\n",
       "      <td>6.5</td>\n",
       "      <td>3.0</td>\n",
       "      <td>5.2</td>\n",
       "      <td>2.0</td>\n",
       "      <td>virginica</td>\n",
       "    </tr>\n",
       "    <tr>\n",
       "      <td>148</td>\n",
       "      <td>6.2</td>\n",
       "      <td>3.4</td>\n",
       "      <td>5.4</td>\n",
       "      <td>2.3</td>\n",
       "      <td>virginica</td>\n",
       "    </tr>\n",
       "    <tr>\n",
       "      <td>149</td>\n",
       "      <td>5.9</td>\n",
       "      <td>3.0</td>\n",
       "      <td>5.1</td>\n",
       "      <td>1.8</td>\n",
       "      <td>virginica</td>\n",
       "    </tr>\n",
       "  </tbody>\n",
       "</table>\n",
       "<p>150 rows × 5 columns</p>\n",
       "</div>"
      ],
      "text/plain": [
       "     Sepal.Length  Sepal.Width  Petal.Length  Petal.Width    Species\n",
       "0             5.1          3.5           1.4          0.2     setosa\n",
       "1             4.9          3.0           1.4          0.2     setosa\n",
       "2             4.7          3.2           1.3          0.2     setosa\n",
       "3             4.6          3.1           1.5          0.2     setosa\n",
       "4             5.0          3.6           1.4          0.2     setosa\n",
       "..            ...          ...           ...          ...        ...\n",
       "145           6.7          3.0           5.2          2.3  virginica\n",
       "146           6.3          2.5           5.0          1.9  virginica\n",
       "147           6.5          3.0           5.2          2.0  virginica\n",
       "148           6.2          3.4           5.4          2.3  virginica\n",
       "149           5.9          3.0           5.1          1.8  virginica\n",
       "\n",
       "[150 rows x 5 columns]"
      ]
     },
     "execution_count": 14,
     "metadata": {},
     "output_type": "execute_result"
    }
   ],
   "source": [
    "iris = pd.read_csv(\"iris.csv\")    #read in the dataset in the file \"iris.csv\" as a dataframe\n",
    "iris                #view the dataframe"
   ]
  },
  {
   "cell_type": "code",
   "execution_count": 42,
   "metadata": {},
   "outputs": [
    {
     "name": "stdout",
     "output_type": "stream",
     "text": [
      "<class 'numpy.ndarray'>\n",
      "<class 'pandas.core.series.Series'>\n"
     ]
    }
   ],
   "source": [
    "values = iris[\"Sepal.Width\"].values            #select the column for Sepal.Width as an array\n",
    "\n",
    "type(values) != type([])\n",
    "print(type(values))\n",
    "print(type(iris[\"Sepal.Width\"]))"
   ]
  },
  {
   "cell_type": "code",
   "execution_count": 37,
   "metadata": {},
   "outputs": [
    {
     "data": {
      "text/plain": [
       "array([3.5, 3. , 3.2, 3.1, 3.6, 3.9, 3.4, 3.4, 2.9, 3.1, 3.7, 3.4, 3. ,\n",
       "       3. , 4. , 4.4, 3.9, 3.5, 3.8, 3.8, 3.4, 3.7, 3.6, 3.3, 3.4, 3. ,\n",
       "       3.4, 3.5, 3.4, 3.2, 3.1, 3.4, 4.1, 4.2, 3.1, 3.2, 3.5, 3.6, 3. ,\n",
       "       3.4, 3.5, 2.3, 3.2, 3.5, 3.8, 3. , 3.8, 3.2, 3.7, 3.3, 3.2, 3.2,\n",
       "       3.1, 2.3, 2.8, 2.8, 3.3, 2.4, 2.9, 2.7, 2. , 3. , 2.2, 2.9, 2.9,\n",
       "       3.1, 3. , 2.7, 2.2, 2.5, 3.2, 2.8, 2.5, 2.8, 2.9, 3. , 2.8, 3. ,\n",
       "       2.9, 2.6, 2.4, 2.4, 2.7, 2.7, 3. , 3.4, 3.1, 2.3, 3. , 2.5, 2.6,\n",
       "       3. , 2.6, 2.3, 2.7, 3. , 2.9, 2.9, 2.5, 2.8, 3.3, 2.7, 3. , 2.9,\n",
       "       3. , 3. , 2.5, 2.9, 2.5, 3.6, 3.2, 2.7, 3. , 2.5, 2.8, 3.2, 3. ,\n",
       "       3.8, 2.6, 2.2, 3.2, 2.8, 2.8, 2.7, 3.3, 3.2, 2.8, 3. , 2.8, 3. ,\n",
       "       2.8, 3.8, 2.8, 2.8, 2.6, 3. , 3.4, 3.1, 3. , 3.1, 3.1, 3.1, 2.7,\n",
       "       3.2, 3.3, 3. , 2.5, 3. , 3.4, 3. ])"
      ]
     },
     "execution_count": 37,
     "metadata": {},
     "output_type": "execute_result"
    }
   ],
   "source": [
    "values"
   ]
  },
  {
   "cell_type": "code",
   "execution_count": 38,
   "metadata": {},
   "outputs": [
    {
     "data": {
      "text/html": [
       "<div>\n",
       "<style scoped>\n",
       "    .dataframe tbody tr th:only-of-type {\n",
       "        vertical-align: middle;\n",
       "    }\n",
       "\n",
       "    .dataframe tbody tr th {\n",
       "        vertical-align: top;\n",
       "    }\n",
       "\n",
       "    .dataframe thead th {\n",
       "        text-align: right;\n",
       "    }\n",
       "</style>\n",
       "<table border=\"1\" class=\"dataframe\">\n",
       "  <thead>\n",
       "    <tr style=\"text-align: right;\">\n",
       "      <th></th>\n",
       "      <th>Sepal.Length</th>\n",
       "      <th>Sepal.Width</th>\n",
       "      <th>Petal.Length</th>\n",
       "      <th>Petal.Width</th>\n",
       "      <th>Species</th>\n",
       "    </tr>\n",
       "  </thead>\n",
       "  <tbody>\n",
       "    <tr>\n",
       "      <td>100</td>\n",
       "      <td>6.3</td>\n",
       "      <td>3.3</td>\n",
       "      <td>6.0</td>\n",
       "      <td>2.5</td>\n",
       "      <td>virginica</td>\n",
       "    </tr>\n",
       "    <tr>\n",
       "      <td>101</td>\n",
       "      <td>5.8</td>\n",
       "      <td>2.7</td>\n",
       "      <td>5.1</td>\n",
       "      <td>1.9</td>\n",
       "      <td>virginica</td>\n",
       "    </tr>\n",
       "    <tr>\n",
       "      <td>102</td>\n",
       "      <td>7.1</td>\n",
       "      <td>3.0</td>\n",
       "      <td>5.9</td>\n",
       "      <td>2.1</td>\n",
       "      <td>virginica</td>\n",
       "    </tr>\n",
       "    <tr>\n",
       "      <td>103</td>\n",
       "      <td>6.3</td>\n",
       "      <td>2.9</td>\n",
       "      <td>5.6</td>\n",
       "      <td>1.8</td>\n",
       "      <td>virginica</td>\n",
       "    </tr>\n",
       "    <tr>\n",
       "      <td>104</td>\n",
       "      <td>6.5</td>\n",
       "      <td>3.0</td>\n",
       "      <td>5.8</td>\n",
       "      <td>2.2</td>\n",
       "      <td>virginica</td>\n",
       "    </tr>\n",
       "    <tr>\n",
       "      <td>105</td>\n",
       "      <td>7.6</td>\n",
       "      <td>3.0</td>\n",
       "      <td>6.6</td>\n",
       "      <td>2.1</td>\n",
       "      <td>virginica</td>\n",
       "    </tr>\n",
       "    <tr>\n",
       "      <td>106</td>\n",
       "      <td>4.9</td>\n",
       "      <td>2.5</td>\n",
       "      <td>4.5</td>\n",
       "      <td>1.7</td>\n",
       "      <td>virginica</td>\n",
       "    </tr>\n",
       "    <tr>\n",
       "      <td>107</td>\n",
       "      <td>7.3</td>\n",
       "      <td>2.9</td>\n",
       "      <td>6.3</td>\n",
       "      <td>1.8</td>\n",
       "      <td>virginica</td>\n",
       "    </tr>\n",
       "    <tr>\n",
       "      <td>108</td>\n",
       "      <td>6.7</td>\n",
       "      <td>2.5</td>\n",
       "      <td>5.8</td>\n",
       "      <td>1.8</td>\n",
       "      <td>virginica</td>\n",
       "    </tr>\n",
       "    <tr>\n",
       "      <td>109</td>\n",
       "      <td>7.2</td>\n",
       "      <td>3.6</td>\n",
       "      <td>6.1</td>\n",
       "      <td>2.5</td>\n",
       "      <td>virginica</td>\n",
       "    </tr>\n",
       "    <tr>\n",
       "      <td>110</td>\n",
       "      <td>6.5</td>\n",
       "      <td>3.2</td>\n",
       "      <td>5.1</td>\n",
       "      <td>2.0</td>\n",
       "      <td>virginica</td>\n",
       "    </tr>\n",
       "    <tr>\n",
       "      <td>111</td>\n",
       "      <td>6.4</td>\n",
       "      <td>2.7</td>\n",
       "      <td>5.3</td>\n",
       "      <td>1.9</td>\n",
       "      <td>virginica</td>\n",
       "    </tr>\n",
       "    <tr>\n",
       "      <td>112</td>\n",
       "      <td>6.8</td>\n",
       "      <td>3.0</td>\n",
       "      <td>5.5</td>\n",
       "      <td>2.1</td>\n",
       "      <td>virginica</td>\n",
       "    </tr>\n",
       "    <tr>\n",
       "      <td>113</td>\n",
       "      <td>5.7</td>\n",
       "      <td>2.5</td>\n",
       "      <td>5.0</td>\n",
       "      <td>2.0</td>\n",
       "      <td>virginica</td>\n",
       "    </tr>\n",
       "    <tr>\n",
       "      <td>114</td>\n",
       "      <td>5.8</td>\n",
       "      <td>2.8</td>\n",
       "      <td>5.1</td>\n",
       "      <td>2.4</td>\n",
       "      <td>virginica</td>\n",
       "    </tr>\n",
       "    <tr>\n",
       "      <td>115</td>\n",
       "      <td>6.4</td>\n",
       "      <td>3.2</td>\n",
       "      <td>5.3</td>\n",
       "      <td>2.3</td>\n",
       "      <td>virginica</td>\n",
       "    </tr>\n",
       "    <tr>\n",
       "      <td>116</td>\n",
       "      <td>6.5</td>\n",
       "      <td>3.0</td>\n",
       "      <td>5.5</td>\n",
       "      <td>1.8</td>\n",
       "      <td>virginica</td>\n",
       "    </tr>\n",
       "    <tr>\n",
       "      <td>117</td>\n",
       "      <td>7.7</td>\n",
       "      <td>3.8</td>\n",
       "      <td>6.7</td>\n",
       "      <td>2.2</td>\n",
       "      <td>virginica</td>\n",
       "    </tr>\n",
       "    <tr>\n",
       "      <td>118</td>\n",
       "      <td>7.7</td>\n",
       "      <td>2.6</td>\n",
       "      <td>6.9</td>\n",
       "      <td>2.3</td>\n",
       "      <td>virginica</td>\n",
       "    </tr>\n",
       "    <tr>\n",
       "      <td>119</td>\n",
       "      <td>6.0</td>\n",
       "      <td>2.2</td>\n",
       "      <td>5.0</td>\n",
       "      <td>1.5</td>\n",
       "      <td>virginica</td>\n",
       "    </tr>\n",
       "    <tr>\n",
       "      <td>120</td>\n",
       "      <td>6.9</td>\n",
       "      <td>3.2</td>\n",
       "      <td>5.7</td>\n",
       "      <td>2.3</td>\n",
       "      <td>virginica</td>\n",
       "    </tr>\n",
       "    <tr>\n",
       "      <td>121</td>\n",
       "      <td>5.6</td>\n",
       "      <td>2.8</td>\n",
       "      <td>4.9</td>\n",
       "      <td>2.0</td>\n",
       "      <td>virginica</td>\n",
       "    </tr>\n",
       "    <tr>\n",
       "      <td>122</td>\n",
       "      <td>7.7</td>\n",
       "      <td>2.8</td>\n",
       "      <td>6.7</td>\n",
       "      <td>2.0</td>\n",
       "      <td>virginica</td>\n",
       "    </tr>\n",
       "    <tr>\n",
       "      <td>123</td>\n",
       "      <td>6.3</td>\n",
       "      <td>2.7</td>\n",
       "      <td>4.9</td>\n",
       "      <td>1.8</td>\n",
       "      <td>virginica</td>\n",
       "    </tr>\n",
       "    <tr>\n",
       "      <td>124</td>\n",
       "      <td>6.7</td>\n",
       "      <td>3.3</td>\n",
       "      <td>5.7</td>\n",
       "      <td>2.1</td>\n",
       "      <td>virginica</td>\n",
       "    </tr>\n",
       "    <tr>\n",
       "      <td>125</td>\n",
       "      <td>7.2</td>\n",
       "      <td>3.2</td>\n",
       "      <td>6.0</td>\n",
       "      <td>1.8</td>\n",
       "      <td>virginica</td>\n",
       "    </tr>\n",
       "    <tr>\n",
       "      <td>126</td>\n",
       "      <td>6.2</td>\n",
       "      <td>2.8</td>\n",
       "      <td>4.8</td>\n",
       "      <td>1.8</td>\n",
       "      <td>virginica</td>\n",
       "    </tr>\n",
       "    <tr>\n",
       "      <td>127</td>\n",
       "      <td>6.1</td>\n",
       "      <td>3.0</td>\n",
       "      <td>4.9</td>\n",
       "      <td>1.8</td>\n",
       "      <td>virginica</td>\n",
       "    </tr>\n",
       "    <tr>\n",
       "      <td>128</td>\n",
       "      <td>6.4</td>\n",
       "      <td>2.8</td>\n",
       "      <td>5.6</td>\n",
       "      <td>2.1</td>\n",
       "      <td>virginica</td>\n",
       "    </tr>\n",
       "    <tr>\n",
       "      <td>129</td>\n",
       "      <td>7.2</td>\n",
       "      <td>3.0</td>\n",
       "      <td>5.8</td>\n",
       "      <td>1.6</td>\n",
       "      <td>virginica</td>\n",
       "    </tr>\n",
       "    <tr>\n",
       "      <td>130</td>\n",
       "      <td>7.4</td>\n",
       "      <td>2.8</td>\n",
       "      <td>6.1</td>\n",
       "      <td>1.9</td>\n",
       "      <td>virginica</td>\n",
       "    </tr>\n",
       "    <tr>\n",
       "      <td>131</td>\n",
       "      <td>7.9</td>\n",
       "      <td>3.8</td>\n",
       "      <td>6.4</td>\n",
       "      <td>2.0</td>\n",
       "      <td>virginica</td>\n",
       "    </tr>\n",
       "    <tr>\n",
       "      <td>132</td>\n",
       "      <td>6.4</td>\n",
       "      <td>2.8</td>\n",
       "      <td>5.6</td>\n",
       "      <td>2.2</td>\n",
       "      <td>virginica</td>\n",
       "    </tr>\n",
       "    <tr>\n",
       "      <td>133</td>\n",
       "      <td>6.3</td>\n",
       "      <td>2.8</td>\n",
       "      <td>5.1</td>\n",
       "      <td>1.5</td>\n",
       "      <td>virginica</td>\n",
       "    </tr>\n",
       "    <tr>\n",
       "      <td>134</td>\n",
       "      <td>6.1</td>\n",
       "      <td>2.6</td>\n",
       "      <td>5.6</td>\n",
       "      <td>1.4</td>\n",
       "      <td>virginica</td>\n",
       "    </tr>\n",
       "    <tr>\n",
       "      <td>135</td>\n",
       "      <td>7.7</td>\n",
       "      <td>3.0</td>\n",
       "      <td>6.1</td>\n",
       "      <td>2.3</td>\n",
       "      <td>virginica</td>\n",
       "    </tr>\n",
       "    <tr>\n",
       "      <td>136</td>\n",
       "      <td>6.3</td>\n",
       "      <td>3.4</td>\n",
       "      <td>5.6</td>\n",
       "      <td>2.4</td>\n",
       "      <td>virginica</td>\n",
       "    </tr>\n",
       "    <tr>\n",
       "      <td>137</td>\n",
       "      <td>6.4</td>\n",
       "      <td>3.1</td>\n",
       "      <td>5.5</td>\n",
       "      <td>1.8</td>\n",
       "      <td>virginica</td>\n",
       "    </tr>\n",
       "    <tr>\n",
       "      <td>138</td>\n",
       "      <td>6.0</td>\n",
       "      <td>3.0</td>\n",
       "      <td>4.8</td>\n",
       "      <td>1.8</td>\n",
       "      <td>virginica</td>\n",
       "    </tr>\n",
       "    <tr>\n",
       "      <td>139</td>\n",
       "      <td>6.9</td>\n",
       "      <td>3.1</td>\n",
       "      <td>5.4</td>\n",
       "      <td>2.1</td>\n",
       "      <td>virginica</td>\n",
       "    </tr>\n",
       "    <tr>\n",
       "      <td>140</td>\n",
       "      <td>6.7</td>\n",
       "      <td>3.1</td>\n",
       "      <td>5.6</td>\n",
       "      <td>2.4</td>\n",
       "      <td>virginica</td>\n",
       "    </tr>\n",
       "    <tr>\n",
       "      <td>141</td>\n",
       "      <td>6.9</td>\n",
       "      <td>3.1</td>\n",
       "      <td>5.1</td>\n",
       "      <td>2.3</td>\n",
       "      <td>virginica</td>\n",
       "    </tr>\n",
       "    <tr>\n",
       "      <td>142</td>\n",
       "      <td>5.8</td>\n",
       "      <td>2.7</td>\n",
       "      <td>5.1</td>\n",
       "      <td>1.9</td>\n",
       "      <td>virginica</td>\n",
       "    </tr>\n",
       "    <tr>\n",
       "      <td>143</td>\n",
       "      <td>6.8</td>\n",
       "      <td>3.2</td>\n",
       "      <td>5.9</td>\n",
       "      <td>2.3</td>\n",
       "      <td>virginica</td>\n",
       "    </tr>\n",
       "    <tr>\n",
       "      <td>144</td>\n",
       "      <td>6.7</td>\n",
       "      <td>3.3</td>\n",
       "      <td>5.7</td>\n",
       "      <td>2.5</td>\n",
       "      <td>virginica</td>\n",
       "    </tr>\n",
       "    <tr>\n",
       "      <td>145</td>\n",
       "      <td>6.7</td>\n",
       "      <td>3.0</td>\n",
       "      <td>5.2</td>\n",
       "      <td>2.3</td>\n",
       "      <td>virginica</td>\n",
       "    </tr>\n",
       "    <tr>\n",
       "      <td>146</td>\n",
       "      <td>6.3</td>\n",
       "      <td>2.5</td>\n",
       "      <td>5.0</td>\n",
       "      <td>1.9</td>\n",
       "      <td>virginica</td>\n",
       "    </tr>\n",
       "    <tr>\n",
       "      <td>147</td>\n",
       "      <td>6.5</td>\n",
       "      <td>3.0</td>\n",
       "      <td>5.2</td>\n",
       "      <td>2.0</td>\n",
       "      <td>virginica</td>\n",
       "    </tr>\n",
       "    <tr>\n",
       "      <td>148</td>\n",
       "      <td>6.2</td>\n",
       "      <td>3.4</td>\n",
       "      <td>5.4</td>\n",
       "      <td>2.3</td>\n",
       "      <td>virginica</td>\n",
       "    </tr>\n",
       "    <tr>\n",
       "      <td>149</td>\n",
       "      <td>5.9</td>\n",
       "      <td>3.0</td>\n",
       "      <td>5.1</td>\n",
       "      <td>1.8</td>\n",
       "      <td>virginica</td>\n",
       "    </tr>\n",
       "  </tbody>\n",
       "</table>\n",
       "</div>"
      ],
      "text/plain": [
       "     Sepal.Length  Sepal.Width  Petal.Length  Petal.Width    Species\n",
       "100           6.3          3.3           6.0          2.5  virginica\n",
       "101           5.8          2.7           5.1          1.9  virginica\n",
       "102           7.1          3.0           5.9          2.1  virginica\n",
       "103           6.3          2.9           5.6          1.8  virginica\n",
       "104           6.5          3.0           5.8          2.2  virginica\n",
       "105           7.6          3.0           6.6          2.1  virginica\n",
       "106           4.9          2.5           4.5          1.7  virginica\n",
       "107           7.3          2.9           6.3          1.8  virginica\n",
       "108           6.7          2.5           5.8          1.8  virginica\n",
       "109           7.2          3.6           6.1          2.5  virginica\n",
       "110           6.5          3.2           5.1          2.0  virginica\n",
       "111           6.4          2.7           5.3          1.9  virginica\n",
       "112           6.8          3.0           5.5          2.1  virginica\n",
       "113           5.7          2.5           5.0          2.0  virginica\n",
       "114           5.8          2.8           5.1          2.4  virginica\n",
       "115           6.4          3.2           5.3          2.3  virginica\n",
       "116           6.5          3.0           5.5          1.8  virginica\n",
       "117           7.7          3.8           6.7          2.2  virginica\n",
       "118           7.7          2.6           6.9          2.3  virginica\n",
       "119           6.0          2.2           5.0          1.5  virginica\n",
       "120           6.9          3.2           5.7          2.3  virginica\n",
       "121           5.6          2.8           4.9          2.0  virginica\n",
       "122           7.7          2.8           6.7          2.0  virginica\n",
       "123           6.3          2.7           4.9          1.8  virginica\n",
       "124           6.7          3.3           5.7          2.1  virginica\n",
       "125           7.2          3.2           6.0          1.8  virginica\n",
       "126           6.2          2.8           4.8          1.8  virginica\n",
       "127           6.1          3.0           4.9          1.8  virginica\n",
       "128           6.4          2.8           5.6          2.1  virginica\n",
       "129           7.2          3.0           5.8          1.6  virginica\n",
       "130           7.4          2.8           6.1          1.9  virginica\n",
       "131           7.9          3.8           6.4          2.0  virginica\n",
       "132           6.4          2.8           5.6          2.2  virginica\n",
       "133           6.3          2.8           5.1          1.5  virginica\n",
       "134           6.1          2.6           5.6          1.4  virginica\n",
       "135           7.7          3.0           6.1          2.3  virginica\n",
       "136           6.3          3.4           5.6          2.4  virginica\n",
       "137           6.4          3.1           5.5          1.8  virginica\n",
       "138           6.0          3.0           4.8          1.8  virginica\n",
       "139           6.9          3.1           5.4          2.1  virginica\n",
       "140           6.7          3.1           5.6          2.4  virginica\n",
       "141           6.9          3.1           5.1          2.3  virginica\n",
       "142           5.8          2.7           5.1          1.9  virginica\n",
       "143           6.8          3.2           5.9          2.3  virginica\n",
       "144           6.7          3.3           5.7          2.5  virginica\n",
       "145           6.7          3.0           5.2          2.3  virginica\n",
       "146           6.3          2.5           5.0          1.9  virginica\n",
       "147           6.5          3.0           5.2          2.0  virginica\n",
       "148           6.2          3.4           5.4          2.3  virginica\n",
       "149           5.9          3.0           5.1          1.8  virginica"
      ]
     },
     "execution_count": 38,
     "metadata": {},
     "output_type": "execute_result"
    }
   ],
   "source": [
    "# only print out data frame where the species is virginica\n",
    "iris_virginica = iris[iris[\"Species\"] == \"virginica\"]\n",
    "iris_virginica\n",
    "\n"
   ]
  },
  {
   "cell_type": "markdown",
   "metadata": {},
   "source": [
    "There is a whole plethora of things you can do with pandas dataframes. For more details on them see [this link](https://towardsdatascience.com/pandas-dataframe-a-lightweight-intro-680e3a212b96) or just search <i>pandas dataframes</i> online."
   ]
  },
  {
   "cell_type": "markdown",
   "metadata": {},
   "source": [
    "# Plotting Data"
   ]
  },
  {
   "cell_type": "code",
   "execution_count": 43,
   "metadata": {},
   "outputs": [],
   "source": [
    "import matplotlib.pyplot as plt  #to plot data, one would need to import a plotting package. matplotlib.pyplot is my favorite"
   ]
  },
  {
   "cell_type": "code",
   "execution_count": 52,
   "metadata": {},
   "outputs": [
    {
     "data": {
      "image/png": "[encoded data removed]",
      "text/plain": [
       "<Figure size 432x288 with 1 Axes>"
      ]
     },
     "metadata": {
      "needs_background": "light"
     },
     "output_type": "display_data"
    }
   ],
   "source": [
    "x = np.linspace(-5, 5, 100) # the x-axis goes from -5 to 5, and split it into 100 equal increments/observations\n",
    "y = 0.5*x**2                # the function to plot\n",
    "plt.plot(x, y)    #plot the data\n",
    "plt.xlabel(\"X-Axis\", fontsize=14)   #add a label to the x axis\n",
    "plt.ylabel(\"Y-Axis\", fontsize=14)    #add a label to the y axis\n",
    "plt.title(\"Python Plot\", fontsize=16)   #add a plot title\n",
    "plt.show()    #Show us the full plot"
   ]
  },
  {
   "cell_type": "code",
   "execution_count": 53,
   "metadata": {},
   "outputs": [
    {
     "data": {
      "image/png": "[encoded data removed]",
      "text/plain": [
       "<Figure size 432x288 with 1 Axes>"
      ]
     },
     "metadata": {
      "needs_background": "light"
     },
     "output_type": "display_data"
    }
   ],
   "source": [
    "randomx = np.random.normal(2, 1, 1000)    #does the same thing as 'rnorm(1000, 2, 1)' in R\n",
    "randomx2 = np.random.uniform(4, 0, 1000)   #same as 'runif(1000, 0, 4)' in R\n",
    "plt.hist(randomx, color='blue')       #plot the histogram of a single variable\n",
    "plt.hist(randomx2, color='red', histtype=u'step', lw=3)      #plot another histogram on top of the first but don't fill in bins\n",
    "plt.show()"
   ]
  },
  {
   "cell_type": "code",
   "execution_count": 61,
   "metadata": {},
   "outputs": [],
   "source": [
    "%matplotlib notebook"
   ]
  },
  {
   "cell_type": "code",
   "execution_count": 63,
   "metadata": {},
   "outputs": [
    {
     "data": {
      "application/javascript": [
       "/* Put everything inside the global mpl namespace */\n",
       "window.mpl = {};\n",
       "\n",
       "\n",
       "mpl.get_websocket_type = function() {\n",
       "    if (typeof(WebSocket) !== 'undefined') {\n",
       "        return WebSocket;\n",
       "    } else if (typeof(MozWebSocket) !== 'undefined') {\n",
       "        return MozWebSocket;\n",
       "    } else {\n",
       "        alert('Your browser does not have WebSocket support. ' +\n",
       "              'Please try Chrome, Safari or Firefox ≥ 6. ' +\n",
       "              'Firefox 4 and 5 are also supported but you ' +\n",
       "              'have to enable WebSockets in about:config.');\n",
       "    };\n",
       "}\n",
       "\n",
       "mpl.figure = function(figure_id, websocket, ondownload, parent_element) {\n",
       "    this.id = figure_id;\n",
       "\n",
       "    this.ws = websocket;\n",
       "\n",
       "    this.supports_binary = (this.ws.binaryType != undefined);\n",
       "\n",
       "    if (!this.supports_binary) {\n",
       "        var warnings = document.getElementById(\"mpl-warnings\");\n",
       "        if (warnings) {\n",
       "            warnings.style.display = 'block';\n",
       "            warnings.textContent = (\n",
       "                \"This browser does not support binary websocket messages. \" +\n",
       "                    \"Performance may be slow.\");\n",
       "        }\n",
       "    }\n",
       "\n",
       "    this.imageObj = new Image();\n",
       "\n",
       "    this.context = undefined;\n",
       "    this.message = undefined;\n",
       "    this.canvas = undefined;\n",
       "    this.rubberband_canvas = undefined;\n",
       "    this.rubberband_context = undefined;\n",
       "    this.format_dropdown = undefined;\n",
       "\n",
       "    this.image_mode = 'full';\n",
       "\n",
       "    this.root = $('<div/>');\n",
       "    this._root_extra_style(this.root)\n",
       "    this.root.attr('style', 'display: inline-block');\n",
       "\n",
       "    $(parent_element).append(this.root);\n",
       "\n",
       "    this._init_header(this);\n",
       "    this._init_canvas(this);\n",
       "    this._init_toolbar(this);\n",
       "\n",
       "    var fig = this;\n",
       "\n",
       "    this.waiting = false;\n",
       "\n",
       "    this.ws.onopen =  function () {\n",
       "            fig.send_message(\"supports_binary\", {value: fig.supports_binary});\n",
       "            fig.send_message(\"send_image_mode\", {});\n",
       "            if (mpl.ratio != 1) {\n",
       "                fig.send_message(\"set_dpi_ratio\", {'dpi_ratio': mpl.ratio});\n",
       "            }\n",
       "            fig.send_message(\"refresh\", {});\n",
       "        }\n",
       "\n",
       "    this.imageObj.onload = function() {\n",
       "            if (fig.image_mode == 'full') {\n",
       "                // Full images could contain transparency (where diff images\n",
       "                // almost always do), so we need to clear the canvas so that\n",
       "                // there is no ghosting.\n",
       "                fig.context.clearRect(0, 0, fig.canvas.width, fig.canvas.height);\n",
       "            }\n",
       "            fig.context.drawImage(fig.imageObj, 0, 0);\n",
       "        };\n",
       "\n",
       "    this.imageObj.onunload = function() {\n",
       "        fig.ws.close();\n",
       "    }\n",
       "\n",
       "    this.ws.onmessage = this._make_on_message_function(this);\n",
       "\n",
       "    this.ondownload = ondownload;\n",
       "}\n",
       "\n",
       "mpl.figure.prototype._init_header = function() {\n",
       "    var titlebar = $(\n",
       "        '<div class=\"ui-dialog-titlebar ui-widget-header ui-corner-all ' +\n",
       "        'ui-helper-clearfix\"/>');\n",
       "    var titletext = $(\n",
       "        '<div class=\"ui-dialog-title\" style=\"width: 100%; ' +\n",
       "        'text-align: center; padding: 3px;\"/>');\n",
       "    titlebar.append(titletext)\n",
       "    this.root.append(titlebar);\n",
       "    this.header = titletext[0];\n",
       "}\n",
       "\n",
       "\n",
       "\n",
       "mpl.figure.prototype._canvas_extra_style = function(canvas_div) {\n",
       "\n",
       "}\n",
       "\n",
       "\n",
       "mpl.figure.prototype._root_extra_style = function(canvas_div) {\n",
       "\n",
       "}\n",
       "\n",
       "mpl.figure.prototype._init_canvas = function() {\n",
       "    var fig = this;\n",
       "\n",
       "    var canvas_div = $('<div/>');\n",
       "\n",
       "    canvas_div.attr('style', 'position: relative; clear: both; outline: 0');\n",
       "\n",
       "    function canvas_keyboard_event(event) {\n",
       "        return fig.key_event(event, event['data']);\n",
       "    }\n",
       "\n",
       "    canvas_div.keydown('key_press', canvas_keyboard_event);\n",
       "    canvas_div.keyup('key_release', canvas_keyboard_event);\n",
       "    this.canvas_div = canvas_div\n",
       "    this._canvas_extra_style(canvas_div)\n",
       "    this.root.append(canvas_div);\n",
       "\n",
       "    var canvas = $('<canvas/>');\n",
       "    canvas.addClass('mpl-canvas');\n",
       "    canvas.attr('style', \"left: 0; top: 0; z-index: 0; outline: 0\")\n",
       "\n",
       "    this.canvas = canvas[0];\n",
       "    this.context = canvas[0].getContext(\"2d\");\n",
       "\n",
       "    var backingStore = this.context.backingStorePixelRatio ||\n",
       "\tthis.context.webkitBackingStorePixelRatio ||\n",
       "\tthis.context.mozBackingStorePixelRatio ||\n",
       "\tthis.context.msBackingStorePixelRatio ||\n",
       "\tthis.context.oBackingStorePixelRatio ||\n",
       "\tthis.context.backingStorePixelRatio || 1;\n",
       "\n",
       "    mpl.ratio = (window.devicePixelRatio || 1) / backingStore;\n",
       "\n",
       "    var rubberband = $('<canvas/>');\n",
       "    rubberband.attr('style', \"position: absolute; left: 0; top: 0; z-index: 1;\")\n",
       "\n",
       "    var pass_mouse_events = true;\n",
       "\n",
       "    canvas_div.resizable({\n",
       "        start: function(event, ui) {\n",
       "            pass_mouse_events = false;\n",
       "        },\n",
       "        resize: function(event, ui) {\n",
       "            fig.request_resize(ui.size.width, ui.size.height);\n",
       "        },\n",
       "        stop: function(event, ui) {\n",
       "            pass_mouse_events = true;\n",
       "            fig.request_resize(ui.size.width, ui.size.height);\n",
       "        },\n",
       "    });\n",
       "\n",
       "    function mouse_event_fn(event) {\n",
       "        if (pass_mouse_events)\n",
       "            return fig.mouse_event(event, event['data']);\n",
       "    }\n",
       "\n",
       "    rubberband.mousedown('button_press', mouse_event_fn);\n",
       "    rubberband.mouseup('button_release', mouse_event_fn);\n",
       "    // Throttle sequential mouse events to 1 every 20ms.\n",
       "    rubberband.mousemove('motion_notify', mouse_event_fn);\n",
       "\n",
       "    rubberband.mouseenter('figure_enter', mouse_event_fn);\n",
       "    rubberband.mouseleave('figure_leave', mouse_event_fn);\n",
       "\n",
       "    canvas_div.on(\"wheel\", function (event) {\n",
       "        event = event.originalEvent;\n",
       "        event['data'] = 'scroll'\n",
       "        if (event.deltaY < 0) {\n",
       "            event.step = 1;\n",
       "        } else {\n",
       "            event.step = -1;\n",
       "        }\n",
       "        mouse_event_fn(event);\n",
       "    });\n",
       "\n",
       "    canvas_div.append(canvas);\n",
       "    canvas_div.append(rubberband);\n",
       "\n",
       "    this.rubberband = rubberband;\n",
       "    this.rubberband_canvas = rubberband[0];\n",
       "    this.rubberband_context = rubberband[0].getContext(\"2d\");\n",
       "    this.rubberband_context.strokeStyle = \"#000000\";\n",
       "\n",
       "    this._resize_canvas = function(width, height) {\n",
       "        // Keep the size of the canvas, canvas container, and rubber band\n",
       "        // canvas in synch.\n",
       "        canvas_div.css('width', width)\n",
       "        canvas_div.css('height', height)\n",
       "\n",
       "        canvas.attr('width', width * mpl.ratio);\n",
       "        canvas.attr('height', height * mpl.ratio);\n",
       "        canvas.attr('style', 'width: ' + width + 'px; height: ' + height + 'px;');\n",
       "\n",
       "        rubberband.attr('width', width);\n",
       "        rubberband.attr('height', height);\n",
       "    }\n",
       "\n",
       "    // Set the figure to an initial 600x600px, this will subsequently be updated\n",
       "    // upon first draw.\n",
       "    this._resize_canvas(600, 600);\n",
       "\n",
       "    // Disable right mouse context menu.\n",
       "    $(this.rubberband_canvas).bind(\"contextmenu\",function(e){\n",
       "        return false;\n",
       "    });\n",
       "\n",
       "    function set_focus () {\n",
       "        canvas.focus();\n",
       "        canvas_div.focus();\n",
       "    }\n",
       "\n",
       "    window.setTimeout(set_focus, 100);\n",
       "}\n",
       "\n",
       "mpl.figure.prototype._init_toolbar = function() {\n",
       "    var fig = this;\n",
       "\n",
       "    var nav_element = $('<div/>');\n",
       "    nav_element.attr('style', 'width: 100%');\n",
       "    this.root.append(nav_element);\n",
       "\n",
       "    // Define a callback function for later on.\n",
       "    function toolbar_event(event) {\n",
       "        return fig.toolbar_button_onclick(event['data']);\n",
       "    }\n",
       "    function toolbar_mouse_event(event) {\n",
       "        return fig.toolbar_button_onmouseover(event['data']);\n",
       "    }\n",
       "\n",
       "    for(var toolbar_ind in mpl.toolbar_items) {\n",
       "        var name = mpl.toolbar_items[toolbar_ind][0];\n",
       "        var tooltip = mpl.toolbar_items[toolbar_ind][1];\n",
       "        var image = mpl.toolbar_items[toolbar_ind][2];\n",
       "        var method_name = mpl.toolbar_items[toolbar_ind][3];\n",
       "\n",
       "        if (!name) {\n",
       "            // put a spacer in here.\n",
       "            continue;\n",
       "        }\n",
       "        var button = $('<button/>');\n",
       "        button.addClass('ui-button ui-widget ui-state-default ui-corner-all ' +\n",
       "                        'ui-button-icon-only');\n",
       "        button.attr('role', 'button');\n",
       "        button.attr('aria-disabled', 'false');\n",
       "        button.click(method_name, toolbar_event);\n",
       "        button.mouseover(tooltip, toolbar_mouse_event);\n",
       "\n",
       "        var icon_img = $('<span/>');\n",
       "        icon_img.addClass('ui-button-icon-primary ui-icon');\n",
       "        icon_img.addClass(image);\n",
       "        icon_img.addClass('ui-corner-all');\n",
       "\n",
       "        var tooltip_span = $('<span/>');\n",
       "        tooltip_span.addClass('ui-button-text');\n",
       "        tooltip_span.html(tooltip);\n",
       "\n",
       "        button.append(icon_img);\n",
       "        button.append(tooltip_span);\n",
       "\n",
       "        nav_element.append(button);\n",
       "    }\n",
       "\n",
       "    var fmt_picker_span = $('<span/>');\n",
       "\n",
       "    var fmt_picker = $('<select/>');\n",
       "    fmt_picker.addClass('mpl-toolbar-option ui-widget ui-widget-content');\n",
       "    fmt_picker_span.append(fmt_picker);\n",
       "    nav_element.append(fmt_picker_span);\n",
       "    this.format_dropdown = fmt_picker[0];\n",
       "\n",
       "    for (var ind in mpl.extensions) {\n",
       "        var fmt = mpl.extensions[ind];\n",
       "        var option = $(\n",
       "            '<option/>', {selected: fmt === mpl.default_extension}).html(fmt);\n",
       "        fmt_picker.append(option);\n",
       "    }\n",
       "\n",
       "    // Add hover states to the ui-buttons\n",
       "    $( \".ui-button\" ).hover(\n",
       "        function() { $(this).addClass(\"ui-state-hover\");},\n",
       "        function() { $(this).removeClass(\"ui-state-hover\");}\n",
       "    );\n",
       "\n",
       "    var status_bar = $('<span class=\"mpl-message\"/>');\n",
       "    nav_element.append(status_bar);\n",
       "    this.message = status_bar[0];\n",
       "}\n",
       "\n",
       "mpl.figure.prototype.request_resize = function(x_pixels, y_pixels) {\n",
       "    // Request matplotlib to resize the figure. Matplotlib will then trigger a resize in the client,\n",
       "    // which will in turn request a refresh of the image.\n",
       "    this.send_message('resize', {'width': x_pixels, 'height': y_pixels});\n",
       "}\n",
       "\n",
       "mpl.figure.prototype.send_message = function(type, properties) {\n",
       "    properties['type'] = type;\n",
       "    properties['figure_id'] = this.id;\n",
       "    this.ws.send(JSON.stringify(properties));\n",
       "}\n",
       "\n",
       "mpl.figure.prototype.send_draw_message = function() {\n",
       "    if (!this.waiting) {\n",
       "        this.waiting = true;\n",
       "        this.ws.send(JSON.stringify({type: \"draw\", figure_id: this.id}));\n",
       "    }\n",
       "}\n",
       "\n",
       "\n",
       "mpl.figure.prototype.handle_save = function(fig, msg) {\n",
       "    var format_dropdown = fig.format_dropdown;\n",
       "    var format = format_dropdown.options[format_dropdown.selectedIndex].value;\n",
       "    fig.ondownload(fig, format);\n",
       "}\n",
       "\n",
       "\n",
       "mpl.figure.prototype.handle_resize = function(fig, msg) {\n",
       "    var size = msg['size'];\n",
       "    if (size[0] != fig.canvas.width || size[1] != fig.canvas.height) {\n",
       "        fig._resize_canvas(size[0], size[1]);\n",
       "        fig.send_message(\"refresh\", {});\n",
       "    };\n",
       "}\n",
       "\n",
       "mpl.figure.prototype.handle_rubberband = function(fig, msg) {\n",
       "    var x0 = msg['x0'] / mpl.ratio;\n",
       "    var y0 = (fig.canvas.height - msg['y0']) / mpl.ratio;\n",
       "    var x1 = msg['x1'] / mpl.ratio;\n",
       "    var y1 = (fig.canvas.height - msg['y1']) / mpl.ratio;\n",
       "    x0 = Math.floor(x0) + 0.5;\n",
       "    y0 = Math.floor(y0) + 0.5;\n",
       "    x1 = Math.floor(x1) + 0.5;\n",
       "    y1 = Math.floor(y1) + 0.5;\n",
       "    var min_x = Math.min(x0, x1);\n",
       "    var min_y = Math.min(y0, y1);\n",
       "    var width = Math.abs(x1 - x0);\n",
       "    var height = Math.abs(y1 - y0);\n",
       "\n",
       "    fig.rubberband_context.clearRect(\n",
       "        0, 0, fig.canvas.width / mpl.ratio, fig.canvas.height / mpl.ratio);\n",
       "\n",
       "    fig.rubberband_context.strokeRect(min_x, min_y, width, height);\n",
       "}\n",
       "\n",
       "mpl.figure.prototype.handle_figure_label = function(fig, msg) {\n",
       "    // Updates the figure title.\n",
       "    fig.header.textContent = msg['label'];\n",
       "}\n",
       "\n",
       "mpl.figure.prototype.handle_cursor = function(fig, msg) {\n",
       "    var cursor = msg['cursor'];\n",
       "    switch(cursor)\n",
       "    {\n",
       "    case 0:\n",
       "        cursor = 'pointer';\n",
       "        break;\n",
       "    case 1:\n",
       "        cursor = 'default';\n",
       "        break;\n",
       "    case 2:\n",
       "        cursor = 'crosshair';\n",
       "        break;\n",
       "    case 3:\n",
       "        cursor = 'move';\n",
       "        break;\n",
       "    }\n",
       "    fig.rubberband_canvas.style.cursor = cursor;\n",
       "}\n",
       "\n",
       "mpl.figure.prototype.handle_message = function(fig, msg) {\n",
       "    fig.message.textContent = msg['message'];\n",
       "}\n",
       "\n",
       "mpl.figure.prototype.handle_draw = function(fig, msg) {\n",
       "    // Request the server to send over a new figure.\n",
       "    fig.send_draw_message();\n",
       "}\n",
       "\n",
       "mpl.figure.prototype.handle_image_mode = function(fig, msg) {\n",
       "    fig.image_mode = msg['mode'];\n",
       "}\n",
       "\n",
       "mpl.figure.prototype.updated_canvas_event = function() {\n",
       "    // Called whenever the canvas gets updated.\n",
       "    this.send_message(\"ack\", {});\n",
       "}\n",
       "\n",
       "// A function to construct a web socket function for onmessage handling.\n",
       "// Called in the figure constructor.\n",
       "mpl.figure.prototype._make_on_message_function = function(fig) {\n",
       "    return function socket_on_message(evt) {\n",
       "        if (evt.data instanceof Blob) {\n",
       "            /* FIXME: We get \"Resource interpreted as Image but\n",
       "             * transferred with MIME type text/plain:\" errors on\n",
       "             * Chrome.  But how to set the MIME type?  It doesn't seem\n",
       "             * to be part of the websocket stream */\n",
       "            evt.data.type = \"image/png\";\n",
       "\n",
       "            /* Free the memory for the previous frames */\n",
       "            if (fig.imageObj.src) {\n",
       "                (window.URL || window.webkitURL).revokeObjectURL(\n",
       "                    fig.imageObj.src);\n",
       "            }\n",
       "\n",
       "            fig.imageObj.src = (window.URL || window.webkitURL).createObjectURL(\n",
       "                evt.data);\n",
       "            fig.updated_canvas_event();\n",
       "            fig.waiting = false;\n",
       "            return;\n",
       "        }\n",
       "        else if (typeof evt.data === 'string' && evt.data.slice(0, 21) == \"data:image/png;base64\") {\n",
       "            fig.imageObj.src = evt.data;\n",
       "            fig.updated_canvas_event();\n",
       "            fig.waiting = false;\n",
       "            return;\n",
       "        }\n",
       "\n",
       "        var msg = JSON.parse(evt.data);\n",
       "        var msg_type = msg['type'];\n",
       "\n",
       "        // Call the  \"handle_{type}\" callback, which takes\n",
       "        // the figure and JSON message as its only arguments.\n",
       "        try {\n",
       "            var callback = fig[\"handle_\" + msg_type];\n",
       "        } catch (e) {\n",
       "            console.log(\"No handler for the '\" + msg_type + \"' message type: \", msg);\n",
       "            return;\n",
       "        }\n",
       "\n",
       "        if (callback) {\n",
       "            try {\n",
       "                // console.log(\"Handling '\" + msg_type + \"' message: \", msg);\n",
       "                callback(fig, msg);\n",
       "            } catch (e) {\n",
       "                console.log(\"Exception inside the 'handler_\" + msg_type + \"' callback:\", e, e.stack, msg);\n",
       "            }\n",
       "        }\n",
       "    };\n",
       "}\n",
       "\n",
       "// from http://stackoverflow.com/questions/1114465/getting-mouse-location-in-canvas\n",
       "mpl.findpos = function(e) {\n",
       "    //this section is from http://www.quirksmode.org/js/events_properties.html\n",
       "    var targ;\n",
       "    if (!e)\n",
       "        e = window.event;\n",
       "    if (e.target)\n",
       "        targ = e.target;\n",
       "    else if (e.srcElement)\n",
       "        targ = e.srcElement;\n",
       "    if (targ.nodeType == 3) // defeat Safari bug\n",
       "        targ = targ.parentNode;\n",
       "\n",
       "    // jQuery normalizes the pageX and pageY\n",
       "    // pageX,Y are the mouse positions relative to the document\n",
       "    // offset() returns the position of the element relative to the document\n",
       "    var x = e.pageX - $(targ).offset().left;\n",
       "    var y = e.pageY - $(targ).offset().top;\n",
       "\n",
       "    return {\"x\": x, \"y\": y};\n",
       "};\n",
       "\n",
       "/*\n",
       " * return a copy of an object with only non-object keys\n",
       " * we need this to avoid circular references\n",
       " * http://stackoverflow.com/a/24161582/3208463\n",
       " */\n",
       "function simpleKeys (original) {\n",
       "  return Object.keys(original).reduce(function (obj, key) {\n",
       "    if (typeof original[key] !== 'object')\n",
       "        obj[key] = original[key]\n",
       "    return obj;\n",
       "  }, {});\n",
       "}\n",
       "\n",
       "mpl.figure.prototype.mouse_event = function(event, name) {\n",
       "    var canvas_pos = mpl.findpos(event)\n",
       "\n",
       "    if (name === 'button_press')\n",
       "    {\n",
       "        this.canvas.focus();\n",
       "        this.canvas_div.focus();\n",
       "    }\n",
       "\n",
       "    var x = canvas_pos.x * mpl.ratio;\n",
       "    var y = canvas_pos.y * mpl.ratio;\n",
       "\n",
       "    this.send_message(name, {x: x, y: y, button: event.button,\n",
       "                             step: event.step,\n",
       "                             guiEvent: simpleKeys(event)});\n",
       "\n",
       "    /* This prevents the web browser from automatically changing to\n",
       "     * the text insertion cursor when the button is pressed.  We want\n",
       "     * to control all of the cursor setting manually through the\n",
       "     * 'cursor' event from matplotlib */\n",
       "    event.preventDefault();\n",
       "    return false;\n",
       "}\n",
       "\n",
       "mpl.figure.prototype._key_event_extra = function(event, name) {\n",
       "    // Handle any extra behaviour associated with a key event\n",
       "}\n",
       "\n",
       "mpl.figure.prototype.key_event = function(event, name) {\n",
       "\n",
       "    // Prevent repeat events\n",
       "    if (name == 'key_press')\n",
       "    {\n",
       "        if (event.which === this._key)\n",
       "            return;\n",
       "        else\n",
       "            this._key = event.which;\n",
       "    }\n",
       "    if (name == 'key_release')\n",
       "        this._key = null;\n",
       "\n",
       "    var value = '';\n",
       "    if (event.ctrlKey && event.which != 17)\n",
       "        value += \"ctrl+\";\n",
       "    if (event.altKey && event.which != 18)\n",
       "        value += \"alt+\";\n",
       "    if (event.shiftKey && event.which != 16)\n",
       "        value += \"shift+\";\n",
       "\n",
       "    value += 'k';\n",
       "    value += event.which.toString();\n",
       "\n",
       "    this._key_event_extra(event, name);\n",
       "\n",
       "    this.send_message(name, {key: value,\n",
       "                             guiEvent: simpleKeys(event)});\n",
       "    return false;\n",
       "}\n",
       "\n",
       "mpl.figure.prototype.toolbar_button_onclick = function(name) {\n",
       "    if (name == 'download') {\n",
       "        this.handle_save(this, null);\n",
       "    } else {\n",
       "        this.send_message(\"toolbar_button\", {name: name});\n",
       "    }\n",
       "};\n",
       "\n",
       "mpl.figure.prototype.toolbar_button_onmouseover = function(tooltip) {\n",
       "    this.message.textContent = tooltip;\n",
       "};\n",
       "mpl.toolbar_items = [[\"Home\", \"Reset original view\", \"fa fa-home icon-home\", \"home\"], [\"Back\", \"Back to previous view\", \"fa fa-arrow-left icon-arrow-left\", \"back\"], [\"Forward\", \"Forward to next view\", \"fa fa-arrow-right icon-arrow-right\", \"forward\"], [\"\", \"\", \"\", \"\"], [\"Pan\", \"Pan axes with left mouse, zoom with right\", \"fa fa-arrows icon-move\", \"pan\"], [\"Zoom\", \"Zoom to rectangle\", \"fa fa-square-o icon-check-empty\", \"zoom\"], [\"\", \"\", \"\", \"\"], [\"Download\", \"Download plot\", \"fa fa-floppy-o icon-save\", \"download\"]];\n",
       "\n",
       "mpl.extensions = [\"eps\", \"pdf\", \"png\", \"ps\", \"raw\", \"svg\"];\n",
       "\n",
       "mpl.default_extension = \"png\";var comm_websocket_adapter = function(comm) {\n",
       "    // Create a \"websocket\"-like object which calls the given IPython comm\n",
       "    // object with the appropriate methods. Currently this is a non binary\n",
       "    // socket, so there is still some room for performance tuning.\n",
       "    var ws = {};\n",
       "\n",
       "    ws.close = function() {\n",
       "        comm.close()\n",
       "    };\n",
       "    ws.send = function(m) {\n",
       "        //console.log('sending', m);\n",
       "        comm.send(m);\n",
       "    };\n",
       "    // Register the callback with on_msg.\n",
       "    comm.on_msg(function(msg) {\n",
       "        //console.log('receiving', msg['content']['data'], msg);\n",
       "        // Pass the mpl event to the overridden (by mpl) onmessage function.\n",
       "        ws.onmessage(msg['content']['data'])\n",
       "    });\n",
       "    return ws;\n",
       "}\n",
       "\n",
       "mpl.mpl_figure_comm = function(comm, msg) {\n",
       "    // This is the function which gets called when the mpl process\n",
       "    // starts-up an IPython Comm through the \"matplotlib\" channel.\n",
       "\n",
       "    var id = msg.content.data.id;\n",
       "    // Get hold of the div created by the display call when the Comm\n",
       "    // socket was opened in Python.\n",
       "    var element = $(\"#\" + id);\n",
       "    var ws_proxy = comm_websocket_adapter(comm)\n",
       "\n",
       "    function ondownload(figure, format) {\n",
       "        window.open(figure.imageObj.src);\n",
       "    }\n",
       "\n",
       "    var fig = new mpl.figure(id, ws_proxy,\n",
       "                           ondownload,\n",
       "                           element.get(0));\n",
       "\n",
       "    // Call onopen now - mpl needs it, as it is assuming we've passed it a real\n",
       "    // web socket which is closed, not our websocket->open comm proxy.\n",
       "    ws_proxy.onopen();\n",
       "\n",
       "    fig.parent_element = element.get(0);\n",
       "    fig.cell_info = mpl.find_output_cell(\"<div id='\" + id + \"'></div>\");\n",
       "    if (!fig.cell_info) {\n",
       "        console.error(\"Failed to find cell for figure\", id, fig);\n",
       "        return;\n",
       "    }\n",
       "\n",
       "    var output_index = fig.cell_info[2]\n",
       "    var cell = fig.cell_info[0];\n",
       "\n",
       "};\n",
       "\n",
       "mpl.figure.prototype.handle_close = function(fig, msg) {\n",
       "    var width = fig.canvas.width/mpl.ratio\n",
       "    fig.root.unbind('remove')\n",
       "\n",
       "    // Update the output cell to use the data from the current canvas.\n",
       "    fig.push_to_output();\n",
       "    var dataURL = fig.canvas.toDataURL();\n",
       "    // Re-enable the keyboard manager in IPython - without this line, in FF,\n",
       "    // the notebook keyboard shortcuts fail.\n",
       "    IPython.keyboard_manager.enable()\n",
       "    $(fig.parent_element).html('<img src=\"' + dataURL + '\" width=\"' + width + '\">');\n",
       "    fig.close_ws(fig, msg);\n",
       "}\n",
       "\n",
       "mpl.figure.prototype.close_ws = function(fig, msg){\n",
       "    fig.send_message('closing', msg);\n",
       "    // fig.ws.close()\n",
       "}\n",
       "\n",
       "mpl.figure.prototype.push_to_output = function(remove_interactive) {\n",
       "    // Turn the data on the canvas into data in the output cell.\n",
       "    var width = this.canvas.width/mpl.ratio\n",
       "    var dataURL = this.canvas.toDataURL();\n",
       "    this.cell_info[1]['text/html'] = '<img src=\"' + dataURL + '\" width=\"' + width + '\">';\n",
       "}\n",
       "\n",
       "mpl.figure.prototype.updated_canvas_event = function() {\n",
       "    // Tell IPython that the notebook contents must change.\n",
       "    IPython.notebook.set_dirty(true);\n",
       "    this.send_message(\"ack\", {});\n",
       "    var fig = this;\n",
       "    // Wait a second, then push the new image to the DOM so\n",
       "    // that it is saved nicely (might be nice to debounce this).\n",
       "    setTimeout(function () { fig.push_to_output() }, 1000);\n",
       "}\n",
       "\n",
       "mpl.figure.prototype._init_toolbar = function() {\n",
       "    var fig = this;\n",
       "\n",
       "    var nav_element = $('<div/>');\n",
       "    nav_element.attr('style', 'width: 100%');\n",
       "    this.root.append(nav_element);\n",
       "\n",
       "    // Define a callback function for later on.\n",
       "    function toolbar_event(event) {\n",
       "        return fig.toolbar_button_onclick(event['data']);\n",
       "    }\n",
       "    function toolbar_mouse_event(event) {\n",
       "        return fig.toolbar_button_onmouseover(event['data']);\n",
       "    }\n",
       "\n",
       "    for(var toolbar_ind in mpl.toolbar_items){\n",
       "        var name = mpl.toolbar_items[toolbar_ind][0];\n",
       "        var tooltip = mpl.toolbar_items[toolbar_ind][1];\n",
       "        var image = mpl.toolbar_items[toolbar_ind][2];\n",
       "        var method_name = mpl.toolbar_items[toolbar_ind][3];\n",
       "\n",
       "        if (!name) { continue; };\n",
       "\n",
       "        var button = $('<button class=\"btn btn-default\" href=\"#\" title=\"' + name + '\"><i class=\"fa ' + image + ' fa-lg\"></i></button>');\n",
       "        button.click(method_name, toolbar_event);\n",
       "        button.mouseover(tooltip, toolbar_mouse_event);\n",
       "        nav_element.append(button);\n",
       "    }\n",
       "\n",
       "    // Add the status bar.\n",
       "    var status_bar = $('<span class=\"mpl-message\" style=\"text-align:right; float: right;\"/>');\n",
       "    nav_element.append(status_bar);\n",
       "    this.message = status_bar[0];\n",
       "\n",
       "    // Add the close button to the window.\n",
       "    var buttongrp = $('<div class=\"btn-group inline pull-right\"></div>');\n",
       "    var button = $('<button class=\"btn btn-mini btn-primary\" href=\"#\" title=\"Stop Interaction\"><i class=\"fa fa-power-off icon-remove icon-large\"></i></button>');\n",
       "    button.click(function (evt) { fig.handle_close(fig, {}); } );\n",
       "    button.mouseover('Stop Interaction', toolbar_mouse_event);\n",
       "    buttongrp.append(button);\n",
       "    var titlebar = this.root.find($('.ui-dialog-titlebar'));\n",
       "    titlebar.prepend(buttongrp);\n",
       "}\n",
       "\n",
       "mpl.figure.prototype._root_extra_style = function(el){\n",
       "    var fig = this\n",
       "    el.on(\"remove\", function(){\n",
       "\tfig.close_ws(fig, {});\n",
       "    });\n",
       "}\n",
       "\n",
       "mpl.figure.prototype._canvas_extra_style = function(el){\n",
       "    // this is important to make the div 'focusable\n",
       "    el.attr('tabindex', 0)\n",
       "    // reach out to IPython and tell the keyboard manager to turn it's self\n",
       "    // off when our div gets focus\n",
       "\n",
       "    // location in version 3\n",
       "    if (IPython.notebook.keyboard_manager) {\n",
       "        IPython.notebook.keyboard_manager.register_events(el);\n",
       "    }\n",
       "    else {\n",
       "        // location in version 2\n",
       "        IPython.keyboard_manager.register_events(el);\n",
       "    }\n",
       "\n",
       "}\n",
       "\n",
       "mpl.figure.prototype._key_event_extra = function(event, name) {\n",
       "    var manager = IPython.notebook.keyboard_manager;\n",
       "    if (!manager)\n",
       "        manager = IPython.keyboard_manager;\n",
       "\n",
       "    // Check for shift+enter\n",
       "    if (event.shiftKey && event.which == 13) {\n",
       "        this.canvas_div.blur();\n",
       "        event.shiftKey = false;\n",
       "        // Send a \"J\" for go to next cell\n",
       "        event.which = 74;\n",
       "        event.keyCode = 74;\n",
       "        manager.command_mode();\n",
       "        manager.handle_keydown(event);\n",
       "    }\n",
       "}\n",
       "\n",
       "mpl.figure.prototype.handle_save = function(fig, msg) {\n",
       "    fig.ondownload(fig, null);\n",
       "}\n",
       "\n",
       "\n",
       "mpl.find_output_cell = function(html_output) {\n",
       "    // Return the cell and output element which can be found *uniquely* in the notebook.\n",
       "    // Note - this is a bit hacky, but it is done because the \"notebook_saving.Notebook\"\n",
       "    // IPython event is triggered only after the cells have been serialised, which for\n",
       "    // our purposes (turning an active figure into a static one), is too late.\n",
       "    var cells = IPython.notebook.get_cells();\n",
       "    var ncells = cells.length;\n",
       "    for (var i=0; i<ncells; i++) {\n",
       "        var cell = cells[i];\n",
       "        if (cell.cell_type === 'code'){\n",
       "            for (var j=0; j<cell.output_area.outputs.length; j++) {\n",
       "                var data = cell.output_area.outputs[j];\n",
       "                if (data.data) {\n",
       "                    // IPython >= 3 moved mimebundle to data attribute of output\n",
       "                    data = data.data;\n",
       "                }\n",
       "                if (data['text/html'] == html_output) {\n",
       "                    return [cell, data, j];\n",
       "                }\n",
       "            }\n",
       "        }\n",
       "    }\n",
       "}\n",
       "\n",
       "// Register the function which deals with the matplotlib target/channel.\n",
       "// The kernel may be null if the page has been refreshed.\n",
       "if (IPython.notebook.kernel != null) {\n",
       "    IPython.notebook.kernel.comm_manager.register_target('matplotlib', mpl.mpl_figure_comm);\n",
       "}\n"
      ],
      "text/plain": [
       "<IPython.core.display.Javascript object>"
      ]
     },
     "metadata": {},
     "output_type": "display_data"
    },
    {
     "data": {
      "text/html": [
       "<img src=\"data:image/png;base64,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\" width=\"432\">"
      ],
      "text/plain": [
       "<IPython.core.display.HTML object>"
      ]
     },
     "metadata": {},
     "output_type": "display_data"
    },
    {
     "data": {
      "text/plain": [
       "array([-4.9096864 ,  1.20691281,  0.29822077])"
      ]
     },
     "execution_count": 63,
     "metadata": {},
     "output_type": "execute_result"
    }
   ],
   "source": [
    "x = np.random.uniform(-10, 10, 1000)         #simulate data based on a true model with normal noise\n",
    "y = -5 + 1.2*x + 0.3*x**2 + np.random.normal(0, 3, 1000)\n",
    "\n",
    "x_b4 = np.array([np.ones(1000), x, x**2])\n",
    "# print(x_b4)\n",
    "X = np.array([np.ones(1000), x, x**2]).T               #calculate the least-squares estimates of the coefficients\n",
    "# print(X)\n",
    "beta_hat = np.dot(np.dot(np.linalg.inv(np.dot(X.T, X)), X.T), y)\n",
    "Y_hat = np.dot(X, beta_hat)\n",
    "\n",
    "plt.scatter(x, y, alpha=0.3)    #plot the data\n",
    "plt.plot(x, Y_hat, '.', c='r')   #show the least-squares fitted curve\n",
    "plt.show()\n",
    "\n",
    "beta_hat     #print the estimates of the coefficients"
   ]
  },
  {
   "cell_type": "code",
   "execution_count": 70,
   "metadata": {},
   "outputs": [
    {
     "ename": "ModuleNotFoundError",
     "evalue": "No module named 'scipy'",
     "output_type": "error",
     "traceback": [
      "\u001b[0;31m---------------------------------------------------------------------------\u001b[0m",
      "\u001b[0;31mModuleNotFoundError\u001b[0m                       Traceback (most recent call last)",
      "\u001b[0;32m<ipython-input-70-64f4da7d9890>\u001b[0m in \u001b[0;36m<module>\u001b[0;34m\u001b[0m\n\u001b[0;32m----> 1\u001b[0;31m \u001b[0;32mfrom\u001b[0m \u001b[0mscipy\u001b[0m \u001b[0;32mimport\u001b[0m \u001b[0mmisc\u001b[0m\u001b[0;34m\u001b[0m\u001b[0;34m\u001b[0m\u001b[0m\n\u001b[0m\u001b[1;32m      2\u001b[0m \u001b[0mget_ipython\u001b[0m\u001b[0;34m(\u001b[0m\u001b[0;34m)\u001b[0m\u001b[0;34m.\u001b[0m\u001b[0mrun_line_magic\u001b[0m\u001b[0;34m(\u001b[0m\u001b[0;34m'matplotlib'\u001b[0m\u001b[0;34m,\u001b[0m \u001b[0;34m'inline'\u001b[0m\u001b[0;34m)\u001b[0m\u001b[0;34m\u001b[0m\u001b[0;34m\u001b[0m\u001b[0m\n",
      "\u001b[0;31mModuleNotFoundError\u001b[0m: No module named 'scipy'"
     ]
    }
   ],
   "source": [
    "from scipy import misc\n",
    "%matplotlib inline"
   ]
  },
  {
   "cell_type": "code",
   "execution_count": 71,
   "metadata": {},
   "outputs": [
    {
     "ename": "NameError",
     "evalue": "name 'misc' is not defined",
     "output_type": "error",
     "traceback": [
      "\u001b[0;31m---------------------------------------------------------------------------\u001b[0m",
      "\u001b[0;31mNameError\u001b[0m                                 Traceback (most recent call last)",
      "\u001b[0;32m<ipython-input-71-de64f2405ec9>\u001b[0m in \u001b[0;36m<module>\u001b[0;34m\u001b[0m\n\u001b[0;32m----> 1\u001b[0;31m \u001b[0mimage\u001b[0m \u001b[0;34m=\u001b[0m \u001b[0mmisc\u001b[0m\u001b[0;34m.\u001b[0m\u001b[0mimread\u001b[0m\u001b[0;34m(\u001b[0m\u001b[0;34m\"yalelogo.jpeg\"\u001b[0m\u001b[0;34m)\u001b[0m\u001b[0;34m\u001b[0m\u001b[0;34m\u001b[0m\u001b[0m\n\u001b[0m\u001b[1;32m      2\u001b[0m \u001b[0mtype\u001b[0m\u001b[0;34m(\u001b[0m\u001b[0mimage\u001b[0m\u001b[0;34m)\u001b[0m\u001b[0;34m\u001b[0m\u001b[0;34m\u001b[0m\u001b[0m\n",
      "\u001b[0;31mNameError\u001b[0m: name 'misc' is not defined"
     ]
    }
   ],
   "source": [
    "image = misc.imread(\"yalelogo.jpeg\")\n",
    "type(image)"
   ]
  },
  {
   "cell_type": "code",
   "execution_count": 67,
   "metadata": {},
   "outputs": [
    {
     "ename": "NameError",
     "evalue": "name 'image' is not defined",
     "output_type": "error",
     "traceback": [
      "\u001b[0;31m---------------------------------------------------------------------------\u001b[0m",
      "\u001b[0;31mNameError\u001b[0m                                 Traceback (most recent call last)",
      "\u001b[0;32m<ipython-input-67-c989051d81a7>\u001b[0m in \u001b[0;36m<module>\u001b[0;34m\u001b[0m\n\u001b[0;32m----> 1\u001b[0;31m \u001b[0mnp\u001b[0m\u001b[0;34m.\u001b[0m\u001b[0mshape\u001b[0m\u001b[0;34m(\u001b[0m\u001b[0mimage\u001b[0m\u001b[0;34m)\u001b[0m\u001b[0;34m\u001b[0m\u001b[0;34m\u001b[0m\u001b[0m\n\u001b[0m",
      "\u001b[0;31mNameError\u001b[0m: name 'image' is not defined"
     ]
    }
   ],
   "source": [
    "np.shape(image)"
   ]
  },
  {
   "cell_type": "code",
   "execution_count": 68,
   "metadata": {
    "scrolled": true
   },
   "outputs": [
    {
     "ename": "NameError",
     "evalue": "name 'image' is not defined",
     "output_type": "error",
     "traceback": [
      "\u001b[0;31m---------------------------------------------------------------------------\u001b[0m",
      "\u001b[0;31mNameError\u001b[0m                                 Traceback (most recent call last)",
      "\u001b[0;32m<ipython-input-68-4a0740741e3b>\u001b[0m in \u001b[0;36m<module>\u001b[0;34m\u001b[0m\n\u001b[0;32m----> 1\u001b[0;31m \u001b[0mplt\u001b[0m\u001b[0;34m.\u001b[0m\u001b[0mimshow\u001b[0m\u001b[0;34m(\u001b[0m\u001b[0mimage\u001b[0m\u001b[0;34m[\u001b[0m\u001b[0;34m:\u001b[0m\u001b[0;34m,\u001b[0m\u001b[0;34m:\u001b[0m\u001b[0;34m,\u001b[0m\u001b[0;36m3\u001b[0m\u001b[0;34m]\u001b[0m\u001b[0;34m,\u001b[0m \u001b[0mcmap\u001b[0m\u001b[0;34m=\u001b[0m\u001b[0mplt\u001b[0m\u001b[0;34m.\u001b[0m\u001b[0mcm\u001b[0m\u001b[0;34m.\u001b[0m\u001b[0mBlues\u001b[0m\u001b[0;34m)\u001b[0m\u001b[0;34m\u001b[0m\u001b[0;34m\u001b[0m\u001b[0m\n\u001b[0m",
      "\u001b[0;31mNameError\u001b[0m: name 'image' is not defined"
     ]
    }
   ],
   "source": [
    "plt.imshow(image[:,:,3], cmap=plt.cm.Blues)"
   ]
  },
  {
   "cell_type": "code",
   "execution_count": 69,
   "metadata": {},
   "outputs": [
    {
     "name": "stdout",
     "output_type": "stream",
     "text": [
      "(150, 300)\n",
      "<class 'numpy.ndarray'>\n"
     ]
    },
    {
     "data": {
      "text/plain": [
       "<matplotlib.image.AxesImage at 0x11b7fbfd0>"
      ]
     },
     "execution_count": 69,
     "metadata": {},
     "output_type": "execute_result"
    }
   ],
   "source": [
    "image_matrix = np.array([[0.4*(i - 150)**2 + (j - 75)**2 for i in range(300)] for j in range(150)])\n",
    "print(np.shape(image_matrix))\n",
    "print(type(image_matrix))\n",
    "plt.imshow(image_matrix, cmap = plt.cm.afmhot)"
   ]
  },
  {
   "cell_type": "markdown",
   "metadata": {
    "collapsed": true
   },
   "source": [
    "# Python Equivalents of Common R Commands"
   ]
  },
  {
   "cell_type": "markdown",
   "metadata": {},
   "source": [
    "### Statistics\n"
   ]
  },
  {
   "cell_type": "code",
   "execution_count": null,
   "metadata": {
    "collapsed": true
   },
   "outputs": [],
   "source": [
    "#Python                                                        R\n",
    "x1 = np.random.normal(0, 2, 100)                        # x1 <- rnorm(100, 0, 2)\n",
    "x2 = np.random.uniform(-3, 8, 100)                      # x2 <- runif(100, -3, 8)\n",
    "x3 = np.random.gamma(2, 3, 100)                         # x3 <- rgamma(100, 2, scale = 3)"
   ]
  },
  {
   "cell_type": "code",
   "execution_count": null,
   "metadata": {
    "collapsed": true
   },
   "outputs": [],
   "source": [
    "np.mean(x1)                                             # mean(x1)"
   ]
  },
  {
   "cell_type": "code",
   "execution_count": null,
   "metadata": {
    "collapsed": true
   },
   "outputs": [],
   "source": [
    "np.std(x1)                                              # sd(x1)"
   ]
  },
  {
   "cell_type": "code",
   "execution_count": null,
   "metadata": {
    "collapsed": true
   },
   "outputs": [],
   "source": [
    "np.median(x2)                                           # median(x2)"
   ]
  },
  {
   "cell_type": "code",
   "execution_count": null,
   "metadata": {
    "collapsed": true
   },
   "outputs": [],
   "source": [
    "np.max(x2)                                              # max(x2)"
   ]
  },
  {
   "cell_type": "code",
   "execution_count": null,
   "metadata": {
    "collapsed": true
   },
   "outputs": [],
   "source": [
    "np.min(x2)                                              # min(x2)"
   ]
  },
  {
   "cell_type": "code",
   "execution_count": null,
   "metadata": {
    "collapsed": true
   },
   "outputs": [],
   "source": [
    "np.percentile(x3, 90)                                   # quantile(x3, 0.9)"
   ]
  },
  {
   "cell_type": "markdown",
   "metadata": {},
   "source": [
    "### Vectors and matrices"
   ]
  },
  {
   "cell_type": "code",
   "execution_count": null,
   "metadata": {
    "collapsed": true
   },
   "outputs": [],
   "source": [
    "#Python                                                         R\n",
    "vec1 = np.linspace(-6, 10, 10)                         # vec1 <- seq(-6, 10, length.out = 10)\n",
    "vec2 = np.arange(10)                                   # vec2 = 0:9"
   ]
  },
  {
   "cell_type": "code",
   "execution_count": null,
   "metadata": {
    "collapsed": true
   },
   "outputs": [],
   "source": [
    "np.sort(vec1**2)                                       # sort(vec1^2)"
   ]
  },
  {
   "cell_type": "code",
   "execution_count": null,
   "metadata": {
    "collapsed": true
   },
   "outputs": [],
   "source": [
    "np.argsort(vec1**2)                                    # order(vec1^2)"
   ]
  },
  {
   "cell_type": "code",
   "execution_count": null,
   "metadata": {
    "collapsed": true
   },
   "outputs": [],
   "source": [
    "np.where((vec1 >= 3) & (vec1 < 9))[0]                  # which((vec1 >= 3) & (vec1 < 9))"
   ]
  },
  {
   "cell_type": "code",
   "execution_count": null,
   "metadata": {
    "collapsed": true
   },
   "outputs": [],
   "source": [
    "np.vstack((vec1, vec2))                                # rbind(vec1, vec2)"
   ]
  },
  {
   "cell_type": "code",
   "execution_count": null,
   "metadata": {
    "collapsed": true
   },
   "outputs": [],
   "source": [
    "np.vstack((vec1, vec2)).T                             # cbind(vec1, vec2)"
   ]
  },
  {
   "cell_type": "code",
   "execution_count": null,
   "metadata": {
    "collapsed": true
   },
   "outputs": [],
   "source": [
    "np.dot(vec1, vec2)                                    # t(vec1) %*% vec2"
   ]
  },
  {
   "cell_type": "markdown",
   "metadata": {},
   "source": [
    "### Math Operations"
   ]
  },
  {
   "cell_type": "code",
   "execution_count": null,
   "metadata": {
    "collapsed": true
   },
   "outputs": [],
   "source": [
    "# Python                                                      R\n",
    "x = np.pi                                             # x = pi\n",
    "np.sin(x)                                             # sin(x)"
   ]
  },
  {
   "cell_type": "code",
   "execution_count": null,
   "metadata": {
    "collapsed": true
   },
   "outputs": [],
   "source": [
    "np.cos(x)                                             # cos(x)"
   ]
  },
  {
   "cell_type": "code",
   "execution_count": null,
   "metadata": {
    "collapsed": true
   },
   "outputs": [],
   "source": [
    "np.tan(x)                                             # tan(x)"
   ]
  },
  {
   "cell_type": "code",
   "execution_count": null,
   "metadata": {
    "collapsed": true
   },
   "outputs": [],
   "source": [
    "np.exp(x)                                             # exp(x)"
   ]
  },
  {
   "cell_type": "code",
   "execution_count": null,
   "metadata": {
    "collapsed": true
   },
   "outputs": [],
   "source": [
    "np.log(x)                                             # log(x)"
   ]
  },
  {
   "cell_type": "markdown",
   "metadata": {},
   "source": [
    "# Example: Linear Regression"
   ]
  },
  {
   "cell_type": "markdown",
   "metadata": {},
   "source": [
    "To perform linear regression in python we need to import a package such as <i>statsmodels, scipy, sklearn,</i> etc. There are also ways to do it directly with pandas dataframes, <i>Tensorflow</i>, etc."
   ]
  },
  {
   "cell_type": "markdown",
   "metadata": {},
   "source": [
    "$Sepal.Length_{i} = \\beta_{0} + \\beta_{1} Sepal.Width_{i} + \\beta_{2} Petal.Width_{i} + \\beta_{3} Petal.Length_{i} + \\varepsilon_{i}$"
   ]
  },
  {
   "cell_type": "code",
   "execution_count": null,
   "metadata": {},
   "outputs": [],
   "source": [
    "import statsmodels.api as sm\n",
    "model = sm.OLS(iris[\"Sepal.Length\"], sm.add_constant(iris[[\"Sepal.Width\", \"Petal.Width\", \"Petal.Length\"]])).fit()"
   ]
  },
  {
   "cell_type": "code",
   "execution_count": null,
   "metadata": {},
   "outputs": [],
   "source": [
    "print(model.summary())"
   ]
  },
  {
   "cell_type": "code",
   "execution_count": null,
   "metadata": {
    "collapsed": true
   },
   "outputs": [],
   "source": []
  }
 ],
 "metadata": {
  "kernelspec": {
   "display_name": "Python 3",
   "language": "python",
   "name": "python3"
  },
  "language_info": {
   "codemirror_mode": {
    "name": "ipython",
    "version": 3
   },
   "file_extension": ".py",
   "mimetype": "text/x-python",
   "name": "python",
   "nbconvert_exporter": "python",
   "pygments_lexer": "ipython3",
   "version": "3.7.4"
  }
 },
 "nbformat": 4,
 "nbformat_minor": 2
}
