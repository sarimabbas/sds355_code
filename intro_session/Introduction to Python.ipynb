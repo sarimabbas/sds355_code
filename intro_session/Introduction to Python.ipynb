{
 "cells": [
  {
   "cell_type": "markdown",
   "metadata": {},
   "source": [
    "# Jupyter Notebook structure"
   ]
  },
  {
   "cell_type": "markdown",
   "metadata": {},
   "source": [
    "Jupyter notebooks have two types of cells: one for notes/markdown (like this one) and one for code (like the next one). To run any cell and proceed to the next cell, use Shift-Enter. To run a cell and keep the focus in that cell, use Ctrl-Enter. There are two modes of each cell: Command mode (highlighted in blue on the left) and Edit mode (highlighted in green). To get a list of keyboard shortcuts for each mode, go to \"Keyboard Shortcuts\" in the above \"Help\" pulldown menu.\n",
    "\n",
    "Please note that there are <i>many</i> helpful tutorials for Python on the web. With a little Googling you should be able to find one that suits your tastes and skill level. For example, for a focus on machine learning you could look [here](https://www.quora.com/What-is-the-best-Python-tutorial-for-machine-learning). If you'd like any suggestions, let us know. \n"
   ]
  },
  {
   "cell_type": "code",
   "execution_count": null,
   "metadata": {},
   "outputs": [],
   "source": [
    "6*9**2 - 486 + 54"
   ]
  },
  {
   "cell_type": "markdown",
   "metadata": {},
   "source": [
    "Each cell for code can be run in any order. The notebook indicates next to it the order in which they have been run in. Code cells also have an output that is printed right below it."
   ]
  },
  {
   "cell_type": "markdown",
   "metadata": {},
   "source": [
    "# Python Syntax"
   ]
  },
  {
   "cell_type": "code",
   "execution_count": null,
   "metadata": {},
   "outputs": [],
   "source": [
    "#The symbol for comments in code is the same as in R: the '#' symbol\n",
    "euler = 2.71828     #to assign a value to a variable use the '=' symbol\n",
    "euler            #to view the value of a variable, put it as the last line of the cell"
   ]
  },
  {
   "cell_type": "markdown",
   "metadata": {},
   "source": [
    "One of the main characteristics of python is its intentional \"easy to read and write\" syntax. Many programming languages such as C, C++, Java, etc. require the use of semicolons at the end of statements. Others, including R and Python, interpret the end of a line as the end of a statement. In almost every language there is no requirement for indentations when using conditional statements and loops, and consequently there is a requirement for brackets and parenthases. In Python brackets and parenthases are kept to minimal use and indentation is a requirement."
   ]
  },
  {
   "cell_type": "code",
   "execution_count": null,
   "metadata": {},
   "outputs": [],
   "source": [
    "for i in range(5,10):    #the range(k,j) function is mostly the same as k:j in R, but is meant for loops.\n",
    "    q = i + 6 - 8  #addition and subtraction\n",
    "    q = (q*10)/4   #multiplication and division\n",
    "    print((i,q**2))    #exponentiation"
   ]
  },
  {
   "cell_type": "code",
   "execution_count": null,
   "metadata": {},
   "outputs": [],
   "source": [
    "h = 0\n",
    "while h > -15 and h <= 15:\n",
    "    h = h**2 +1\n",
    "    print(h)"
   ]
  },
  {
   "cell_type": "code",
   "execution_count": null,
   "metadata": {},
   "outputs": [],
   "source": [
    "for j in range(10):\n",
    "    if j%2 == 0 or j%7 == 0:  #if statements and modular arithmetic\n",
    "        print(j)\n",
    "    else:\n",
    "        print(\"So sad\")    "
   ]
  },
  {
   "cell_type": "markdown",
   "metadata": {},
   "source": [
    "# Lists"
   ]
  },
  {
   "cell_type": "markdown",
   "metadata": {},
   "source": [
    "Some of the most well known features of python are related to its use of lists."
   ]
  },
  {
   "cell_type": "code",
   "execution_count": null,
   "metadata": {},
   "outputs": [],
   "source": [
    "h = []    #to define a list use square brackets. This is kind of like c() in R, but is a list instead of a vector/array\n",
    "type(h)"
   ]
  },
  {
   "cell_type": "code",
   "execution_count": null,
   "metadata": {},
   "outputs": [],
   "source": [
    "h = [(i**2 +3)%5 for i in range(10)]  #this way of building a list with a loop inside the brackets is called \"list comprehension\"\n",
    "h"
   ]
  },
  {
   "cell_type": "markdown",
   "metadata": {},
   "source": [
    "The above kind of expression is very handy in Python. It's called a [list comprehension](https://docs.python.org/3/tutorial/datastructures.html#list-comprehensions)"
   ]
  },
  {
   "cell_type": "code",
   "execution_count": null,
   "metadata": {},
   "outputs": [],
   "source": [
    "len(h)    #get the length of a list with the len() function, which is equivalent to R's length() function"
   ]
  },
  {
   "cell_type": "code",
   "execution_count": null,
   "metadata": {},
   "outputs": [],
   "source": [
    "h[0]    #index a list with square brackets, with 0 (instead of 1 as in R) representing the first element"
   ]
  },
  {
   "cell_type": "code",
   "execution_count": null,
   "metadata": {},
   "outputs": [],
   "source": [
    "h[0:2]   #index a range of elements in a list with the ':' symbol which starts with the first number and goes (exclusively) to\n",
    "         #the last number"
   ]
  },
  {
   "cell_type": "code",
   "execution_count": null,
   "metadata": {},
   "outputs": [],
   "source": [
    "h[:2]    #the first number can even be left off if we start from the beginning"
   ]
  },
  {
   "cell_type": "code",
   "execution_count": null,
   "metadata": {},
   "outputs": [],
   "source": [
    "h[5:]    #and of course the last number can be left off if we go until the end"
   ]
  },
  {
   "cell_type": "code",
   "execution_count": null,
   "metadata": {},
   "outputs": [],
   "source": [
    "#What if we want to get the last element? In R we would need to do h[length(h)]. Python is a lot simpler\n",
    "print(h[len(h)-1])\n",
    "h[-1]"
   ]
  },
  {
   "cell_type": "code",
   "execution_count": null,
   "metadata": {},
   "outputs": [],
   "source": [
    "h[-3:]    #get the last 3 elements of a list"
   ]
  },
  {
   "cell_type": "markdown",
   "metadata": {},
   "source": [
    "So what math operations can be applied to lists?"
   ]
  },
  {
   "cell_type": "code",
   "execution_count": null,
   "metadata": {},
   "outputs": [],
   "source": [
    "a = [1,2,3]\n",
    "b = [7,8,9]\n",
    "a + b     #Adding lists concatenates the two lists in the respective order"
   ]
  },
  {
   "cell_type": "code",
   "execution_count": null,
   "metadata": {},
   "outputs": [],
   "source": [
    "a = ['hello', 2, \"u\"]   #and anything can go into a list\n",
    "b = [\"bye\", 874]\n",
    "a + b"
   ]
  },
  {
   "cell_type": "code",
   "execution_count": null,
   "metadata": {},
   "outputs": [],
   "source": [
    "#So does subtraction remove elements from a list?\n",
    "l1 = ['a', 'b', 'c']\n",
    "l2 = ['c']\n",
    "l1 - l2"
   ]
  },
  {
   "cell_type": "code",
   "execution_count": null,
   "metadata": {},
   "outputs": [],
   "source": [
    "#Nope, one needs to use the .remove() function to do this\n",
    "l1.remove('c')\n",
    "l1"
   ]
  },
  {
   "cell_type": "code",
   "execution_count": null,
   "metadata": {},
   "outputs": [],
   "source": [
    "g = [1,2]\n",
    "6*g     #multiplication by an integer n concatenates n copies of that list together"
   ]
  },
  {
   "cell_type": "code",
   "execution_count": null,
   "metadata": {},
   "outputs": [],
   "source": [
    "#In order to do math operations on the elements of a list, we need to convert it to an array\n",
    "import numpy as np    #import packages with the import command, kind of like library() in R\n",
    "g2 = [1,2,3,4]\n",
    "3.14*g2"
   ]
  },
  {
   "cell_type": "code",
   "execution_count": null,
   "metadata": {},
   "outputs": [],
   "source": [
    "3.14*np.array(g2)"
   ]
  },
  {
   "cell_type": "code",
   "execution_count": null,
   "metadata": {},
   "outputs": [],
   "source": [
    "g1 = np.array([1,2,3,4])\n",
    "g2 = np.array([5,10,15,20])\n",
    "g1 + g2"
   ]
  },
  {
   "cell_type": "code",
   "execution_count": null,
   "metadata": {},
   "outputs": [],
   "source": [
    "g1 - g2"
   ]
  },
  {
   "cell_type": "code",
   "execution_count": null,
   "metadata": {},
   "outputs": [],
   "source": [
    "g1*g2"
   ]
  },
  {
   "cell_type": "code",
   "execution_count": null,
   "metadata": {},
   "outputs": [],
   "source": [
    "g2/g1"
   ]
  },
  {
   "cell_type": "code",
   "execution_count": null,
   "metadata": {},
   "outputs": [],
   "source": [
    "g3 = np.array([1, 2, 1, 2])\n",
    "g1**g3"
   ]
  },
  {
   "cell_type": "markdown",
   "metadata": {},
   "source": [
    "## Warning:\n",
    "While lists are very flexible and easy to work with in python, there is also a major caution about them. If you define a list, set a new list equal to it, and perform some operation on the new list, the same operation is automatically applied to the original list."
   ]
  },
  {
   "cell_type": "code",
   "execution_count": null,
   "metadata": {},
   "outputs": [],
   "source": [
    "list1 = [(2*j)%3 for j in range(2,5)]\n",
    "list1"
   ]
  },
  {
   "cell_type": "code",
   "execution_count": null,
   "metadata": {},
   "outputs": [],
   "source": [
    "list2 = list1\n",
    "list2"
   ]
  },
  {
   "cell_type": "code",
   "execution_count": null,
   "metadata": {},
   "outputs": [],
   "source": [
    "list2[0] = -600\n",
    "list1"
   ]
  },
  {
   "cell_type": "markdown",
   "metadata": {},
   "source": [
    "To get around this issue, you can normally use the list() function and you'll be fine. This constructs a new list rather than creating a reference to the original list."
   ]
  },
  {
   "cell_type": "code",
   "execution_count": null,
   "metadata": {},
   "outputs": [],
   "source": [
    "list1 = [(2*j)%3 for j in range(2,5)]\n",
    "list2 = list(list1)\n",
    "list2[0] = 600\n",
    "list1"
   ]
  },
  {
   "cell_type": "markdown",
   "metadata": {},
   "source": [
    "# Strings"
   ]
  },
  {
   "cell_type": "markdown",
   "metadata": {},
   "source": [
    "Strings are often easier to work with in python than R, simply because of many built in operations that work on them"
   ]
  },
  {
   "cell_type": "code",
   "execution_count": null,
   "metadata": {
    "collapsed": true
   },
   "outputs": [],
   "source": [
    "#Just like in R, you can use either single quotes 'string' or double quotes \"string\" in defining a string\n",
    "s1 = 'look at-this_string!'\n",
    "s2 = \"Look at this 1 2!!!\""
   ]
  },
  {
   "cell_type": "code",
   "execution_count": null,
   "metadata": {},
   "outputs": [],
   "source": [
    "s1[:4]   #index a range of characters in a string"
   ]
  },
  {
   "cell_type": "code",
   "execution_count": null,
   "metadata": {},
   "outputs": [],
   "source": [
    "splitted = s2.split(\"this\")    #split a string at a given sequence of characters to create a list\n",
    "splitted"
   ]
  },
  {
   "cell_type": "code",
   "execution_count": null,
   "metadata": {},
   "outputs": [],
   "source": [
    "splitted2 = s2.split(' ')\n",
    "splitted2"
   ]
  },
  {
   "cell_type": "code",
   "execution_count": null,
   "metadata": {},
   "outputs": [],
   "source": [
    "s1 + s2        #adding two strings concatenates them together in the respective order"
   ]
  },
  {
   "cell_type": "code",
   "execution_count": null,
   "metadata": {},
   "outputs": [],
   "source": [
    "3*s2          #multiplying a string by an positive integer n concatenates n copies of that string"
   ]
  },
  {
   "cell_type": "code",
   "execution_count": null,
   "metadata": {},
   "outputs": [],
   "source": [
    "integer1 = -9\n",
    "float1 = 3.1415\n",
    "string1 = 'Yale'\n",
    "\"How %d cool can st%frings get at %s !!\"%(integer1, float1, string1)   #insert the value of a variable into a string. Kind of\n",
    "                                                                         #like paste0() in R."
   ]
  },
  {
   "cell_type": "markdown",
   "metadata": {},
   "source": [
    "There's a plethora of additional string operations available in the \"re\" package. Check it out!"
   ]
  },
  {
   "cell_type": "markdown",
   "metadata": {},
   "source": [
    "# Functions"
   ]
  },
  {
   "cell_type": "markdown",
   "metadata": {},
   "source": [
    "Other than the way they are defined, functions work essentially the same in Python as they do in R. Parenthases are for the arguments of the function, and remember that indentation is required for the tasks of the function."
   ]
  },
  {
   "cell_type": "code",
   "execution_count": null,
   "metadata": {
    "collapsed": true
   },
   "outputs": [],
   "source": [
    "def myfunction(a, b = \"great\"):    #define a function with 'def', the same as 'myfunction <- function(a, b = \"great\"){}' in R\n",
    "    h = [i*a for i in range(5)]\n",
    "    for j in range(len(h)):\n",
    "        h[j] = str(h[j]) + b\n",
    "    return(h)"
   ]
  },
  {
   "cell_type": "code",
   "execution_count": null,
   "metadata": {},
   "outputs": [],
   "source": [
    "myfunction(1)"
   ]
  },
  {
   "cell_type": "code",
   "execution_count": null,
   "metadata": {},
   "outputs": [],
   "source": [
    "myfunction(5, b = \" bulldogs\")"
   ]
  },
  {
   "cell_type": "markdown",
   "metadata": {},
   "source": [
    "# Dataframes"
   ]
  },
  {
   "cell_type": "markdown",
   "metadata": {},
   "source": [
    "Dataframes are the most standard way of organizing data. They are similar to a matrix with each row representing a single observation and each column representing a variable. Dataframes in python work almost exactly the same as in R. The <i>pandas</i> package is what almost everyone uses for this."
   ]
  },
  {
   "cell_type": "code",
   "execution_count": null,
   "metadata": {
    "collapsed": true
   },
   "outputs": [],
   "source": [
    "import pandas as pd"
   ]
  },
  {
   "cell_type": "code",
   "execution_count": null,
   "metadata": {},
   "outputs": [],
   "source": [
    "iris = pd.read_csv(\"iris.csv\")    #read in the dataset in the file \"iris.csv\" as a dataframe\n",
    "iris                #view the dataframe"
   ]
  },
  {
   "cell_type": "code",
   "execution_count": null,
   "metadata": {},
   "outputs": [],
   "source": [
    "iris[\"Sepal.Width\"].values            #select the column for Sepal.Width as an array"
   ]
  },
  {
   "cell_type": "code",
   "execution_count": null,
   "metadata": {},
   "outputs": [],
   "source": [
    "iris_virginica = iris[iris[\"Species\"] == \"virginica\"]\n",
    "iris_virginica"
   ]
  },
  {
   "cell_type": "markdown",
   "metadata": {},
   "source": [
    "There is a whole plethora of things you can do with pandas dataframes. For more details on them see [this link](https://towardsdatascience.com/pandas-dataframe-a-lightweight-intro-680e3a212b96) or just search <i>pandas dataframes</i> online."
   ]
  },
  {
   "cell_type": "markdown",
   "metadata": {},
   "source": [
    "# Plotting Data"
   ]
  },
  {
   "cell_type": "code",
   "execution_count": null,
   "metadata": {
    "collapsed": true
   },
   "outputs": [],
   "source": [
    "import matplotlib.pyplot as plt  #to plot data, one would need to import a plotting package. matplotlib.pyplot is my favorite"
   ]
  },
  {
   "cell_type": "code",
   "execution_count": null,
   "metadata": {},
   "outputs": [],
   "source": [
    "x = np.linspace(-5, 5, 100)\n",
    "y = 0.5*x**2\n",
    "plt.plot(x, y)    #plot the data\n",
    "plt.xlabel(\"X-Axis\", fontsize=14)   #add a label to the x axis\n",
    "plt.ylabel(\"Y-Axis\", fontsize=14)    #add a label to the y axis\n",
    "plt.title(\"Python Plot\", fontsize=16)   #add a plot title\n",
    "plt.show()    #Show us the full plot"
   ]
  },
  {
   "cell_type": "code",
   "execution_count": null,
   "metadata": {},
   "outputs": [],
   "source": [
    "randomx = np.random.normal(2, 1, 1000)    #does the same thing as 'rnorm(1000, 2, 1)' in R\n",
    "randomx2 = np.random.uniform(4, 0, 1000)   #same as 'runif(1000, 0, 4)' in R\n",
    "plt.hist(randomx, color='blue')       #plot the histogram of a single variable\n",
    "plt.hist(randomx2, color='red', histtype=u'step', lw=3)      #plot another histogram on top of the first but don't fill in bins\n",
    "plt.show()"
   ]
  },
  {
   "cell_type": "code",
   "execution_count": null,
   "metadata": {},
   "outputs": [],
   "source": [
    "x = np.random.uniform(-10, 10, 1000)         #simulate data based on a true model with normal noise\n",
    "y = -5 + 1.2*x + 0.3*x**2 + np.random.normal(0, 3, 1000)\n",
    "\n",
    "X = np.array([np.ones(1000), x, x**2]).T               #calculate the least-squares estimates of the coefficients\n",
    "beta_hat = np.dot(np.dot(np.linalg.inv(np.dot(X.T, X)), X.T), y)\n",
    "Y_hat = np.dot(X, beta_hat)\n",
    "\n",
    "plt.scatter(x, y, alpha=0.3)    #plot the data\n",
    "plt.plot(x, Y_hat, '.', c='r')   #show the least-squares fitted curve\n",
    "plt.show()\n",
    "\n",
    "beta_hat     #print the estimates of the coefficients"
   ]
  },
  {
   "cell_type": "code",
   "execution_count": null,
   "metadata": {
    "collapsed": true
   },
   "outputs": [],
   "source": [
    "from scipy import misc\n",
    "%matplotlib inline"
   ]
  },
  {
   "cell_type": "code",
   "execution_count": null,
   "metadata": {},
   "outputs": [],
   "source": [
    "image = misc.imread(\"yalelogo.jpeg\")\n",
    "type(image)"
   ]
  },
  {
   "cell_type": "code",
   "execution_count": null,
   "metadata": {},
   "outputs": [],
   "source": [
    "np.shape(image)"
   ]
  },
  {
   "cell_type": "code",
   "execution_count": null,
   "metadata": {
    "scrolled": true
   },
   "outputs": [],
   "source": [
    "plt.imshow(image[:,:,3], cmap=plt.cm.Blues)"
   ]
  },
  {
   "cell_type": "code",
   "execution_count": null,
   "metadata": {},
   "outputs": [],
   "source": [
    "image_matrix = np.array([[0.4*(i - 150)**2 + (j - 75)**2 for i in range(300)] for j in range(150)])\n",
    "print(np.shape(image_matrix))\n",
    "print(type(image_matrix))\n",
    "plt.imshow(image_matrix, cmap = plt.cm.afmhot)"
   ]
  },
  {
   "cell_type": "markdown",
   "metadata": {
    "collapsed": true
   },
   "source": [
    "# Python Equivalents of Common R Commands"
   ]
  },
  {
   "cell_type": "markdown",
   "metadata": {},
   "source": [
    "### Statistics\n"
   ]
  },
  {
   "cell_type": "code",
   "execution_count": null,
   "metadata": {
    "collapsed": true
   },
   "outputs": [],
   "source": [
    "#Python                                                        R\n",
    "x1 = np.random.normal(0, 2, 100)                        # x1 <- rnorm(100, 0, 2)\n",
    "x2 = np.random.uniform(-3, 8, 100)                      # x2 <- runif(100, -3, 8)\n",
    "x3 = np.random.gamma(2, 3, 100)                         # x3 <- rgamma(100, 2, scale = 3)"
   ]
  },
  {
   "cell_type": "code",
   "execution_count": null,
   "metadata": {
    "collapsed": true
   },
   "outputs": [],
   "source": [
    "np.mean(x1)                                             # mean(x1)"
   ]
  },
  {
   "cell_type": "code",
   "execution_count": null,
   "metadata": {
    "collapsed": true
   },
   "outputs": [],
   "source": [
    "np.std(x1)                                              # sd(x1)"
   ]
  },
  {
   "cell_type": "code",
   "execution_count": null,
   "metadata": {
    "collapsed": true
   },
   "outputs": [],
   "source": [
    "np.median(x2)                                           # median(x2)"
   ]
  },
  {
   "cell_type": "code",
   "execution_count": null,
   "metadata": {
    "collapsed": true
   },
   "outputs": [],
   "source": [
    "np.max(x2)                                              # max(x2)"
   ]
  },
  {
   "cell_type": "code",
   "execution_count": null,
   "metadata": {
    "collapsed": true
   },
   "outputs": [],
   "source": [
    "np.min(x2)                                              # min(x2)"
   ]
  },
  {
   "cell_type": "code",
   "execution_count": null,
   "metadata": {
    "collapsed": true
   },
   "outputs": [],
   "source": [
    "np.percentile(x3, 90)                                   # quantile(x3, 0.9)"
   ]
  },
  {
   "cell_type": "markdown",
   "metadata": {},
   "source": [
    "### Vectors and matrices"
   ]
  },
  {
   "cell_type": "code",
   "execution_count": null,
   "metadata": {
    "collapsed": true
   },
   "outputs": [],
   "source": [
    "#Python                                                         R\n",
    "vec1 = np.linspace(-6, 10, 10)                         # vec1 <- seq(-6, 10, length.out = 10)\n",
    "vec2 = np.arange(10)                                   # vec2 = 0:9"
   ]
  },
  {
   "cell_type": "code",
   "execution_count": null,
   "metadata": {
    "collapsed": true
   },
   "outputs": [],
   "source": [
    "np.sort(vec1**2)                                       # sort(vec1^2)"
   ]
  },
  {
   "cell_type": "code",
   "execution_count": null,
   "metadata": {
    "collapsed": true
   },
   "outputs": [],
   "source": [
    "np.argsort(vec1**2)                                    # order(vec1^2)"
   ]
  },
  {
   "cell_type": "code",
   "execution_count": null,
   "metadata": {
    "collapsed": true
   },
   "outputs": [],
   "source": [
    "np.where((vec1 >= 3) & (vec1 < 9))[0]                  # which((vec1 >= 3) & (vec1 < 9))"
   ]
  },
  {
   "cell_type": "code",
   "execution_count": null,
   "metadata": {
    "collapsed": true
   },
   "outputs": [],
   "source": [
    "np.vstack((vec1, vec2))                                # rbind(vec1, vec2)"
   ]
  },
  {
   "cell_type": "code",
   "execution_count": null,
   "metadata": {
    "collapsed": true
   },
   "outputs": [],
   "source": [
    "np.vstack((vec1, vec2)).T                             # cbind(vec1, vec2)"
   ]
  },
  {
   "cell_type": "code",
   "execution_count": null,
   "metadata": {
    "collapsed": true
   },
   "outputs": [],
   "source": [
    "np.dot(vec1, vec2)                                    # t(vec1) %*% vec2"
   ]
  },
  {
   "cell_type": "markdown",
   "metadata": {},
   "source": [
    "### Math Operations"
   ]
  },
  {
   "cell_type": "code",
   "execution_count": null,
   "metadata": {
    "collapsed": true
   },
   "outputs": [],
   "source": [
    "# Python                                                      R\n",
    "x = np.pi                                             # x = pi\n",
    "np.sin(x)                                             # sin(x)"
   ]
  },
  {
   "cell_type": "code",
   "execution_count": null,
   "metadata": {
    "collapsed": true
   },
   "outputs": [],
   "source": [
    "np.cos(x)                                             # cos(x)"
   ]
  },
  {
   "cell_type": "code",
   "execution_count": null,
   "metadata": {
    "collapsed": true
   },
   "outputs": [],
   "source": [
    "np.tan(x)                                             # tan(x)"
   ]
  },
  {
   "cell_type": "code",
   "execution_count": null,
   "metadata": {
    "collapsed": true
   },
   "outputs": [],
   "source": [
    "np.exp(x)                                             # exp(x)"
   ]
  },
  {
   "cell_type": "code",
   "execution_count": null,
   "metadata": {
    "collapsed": true
   },
   "outputs": [],
   "source": [
    "np.log(x)                                             # log(x)"
   ]
  },
  {
   "cell_type": "markdown",
   "metadata": {},
   "source": [
    "# Example: Linear Regression"
   ]
  },
  {
   "cell_type": "markdown",
   "metadata": {},
   "source": [
    "To perform linear regression in python we need to import a package such as <i>statsmodels, scipy, sklearn,</i> etc. There are also ways to do it directly with pandas dataframes, <i>Tensorflow</i>, etc."
   ]
  },
  {
   "cell_type": "markdown",
   "metadata": {},
   "source": [
    "$Sepal.Length_{i} = \\beta_{0} + \\beta_{1} Sepal.Width_{i} + \\beta_{2} Petal.Width_{i} + \\beta_{3} Petal.Length_{i} + \\varepsilon_{i}$"
   ]
  },
  {
   "cell_type": "code",
   "execution_count": null,
   "metadata": {},
   "outputs": [],
   "source": [
    "import statsmodels.api as sm\n",
    "model = sm.OLS(iris[\"Sepal.Length\"], sm.add_constant(iris[[\"Sepal.Width\", \"Petal.Width\", \"Petal.Length\"]])).fit()"
   ]
  },
  {
   "cell_type": "code",
   "execution_count": null,
   "metadata": {},
   "outputs": [],
   "source": [
    "print(model.summary())"
   ]
  },
  {
   "cell_type": "code",
   "execution_count": null,
   "metadata": {
    "collapsed": true
   },
   "outputs": [],
   "source": []
  }
 ],
 "metadata": {
  "kernelspec": {
   "display_name": "Python 3",
   "language": "python",
   "name": "python3"
  },
  "language_info": {
   "codemirror_mode": {
    "name": "ipython",
    "version": 3
   },
   "file_extension": ".py",
   "mimetype": "text/x-python",
   "name": "python",
   "nbconvert_exporter": "python",
   "pygments_lexer": "ipython3",
   "version": "3.7.4"
  }
 },
 "nbformat": 4,
 "nbformat_minor": 2
}
